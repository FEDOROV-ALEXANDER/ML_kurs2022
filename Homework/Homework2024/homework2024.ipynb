{
 "cells": [
  {
   "cell_type": "code",
   "id": "initial_id",
   "metadata": {
    "collapsed": true,
    "ExecuteTime": {
     "end_time": "2024-11-26T06:56:32.483857Z",
     "start_time": "2024-11-26T06:56:32.481669Z"
    }
   },
   "source": [
    "import pandas as pd\n",
    "import numpy as np\n",
    "import matplotlib.pyplot as plt\n",
    "import seaborn as sns\n"
   ],
   "outputs": [],
   "execution_count": 136
  },
  {
   "metadata": {},
   "cell_type": "markdown",
   "source": "Работа с air_reserve. Буду определять что за датасет, количество ненулевых и уникальных значений",
   "id": "a2743bd1d8538625"
  },
  {
   "metadata": {},
   "cell_type": "markdown",
   "source": "Общий план: импортирую датафреймы для air, привожу их к дням, где надо и потом объединяю. Чищу от аномалий, думаю над пропусками и тд",
   "id": "63750c3fb9498110"
  },
  {
   "metadata": {
    "ExecuteTime": {
     "end_time": "2024-11-26T06:56:33.567076Z",
     "start_time": "2024-11-26T06:56:32.510001Z"
    }
   },
   "cell_type": "code",
   "source": [
    "df_air_reserve = pd.read_csv('recruit-restaurant-visitor-forecasting/air_reserve.csv')\n",
    "df_air_store_info = pd.read_csv('recruit-restaurant-visitor-forecasting/air_store_info.csv')\n",
    "df_visit_data = pd.read_csv('recruit-restaurant-visitor-forecasting/air_visit_data.csv')\n",
    "hpg_df = pd.read_csv('recruit-restaurant-visitor-forecasting/hpg_reserve.csv')\n",
    "store_id_relation = pd.read_csv('recruit-restaurant-visitor-forecasting/store_id_relation.csv')\n",
    "hpg_store = pd.read_csv('recruit-restaurant-visitor-forecasting/hpg_store_info.csv')\n",
    "date_df = pd.read_csv('recruit-restaurant-visitor-forecasting/date_info.csv')"
   ],
   "id": "8fe4328a9d01a129",
   "outputs": [],
   "execution_count": 137
  },
  {
   "metadata": {
    "ExecuteTime": {
     "end_time": "2024-11-26T06:56:33.698395Z",
     "start_time": "2024-11-26T06:56:33.695115Z"
    }
   },
   "cell_type": "code",
   "source": "store_id_relation.shape\n",
   "id": "4ab72d2477179751",
   "outputs": [
    {
     "data": {
      "text/plain": [
       "(150, 2)"
      ]
     },
     "execution_count": 138,
     "metadata": {},
     "output_type": "execute_result"
    }
   ],
   "execution_count": 138
  },
  {
   "metadata": {
    "ExecuteTime": {
     "end_time": "2024-11-26T06:56:33.749481Z",
     "start_time": "2024-11-26T06:56:33.745402Z"
    }
   },
   "cell_type": "code",
   "source": [
    "print(date_df.shape)\n",
    "date_df"
   ],
   "id": "bb42c0666b596112",
   "outputs": [
    {
     "name": "stdout",
     "output_type": "stream",
     "text": [
      "(517, 3)\n"
     ]
    },
    {
     "data": {
      "text/plain": [
       "    calendar_date day_of_week  holiday_flg\n",
       "0      2016-01-01      Friday            1\n",
       "1      2016-01-02    Saturday            1\n",
       "2      2016-01-03      Sunday            1\n",
       "3      2016-01-04      Monday            0\n",
       "4      2016-01-05     Tuesday            0\n",
       "..            ...         ...          ...\n",
       "512    2017-05-27    Saturday            0\n",
       "513    2017-05-28      Sunday            0\n",
       "514    2017-05-29      Monday            0\n",
       "515    2017-05-30     Tuesday            0\n",
       "516    2017-05-31   Wednesday            0\n",
       "\n",
       "[517 rows x 3 columns]"
      ],
      "text/html": [
       "<div>\n",
       "<style scoped>\n",
       "    .dataframe tbody tr th:only-of-type {\n",
       "        vertical-align: middle;\n",
       "    }\n",
       "\n",
       "    .dataframe tbody tr th {\n",
       "        vertical-align: top;\n",
       "    }\n",
       "\n",
       "    .dataframe thead th {\n",
       "        text-align: right;\n",
       "    }\n",
       "</style>\n",
       "<table border=\"1\" class=\"dataframe\">\n",
       "  <thead>\n",
       "    <tr style=\"text-align: right;\">\n",
       "      <th></th>\n",
       "      <th>calendar_date</th>\n",
       "      <th>day_of_week</th>\n",
       "      <th>holiday_flg</th>\n",
       "    </tr>\n",
       "  </thead>\n",
       "  <tbody>\n",
       "    <tr>\n",
       "      <th>0</th>\n",
       "      <td>2016-01-01</td>\n",
       "      <td>Friday</td>\n",
       "      <td>1</td>\n",
       "    </tr>\n",
       "    <tr>\n",
       "      <th>1</th>\n",
       "      <td>2016-01-02</td>\n",
       "      <td>Saturday</td>\n",
       "      <td>1</td>\n",
       "    </tr>\n",
       "    <tr>\n",
       "      <th>2</th>\n",
       "      <td>2016-01-03</td>\n",
       "      <td>Sunday</td>\n",
       "      <td>1</td>\n",
       "    </tr>\n",
       "    <tr>\n",
       "      <th>3</th>\n",
       "      <td>2016-01-04</td>\n",
       "      <td>Monday</td>\n",
       "      <td>0</td>\n",
       "    </tr>\n",
       "    <tr>\n",
       "      <th>4</th>\n",
       "      <td>2016-01-05</td>\n",
       "      <td>Tuesday</td>\n",
       "      <td>0</td>\n",
       "    </tr>\n",
       "    <tr>\n",
       "      <th>...</th>\n",
       "      <td>...</td>\n",
       "      <td>...</td>\n",
       "      <td>...</td>\n",
       "    </tr>\n",
       "    <tr>\n",
       "      <th>512</th>\n",
       "      <td>2017-05-27</td>\n",
       "      <td>Saturday</td>\n",
       "      <td>0</td>\n",
       "    </tr>\n",
       "    <tr>\n",
       "      <th>513</th>\n",
       "      <td>2017-05-28</td>\n",
       "      <td>Sunday</td>\n",
       "      <td>0</td>\n",
       "    </tr>\n",
       "    <tr>\n",
       "      <th>514</th>\n",
       "      <td>2017-05-29</td>\n",
       "      <td>Monday</td>\n",
       "      <td>0</td>\n",
       "    </tr>\n",
       "    <tr>\n",
       "      <th>515</th>\n",
       "      <td>2017-05-30</td>\n",
       "      <td>Tuesday</td>\n",
       "      <td>0</td>\n",
       "    </tr>\n",
       "    <tr>\n",
       "      <th>516</th>\n",
       "      <td>2017-05-31</td>\n",
       "      <td>Wednesday</td>\n",
       "      <td>0</td>\n",
       "    </tr>\n",
       "  </tbody>\n",
       "</table>\n",
       "<p>517 rows × 3 columns</p>\n",
       "</div>"
      ]
     },
     "execution_count": 139,
     "metadata": {},
     "output_type": "execute_result"
    }
   ],
   "execution_count": 139
  },
  {
   "metadata": {
    "ExecuteTime": {
     "end_time": "2024-11-26T06:56:33.832091Z",
     "start_time": "2024-11-26T06:56:33.828422Z"
    }
   },
   "cell_type": "code",
   "source": "store_id_relation.isnull().sum()",
   "id": "75d663e5044d732a",
   "outputs": [
    {
     "data": {
      "text/plain": [
       "air_store_id    0\n",
       "hpg_store_id    0\n",
       "dtype: int64"
      ]
     },
     "execution_count": 140,
     "metadata": {},
     "output_type": "execute_result"
    }
   ],
   "execution_count": 140
  },
  {
   "metadata": {
    "ExecuteTime": {
     "end_time": "2024-11-26T06:56:33.970276Z",
     "start_time": "2024-11-26T06:56:33.965363Z"
    }
   },
   "cell_type": "code",
   "source": "df_air_reserve.head(10)",
   "id": "7fceb6c7f670ef8d",
   "outputs": [
    {
     "data": {
      "text/plain": [
       "           air_store_id       visit_datetime     reserve_datetime  \\\n",
       "0  air_877f79706adbfb06  2016-01-01 19:00:00  2016-01-01 16:00:00   \n",
       "1  air_db4b38ebe7a7ceff  2016-01-01 19:00:00  2016-01-01 19:00:00   \n",
       "2  air_db4b38ebe7a7ceff  2016-01-01 19:00:00  2016-01-01 19:00:00   \n",
       "3  air_877f79706adbfb06  2016-01-01 20:00:00  2016-01-01 16:00:00   \n",
       "4  air_db80363d35f10926  2016-01-01 20:00:00  2016-01-01 01:00:00   \n",
       "5  air_db80363d35f10926  2016-01-02 01:00:00  2016-01-01 16:00:00   \n",
       "6  air_db80363d35f10926  2016-01-02 01:00:00  2016-01-01 15:00:00   \n",
       "7  air_3bb99a1fe0583897  2016-01-02 16:00:00  2016-01-02 14:00:00   \n",
       "8  air_3bb99a1fe0583897  2016-01-02 16:00:00  2016-01-01 20:00:00   \n",
       "9  air_2b8b29ddfd35018e  2016-01-02 17:00:00  2016-01-02 17:00:00   \n",
       "\n",
       "   reserve_visitors  \n",
       "0                 1  \n",
       "1                 3  \n",
       "2                 6  \n",
       "3                 2  \n",
       "4                 5  \n",
       "5                 2  \n",
       "6                 4  \n",
       "7                 2  \n",
       "8                 2  \n",
       "9                 2  "
      ],
      "text/html": [
       "<div>\n",
       "<style scoped>\n",
       "    .dataframe tbody tr th:only-of-type {\n",
       "        vertical-align: middle;\n",
       "    }\n",
       "\n",
       "    .dataframe tbody tr th {\n",
       "        vertical-align: top;\n",
       "    }\n",
       "\n",
       "    .dataframe thead th {\n",
       "        text-align: right;\n",
       "    }\n",
       "</style>\n",
       "<table border=\"1\" class=\"dataframe\">\n",
       "  <thead>\n",
       "    <tr style=\"text-align: right;\">\n",
       "      <th></th>\n",
       "      <th>air_store_id</th>\n",
       "      <th>visit_datetime</th>\n",
       "      <th>reserve_datetime</th>\n",
       "      <th>reserve_visitors</th>\n",
       "    </tr>\n",
       "  </thead>\n",
       "  <tbody>\n",
       "    <tr>\n",
       "      <th>0</th>\n",
       "      <td>air_877f79706adbfb06</td>\n",
       "      <td>2016-01-01 19:00:00</td>\n",
       "      <td>2016-01-01 16:00:00</td>\n",
       "      <td>1</td>\n",
       "    </tr>\n",
       "    <tr>\n",
       "      <th>1</th>\n",
       "      <td>air_db4b38ebe7a7ceff</td>\n",
       "      <td>2016-01-01 19:00:00</td>\n",
       "      <td>2016-01-01 19:00:00</td>\n",
       "      <td>3</td>\n",
       "    </tr>\n",
       "    <tr>\n",
       "      <th>2</th>\n",
       "      <td>air_db4b38ebe7a7ceff</td>\n",
       "      <td>2016-01-01 19:00:00</td>\n",
       "      <td>2016-01-01 19:00:00</td>\n",
       "      <td>6</td>\n",
       "    </tr>\n",
       "    <tr>\n",
       "      <th>3</th>\n",
       "      <td>air_877f79706adbfb06</td>\n",
       "      <td>2016-01-01 20:00:00</td>\n",
       "      <td>2016-01-01 16:00:00</td>\n",
       "      <td>2</td>\n",
       "    </tr>\n",
       "    <tr>\n",
       "      <th>4</th>\n",
       "      <td>air_db80363d35f10926</td>\n",
       "      <td>2016-01-01 20:00:00</td>\n",
       "      <td>2016-01-01 01:00:00</td>\n",
       "      <td>5</td>\n",
       "    </tr>\n",
       "    <tr>\n",
       "      <th>5</th>\n",
       "      <td>air_db80363d35f10926</td>\n",
       "      <td>2016-01-02 01:00:00</td>\n",
       "      <td>2016-01-01 16:00:00</td>\n",
       "      <td>2</td>\n",
       "    </tr>\n",
       "    <tr>\n",
       "      <th>6</th>\n",
       "      <td>air_db80363d35f10926</td>\n",
       "      <td>2016-01-02 01:00:00</td>\n",
       "      <td>2016-01-01 15:00:00</td>\n",
       "      <td>4</td>\n",
       "    </tr>\n",
       "    <tr>\n",
       "      <th>7</th>\n",
       "      <td>air_3bb99a1fe0583897</td>\n",
       "      <td>2016-01-02 16:00:00</td>\n",
       "      <td>2016-01-02 14:00:00</td>\n",
       "      <td>2</td>\n",
       "    </tr>\n",
       "    <tr>\n",
       "      <th>8</th>\n",
       "      <td>air_3bb99a1fe0583897</td>\n",
       "      <td>2016-01-02 16:00:00</td>\n",
       "      <td>2016-01-01 20:00:00</td>\n",
       "      <td>2</td>\n",
       "    </tr>\n",
       "    <tr>\n",
       "      <th>9</th>\n",
       "      <td>air_2b8b29ddfd35018e</td>\n",
       "      <td>2016-01-02 17:00:00</td>\n",
       "      <td>2016-01-02 17:00:00</td>\n",
       "      <td>2</td>\n",
       "    </tr>\n",
       "  </tbody>\n",
       "</table>\n",
       "</div>"
      ]
     },
     "execution_count": 141,
     "metadata": {},
     "output_type": "execute_result"
    }
   ],
   "execution_count": 141
  },
  {
   "metadata": {},
   "cell_type": "markdown",
   "source": "Для начала рассмотрим зависимость количества людей по дням, для этого сложу в первом даатафрейме количество зарезервировавшихся пользователей по дням",
   "id": "14aaf18a6c29fa9e"
  },
  {
   "metadata": {
    "ExecuteTime": {
     "end_time": "2024-11-26T06:56:34.124951Z",
     "start_time": "2024-11-26T06:56:34.073005Z"
    }
   },
   "cell_type": "code",
   "source": [
    "df_air_reserve['visit_datetime'] = pd.to_datetime(df_air_reserve['visit_datetime'])\n",
    "df_air_reserve['reserve_datetime'] = pd.to_datetime(df_air_reserve['reserve_datetime'])\n",
    "df_air_reserve['reserve_date'] = df_air_reserve['reserve_datetime'].dt.date\n",
    "df_air_reserve['visit_date'] = df_air_reserve['visit_datetime'].dt.date"
   ],
   "id": "4e555585cbc065ec",
   "outputs": [],
   "execution_count": 142
  },
  {
   "metadata": {
    "ExecuteTime": {
     "end_time": "2024-11-26T06:56:34.411297Z",
     "start_time": "2024-11-26T06:56:34.379348Z"
    }
   },
   "cell_type": "code",
   "source": "df_air_reserve = df_air_reserve.groupby(['air_store_id', 'visit_date', 'reserve_date'])['reserve_visitors'].sum().reset_index()",
   "id": "58187261021d8c10",
   "outputs": [],
   "execution_count": 143
  },
  {
   "metadata": {
    "ExecuteTime": {
     "end_time": "2024-11-26T06:56:34.504906Z",
     "start_time": "2024-11-26T06:56:34.488067Z"
    }
   },
   "cell_type": "code",
   "source": "air_df = pd.merge(df_air_reserve, df_air_store_info, on='air_store_id', how='outer')",
   "id": "30b8580e02919d0",
   "outputs": [],
   "execution_count": 144
  },
  {
   "metadata": {
    "ExecuteTime": {
     "end_time": "2024-11-26T06:56:34.623521Z",
     "start_time": "2024-11-26T06:56:34.523919Z"
    }
   },
   "cell_type": "code",
   "source": "air_df = pd.merge(air_df, df_visit_data, on=['air_store_id', 'visit_date'], how='outer')",
   "id": "3dba0c514b11b9d5",
   "outputs": [],
   "execution_count": 145
  },
  {
   "metadata": {
    "ExecuteTime": {
     "end_time": "2024-11-26T06:56:34.682199Z",
     "start_time": "2024-11-26T06:56:34.637595Z"
    }
   },
   "cell_type": "code",
   "source": "air_df = pd.merge(air_df, store_id_relation, on=['air_store_id'], how='outer')",
   "id": "1ae1e4880f8ea55c",
   "outputs": [],
   "execution_count": 146
  },
  {
   "metadata": {
    "ExecuteTime": {
     "end_time": "2024-11-26T06:56:34.712145Z",
     "start_time": "2024-11-26T06:56:34.697425Z"
    }
   },
   "cell_type": "code",
   "source": "air_df=air_df[['air_store_id','hpg_store_id', 'visit_date','visitors', 'reserve_visitors', 'air_genre_name', 'air_area_name', 'latitude', 'longitude']]",
   "id": "bd1d646e813b47a5",
   "outputs": [],
   "execution_count": 147
  },
  {
   "metadata": {
    "ExecuteTime": {
     "end_time": "2024-11-26T06:56:34.746667Z",
     "start_time": "2024-11-26T06:56:34.726821Z"
    }
   },
   "cell_type": "code",
   "source": "air_df = air_df.rename(columns={'air_genre_name':'genre_name', 'air_area_name':'area_name'})\n",
   "id": "956ad5be4f9a7572",
   "outputs": [],
   "execution_count": 148
  },
  {
   "metadata": {},
   "cell_type": "markdown",
   "source": "Так как данные с пустым столбцом посетителей нам не нужны (это целевая переменная) удаляем их",
   "id": "822c6bca8b9bd365"
  },
  {
   "metadata": {
    "ExecuteTime": {
     "end_time": "2024-11-26T06:56:34.776204Z",
     "start_time": "2024-11-26T06:56:34.761007Z"
    }
   },
   "cell_type": "code",
   "source": [
    "air_df.dropna(subset='visitors', inplace=True)\n",
    "air_df['visitors'] = air_df['visitors'].astype(int)"
   ],
   "id": "b249ca3021b2b7bf",
   "outputs": [],
   "execution_count": 149
  },
  {
   "metadata": {
    "ExecuteTime": {
     "end_time": "2024-11-26T06:56:34.793250Z",
     "start_time": "2024-11-26T06:56:34.790791Z"
    }
   },
   "cell_type": "code",
   "source": "air_df.shape",
   "id": "36d4510dec3204c4",
   "outputs": [
    {
     "data": {
      "text/plain": [
       "(252108, 9)"
      ]
     },
     "execution_count": 150,
     "metadata": {},
     "output_type": "execute_result"
    }
   ],
   "execution_count": 150
  },
  {
   "metadata": {},
   "cell_type": "markdown",
   "source": "С первой системой данных выполнил объединение",
   "id": "d5a052617d55cc2"
  },
  {
   "metadata": {
    "ExecuteTime": {
     "end_time": "2024-11-26T06:56:35.683123Z",
     "start_time": "2024-11-26T06:56:34.812280Z"
    }
   },
   "cell_type": "code",
   "source": [
    "hpg_df['visit_datetime'] = pd.to_datetime(hpg_df['visit_datetime'])\n",
    "hpg_df['reserve_datetime'] = pd.to_datetime(hpg_df['reserve_datetime'])\n",
    "hpg_df['reserve_date'] = hpg_df['reserve_datetime'].dt.date\n",
    "hpg_df['visit_date'] = hpg_df['visit_datetime'].dt.date"
   ],
   "id": "ecae66505173c8be",
   "outputs": [],
   "execution_count": 151
  },
  {
   "metadata": {
    "ExecuteTime": {
     "end_time": "2024-11-26T06:56:36.701108Z",
     "start_time": "2024-11-26T06:56:35.878355Z"
    }
   },
   "cell_type": "code",
   "source": [
    "hpg_df = hpg_df.groupby(['hpg_store_id', 'visit_date', 'reserve_date'])[\n",
    "    'reserve_visitors'].sum().reset_index()"
   ],
   "id": "254047ef09e86553",
   "outputs": [],
   "execution_count": 152
  },
  {
   "metadata": {
    "ExecuteTime": {
     "end_time": "2024-11-26T06:56:36.727035Z",
     "start_time": "2024-11-26T06:56:36.720851Z"
    }
   },
   "cell_type": "code",
   "source": "store_id_relation.head()",
   "id": "82169b253ff403f6",
   "outputs": [
    {
     "data": {
      "text/plain": [
       "           air_store_id          hpg_store_id\n",
       "0  air_63b13c56b7201bd9  hpg_4bc649e72e2a239a\n",
       "1  air_a24bf50c3e90d583  hpg_c34b496d0305a809\n",
       "2  air_c7f78b4f3cba33ff  hpg_cd8ae0d9bbd58ff9\n",
       "3  air_947eb2cae4f3e8f2  hpg_de24ea49dc25d6b8\n",
       "4  air_965b2e0cf4119003  hpg_653238a84804d8e7"
      ],
      "text/html": [
       "<div>\n",
       "<style scoped>\n",
       "    .dataframe tbody tr th:only-of-type {\n",
       "        vertical-align: middle;\n",
       "    }\n",
       "\n",
       "    .dataframe tbody tr th {\n",
       "        vertical-align: top;\n",
       "    }\n",
       "\n",
       "    .dataframe thead th {\n",
       "        text-align: right;\n",
       "    }\n",
       "</style>\n",
       "<table border=\"1\" class=\"dataframe\">\n",
       "  <thead>\n",
       "    <tr style=\"text-align: right;\">\n",
       "      <th></th>\n",
       "      <th>air_store_id</th>\n",
       "      <th>hpg_store_id</th>\n",
       "    </tr>\n",
       "  </thead>\n",
       "  <tbody>\n",
       "    <tr>\n",
       "      <th>0</th>\n",
       "      <td>air_63b13c56b7201bd9</td>\n",
       "      <td>hpg_4bc649e72e2a239a</td>\n",
       "    </tr>\n",
       "    <tr>\n",
       "      <th>1</th>\n",
       "      <td>air_a24bf50c3e90d583</td>\n",
       "      <td>hpg_c34b496d0305a809</td>\n",
       "    </tr>\n",
       "    <tr>\n",
       "      <th>2</th>\n",
       "      <td>air_c7f78b4f3cba33ff</td>\n",
       "      <td>hpg_cd8ae0d9bbd58ff9</td>\n",
       "    </tr>\n",
       "    <tr>\n",
       "      <th>3</th>\n",
       "      <td>air_947eb2cae4f3e8f2</td>\n",
       "      <td>hpg_de24ea49dc25d6b8</td>\n",
       "    </tr>\n",
       "    <tr>\n",
       "      <th>4</th>\n",
       "      <td>air_965b2e0cf4119003</td>\n",
       "      <td>hpg_653238a84804d8e7</td>\n",
       "    </tr>\n",
       "  </tbody>\n",
       "</table>\n",
       "</div>"
      ]
     },
     "execution_count": 153,
     "metadata": {},
     "output_type": "execute_result"
    }
   ],
   "execution_count": 153
  },
  {
   "metadata": {
    "ExecuteTime": {
     "end_time": "2024-11-26T06:56:36.982756Z",
     "start_time": "2024-11-26T06:56:36.777497Z"
    }
   },
   "cell_type": "code",
   "source": "hpg_df = pd.merge(store_id_relation, hpg_df, on='hpg_store_id', how='outer')\n",
   "id": "8765a78dae33a9c",
   "outputs": [],
   "execution_count": 154
  },
  {
   "metadata": {
    "ExecuteTime": {
     "end_time": "2024-11-26T06:56:37.255153Z",
     "start_time": "2024-11-26T06:56:36.997243Z"
    }
   },
   "cell_type": "code",
   "source": "hpg_df = pd.merge(hpg_df, hpg_store, on='hpg_store_id', how='outer')",
   "id": "fef37d0a73d92518",
   "outputs": [],
   "execution_count": 155
  },
  {
   "metadata": {
    "ExecuteTime": {
     "end_time": "2024-11-26T06:56:37.337127Z",
     "start_time": "2024-11-26T06:56:37.258614Z"
    }
   },
   "cell_type": "code",
   "source": "hpg_df=hpg_df[['air_store_id','hpg_store_id', 'visit_date', 'reserve_visitors', 'hpg_genre_name', 'hpg_area_name', 'latitude', 'longitude']]",
   "id": "32e02668b8794b0c",
   "outputs": [],
   "execution_count": 156
  },
  {
   "metadata": {
    "ExecuteTime": {
     "end_time": "2024-11-26T06:56:37.455245Z",
     "start_time": "2024-11-26T06:56:37.352688Z"
    }
   },
   "cell_type": "code",
   "source": "hpg_df = hpg_df.rename(columns={'hpg_genre_name':'genre_name', 'hpg_area_name':'area_name'})",
   "id": "e836affdf9e3733c",
   "outputs": [],
   "execution_count": 157
  },
  {
   "metadata": {},
   "cell_type": "markdown",
   "source": "Объединил данные для второй системы\n",
   "id": "993bbce6ce4f46ea"
  },
  {
   "metadata": {
    "ExecuteTime": {
     "end_time": "2024-11-26T06:56:37.500381Z",
     "start_time": "2024-11-26T06:56:37.470747Z"
    }
   },
   "cell_type": "code",
   "source": [
    "print(air_df.shape)\n",
    "air_df.isnull().sum()"
   ],
   "id": "1b13a77323d26192",
   "outputs": [
    {
     "name": "stdout",
     "output_type": "stream",
     "text": [
      "(252108, 9)\n"
     ]
    },
    {
     "data": {
      "text/plain": [
       "air_store_id             0\n",
       "hpg_store_id        206089\n",
       "visit_date               0\n",
       "visitors                 0\n",
       "reserve_visitors    252108\n",
       "genre_name          252108\n",
       "area_name           252108\n",
       "latitude            252108\n",
       "longitude           252108\n",
       "dtype: int64"
      ]
     },
     "execution_count": 158,
     "metadata": {},
     "output_type": "execute_result"
    }
   ],
   "execution_count": 158
  },
  {
   "metadata": {
    "ExecuteTime": {
     "end_time": "2024-11-26T06:56:37.758682Z",
     "start_time": "2024-11-26T06:56:37.539391Z"
    }
   },
   "cell_type": "code",
   "source": [
    "print(hpg_df.shape)\n",
    "hpg_df.isnull().sum()"
   ],
   "id": "6c72d3b179085eff",
   "outputs": [
    {
     "name": "stdout",
     "output_type": "stream",
     "text": [
      "(1879302, 8)\n"
     ]
    },
    {
     "data": {
      "text/plain": [
       "air_store_id        1852770\n",
       "hpg_store_id              0\n",
       "visit_date                0\n",
       "reserve_visitors          0\n",
       "genre_name          1065690\n",
       "area_name           1065690\n",
       "latitude            1065690\n",
       "longitude           1065690\n",
       "dtype: int64"
      ]
     },
     "execution_count": 159,
     "metadata": {},
     "output_type": "execute_result"
    }
   ],
   "execution_count": 159
  },
  {
   "metadata": {
    "ExecuteTime": {
     "end_time": "2024-11-26T06:56:38.099479Z",
     "start_time": "2024-11-26T06:56:37.998705Z"
    }
   },
   "cell_type": "code",
   "source": "print(air_df.air_store_id.nunique(), hpg_df.air_store_id.nunique(), air_df.hpg_store_id.nunique(), hpg_df.hpg_store_id.nunique())",
   "id": "c35b6ba28db9664b",
   "outputs": [
    {
     "name": "stdout",
     "output_type": "stream",
     "text": [
      "829 150 150 13325\n"
     ]
    }
   ],
   "execution_count": 160
  },
  {
   "metadata": {
    "ExecuteTime": {
     "end_time": "2024-11-26T06:56:40.120457Z",
     "start_time": "2024-11-26T06:56:38.136248Z"
    }
   },
   "cell_type": "code",
   "source": "df = pd.merge(air_df, hpg_df, on=['air_store_id', 'hpg_store_id','visit_date' , 'reserve_visitors', 'area_name', 'genre_name', 'latitude', 'longitude'], how='outer')",
   "id": "1ca52b292e8ed71",
   "outputs": [],
   "execution_count": 161
  },
  {
   "metadata": {
    "ExecuteTime": {
     "end_time": "2024-11-26T06:56:40.142762Z",
     "start_time": "2024-11-26T06:56:40.136065Z"
    }
   },
   "cell_type": "code",
   "source": "df",
   "id": "a08fbfdcb3e6ea83",
   "outputs": [
    {
     "data": {
      "text/plain": [
       "                 air_store_id          hpg_store_id  visit_date  visitors  \\\n",
       "0        air_00a91d42b08b08d9  hpg_fbe603376b5980fc  2016-01-14       NaN   \n",
       "1        air_00a91d42b08b08d9  hpg_fbe603376b5980fc  2016-01-15       NaN   \n",
       "2        air_00a91d42b08b08d9  hpg_fbe603376b5980fc  2016-01-16       NaN   \n",
       "3        air_00a91d42b08b08d9  hpg_fbe603376b5980fc  2016-01-22       NaN   \n",
       "4        air_00a91d42b08b08d9  hpg_fbe603376b5980fc  2016-01-29       NaN   \n",
       "...                       ...                   ...         ...       ...   \n",
       "2131405                   NaN  hpg_fffc097dce87af3e  2017-03-10       NaN   \n",
       "2131406                   NaN  hpg_fffc097dce87af3e  2017-03-17       NaN   \n",
       "2131407                   NaN  hpg_fffc097dce87af3e  2017-03-27       NaN   \n",
       "2131408                   NaN  hpg_fffc097dce87af3e  2017-04-21       NaN   \n",
       "2131409                   NaN  hpg_fffc097dce87af3e  2017-04-23       NaN   \n",
       "\n",
       "         reserve_visitors genre_name area_name  latitude  longitude  \n",
       "0                     2.0        NaN       NaN       NaN        NaN  \n",
       "1                     4.0        NaN       NaN       NaN        NaN  \n",
       "2                     2.0        NaN       NaN       NaN        NaN  \n",
       "3                     2.0        NaN       NaN       NaN        NaN  \n",
       "4                     5.0        NaN       NaN       NaN        NaN  \n",
       "...                   ...        ...       ...       ...        ...  \n",
       "2131405               2.0        NaN       NaN       NaN        NaN  \n",
       "2131406               2.0        NaN       NaN       NaN        NaN  \n",
       "2131407               5.0        NaN       NaN       NaN        NaN  \n",
       "2131408               3.0        NaN       NaN       NaN        NaN  \n",
       "2131409               8.0        NaN       NaN       NaN        NaN  \n",
       "\n",
       "[2131410 rows x 9 columns]"
      ],
      "text/html": [
       "<div>\n",
       "<style scoped>\n",
       "    .dataframe tbody tr th:only-of-type {\n",
       "        vertical-align: middle;\n",
       "    }\n",
       "\n",
       "    .dataframe tbody tr th {\n",
       "        vertical-align: top;\n",
       "    }\n",
       "\n",
       "    .dataframe thead th {\n",
       "        text-align: right;\n",
       "    }\n",
       "</style>\n",
       "<table border=\"1\" class=\"dataframe\">\n",
       "  <thead>\n",
       "    <tr style=\"text-align: right;\">\n",
       "      <th></th>\n",
       "      <th>air_store_id</th>\n",
       "      <th>hpg_store_id</th>\n",
       "      <th>visit_date</th>\n",
       "      <th>visitors</th>\n",
       "      <th>reserve_visitors</th>\n",
       "      <th>genre_name</th>\n",
       "      <th>area_name</th>\n",
       "      <th>latitude</th>\n",
       "      <th>longitude</th>\n",
       "    </tr>\n",
       "  </thead>\n",
       "  <tbody>\n",
       "    <tr>\n",
       "      <th>0</th>\n",
       "      <td>air_00a91d42b08b08d9</td>\n",
       "      <td>hpg_fbe603376b5980fc</td>\n",
       "      <td>2016-01-14</td>\n",
       "      <td>NaN</td>\n",
       "      <td>2.0</td>\n",
       "      <td>NaN</td>\n",
       "      <td>NaN</td>\n",
       "      <td>NaN</td>\n",
       "      <td>NaN</td>\n",
       "    </tr>\n",
       "    <tr>\n",
       "      <th>1</th>\n",
       "      <td>air_00a91d42b08b08d9</td>\n",
       "      <td>hpg_fbe603376b5980fc</td>\n",
       "      <td>2016-01-15</td>\n",
       "      <td>NaN</td>\n",
       "      <td>4.0</td>\n",
       "      <td>NaN</td>\n",
       "      <td>NaN</td>\n",
       "      <td>NaN</td>\n",
       "      <td>NaN</td>\n",
       "    </tr>\n",
       "    <tr>\n",
       "      <th>2</th>\n",
       "      <td>air_00a91d42b08b08d9</td>\n",
       "      <td>hpg_fbe603376b5980fc</td>\n",
       "      <td>2016-01-16</td>\n",
       "      <td>NaN</td>\n",
       "      <td>2.0</td>\n",
       "      <td>NaN</td>\n",
       "      <td>NaN</td>\n",
       "      <td>NaN</td>\n",
       "      <td>NaN</td>\n",
       "    </tr>\n",
       "    <tr>\n",
       "      <th>3</th>\n",
       "      <td>air_00a91d42b08b08d9</td>\n",
       "      <td>hpg_fbe603376b5980fc</td>\n",
       "      <td>2016-01-22</td>\n",
       "      <td>NaN</td>\n",
       "      <td>2.0</td>\n",
       "      <td>NaN</td>\n",
       "      <td>NaN</td>\n",
       "      <td>NaN</td>\n",
       "      <td>NaN</td>\n",
       "    </tr>\n",
       "    <tr>\n",
       "      <th>4</th>\n",
       "      <td>air_00a91d42b08b08d9</td>\n",
       "      <td>hpg_fbe603376b5980fc</td>\n",
       "      <td>2016-01-29</td>\n",
       "      <td>NaN</td>\n",
       "      <td>5.0</td>\n",
       "      <td>NaN</td>\n",
       "      <td>NaN</td>\n",
       "      <td>NaN</td>\n",
       "      <td>NaN</td>\n",
       "    </tr>\n",
       "    <tr>\n",
       "      <th>...</th>\n",
       "      <td>...</td>\n",
       "      <td>...</td>\n",
       "      <td>...</td>\n",
       "      <td>...</td>\n",
       "      <td>...</td>\n",
       "      <td>...</td>\n",
       "      <td>...</td>\n",
       "      <td>...</td>\n",
       "      <td>...</td>\n",
       "    </tr>\n",
       "    <tr>\n",
       "      <th>2131405</th>\n",
       "      <td>NaN</td>\n",
       "      <td>hpg_fffc097dce87af3e</td>\n",
       "      <td>2017-03-10</td>\n",
       "      <td>NaN</td>\n",
       "      <td>2.0</td>\n",
       "      <td>NaN</td>\n",
       "      <td>NaN</td>\n",
       "      <td>NaN</td>\n",
       "      <td>NaN</td>\n",
       "    </tr>\n",
       "    <tr>\n",
       "      <th>2131406</th>\n",
       "      <td>NaN</td>\n",
       "      <td>hpg_fffc097dce87af3e</td>\n",
       "      <td>2017-03-17</td>\n",
       "      <td>NaN</td>\n",
       "      <td>2.0</td>\n",
       "      <td>NaN</td>\n",
       "      <td>NaN</td>\n",
       "      <td>NaN</td>\n",
       "      <td>NaN</td>\n",
       "    </tr>\n",
       "    <tr>\n",
       "      <th>2131407</th>\n",
       "      <td>NaN</td>\n",
       "      <td>hpg_fffc097dce87af3e</td>\n",
       "      <td>2017-03-27</td>\n",
       "      <td>NaN</td>\n",
       "      <td>5.0</td>\n",
       "      <td>NaN</td>\n",
       "      <td>NaN</td>\n",
       "      <td>NaN</td>\n",
       "      <td>NaN</td>\n",
       "    </tr>\n",
       "    <tr>\n",
       "      <th>2131408</th>\n",
       "      <td>NaN</td>\n",
       "      <td>hpg_fffc097dce87af3e</td>\n",
       "      <td>2017-04-21</td>\n",
       "      <td>NaN</td>\n",
       "      <td>3.0</td>\n",
       "      <td>NaN</td>\n",
       "      <td>NaN</td>\n",
       "      <td>NaN</td>\n",
       "      <td>NaN</td>\n",
       "    </tr>\n",
       "    <tr>\n",
       "      <th>2131409</th>\n",
       "      <td>NaN</td>\n",
       "      <td>hpg_fffc097dce87af3e</td>\n",
       "      <td>2017-04-23</td>\n",
       "      <td>NaN</td>\n",
       "      <td>8.0</td>\n",
       "      <td>NaN</td>\n",
       "      <td>NaN</td>\n",
       "      <td>NaN</td>\n",
       "      <td>NaN</td>\n",
       "    </tr>\n",
       "  </tbody>\n",
       "</table>\n",
       "<p>2131410 rows × 9 columns</p>\n",
       "</div>"
      ]
     },
     "execution_count": 162,
     "metadata": {},
     "output_type": "execute_result"
    }
   ],
   "execution_count": 162
  },
  {
   "metadata": {
    "ExecuteTime": {
     "end_time": "2024-11-26T06:56:40.456456Z",
     "start_time": "2024-11-26T06:56:40.171070Z"
    }
   },
   "cell_type": "code",
   "source": [
    "print(df.shape)\n",
    "df.isnull().sum()"
   ],
   "id": "d4916447092f9a6f",
   "outputs": [
    {
     "name": "stdout",
     "output_type": "stream",
     "text": [
      "(2131410, 9)\n"
     ]
    },
    {
     "data": {
      "text/plain": [
       "air_store_id        1852770\n",
       "hpg_store_id         206089\n",
       "visit_date                0\n",
       "visitors            1879302\n",
       "reserve_visitors     252108\n",
       "genre_name          1317798\n",
       "area_name           1317798\n",
       "latitude            1317798\n",
       "longitude           1317798\n",
       "dtype: int64"
      ]
     },
     "execution_count": 163,
     "metadata": {},
     "output_type": "execute_result"
    }
   ],
   "execution_count": 163
  },
  {
   "metadata": {
    "ExecuteTime": {
     "end_time": "2024-11-26T06:56:40.524401Z",
     "start_time": "2024-11-26T06:56:40.522104Z"
    }
   },
   "cell_type": "code",
   "source": "# df = df.dropna(subset=['visitors', 'reserve_visitors'], how='any', inplace=True)",
   "id": "73aa3e368043bd8c",
   "outputs": [],
   "execution_count": 164
  },
  {
   "metadata": {},
   "cell_type": "markdown",
   "source": [
    "Получается что нет таких строк, где одновременно присутствует и значения визиторс и брони. В этом можно убедиться запустив код выше => удаляю бронь\n",
    " "
   ],
   "id": "76e7683169dbced1"
  },
  {
   "metadata": {
    "ExecuteTime": {
     "end_time": "2024-11-26T06:56:40.656318Z",
     "start_time": "2024-11-26T06:56:40.650575Z"
    }
   },
   "cell_type": "code",
   "source": [
    "del df['reserve_visitors']\n",
    "df"
   ],
   "id": "f733e5e77e0abfc4",
   "outputs": [
    {
     "data": {
      "text/plain": [
       "                 air_store_id          hpg_store_id  visit_date  visitors  \\\n",
       "0        air_00a91d42b08b08d9  hpg_fbe603376b5980fc  2016-01-14       NaN   \n",
       "1        air_00a91d42b08b08d9  hpg_fbe603376b5980fc  2016-01-15       NaN   \n",
       "2        air_00a91d42b08b08d9  hpg_fbe603376b5980fc  2016-01-16       NaN   \n",
       "3        air_00a91d42b08b08d9  hpg_fbe603376b5980fc  2016-01-22       NaN   \n",
       "4        air_00a91d42b08b08d9  hpg_fbe603376b5980fc  2016-01-29       NaN   \n",
       "...                       ...                   ...         ...       ...   \n",
       "2131405                   NaN  hpg_fffc097dce87af3e  2017-03-10       NaN   \n",
       "2131406                   NaN  hpg_fffc097dce87af3e  2017-03-17       NaN   \n",
       "2131407                   NaN  hpg_fffc097dce87af3e  2017-03-27       NaN   \n",
       "2131408                   NaN  hpg_fffc097dce87af3e  2017-04-21       NaN   \n",
       "2131409                   NaN  hpg_fffc097dce87af3e  2017-04-23       NaN   \n",
       "\n",
       "        genre_name area_name  latitude  longitude  \n",
       "0              NaN       NaN       NaN        NaN  \n",
       "1              NaN       NaN       NaN        NaN  \n",
       "2              NaN       NaN       NaN        NaN  \n",
       "3              NaN       NaN       NaN        NaN  \n",
       "4              NaN       NaN       NaN        NaN  \n",
       "...            ...       ...       ...        ...  \n",
       "2131405        NaN       NaN       NaN        NaN  \n",
       "2131406        NaN       NaN       NaN        NaN  \n",
       "2131407        NaN       NaN       NaN        NaN  \n",
       "2131408        NaN       NaN       NaN        NaN  \n",
       "2131409        NaN       NaN       NaN        NaN  \n",
       "\n",
       "[2131410 rows x 8 columns]"
      ],
      "text/html": [
       "<div>\n",
       "<style scoped>\n",
       "    .dataframe tbody tr th:only-of-type {\n",
       "        vertical-align: middle;\n",
       "    }\n",
       "\n",
       "    .dataframe tbody tr th {\n",
       "        vertical-align: top;\n",
       "    }\n",
       "\n",
       "    .dataframe thead th {\n",
       "        text-align: right;\n",
       "    }\n",
       "</style>\n",
       "<table border=\"1\" class=\"dataframe\">\n",
       "  <thead>\n",
       "    <tr style=\"text-align: right;\">\n",
       "      <th></th>\n",
       "      <th>air_store_id</th>\n",
       "      <th>hpg_store_id</th>\n",
       "      <th>visit_date</th>\n",
       "      <th>visitors</th>\n",
       "      <th>genre_name</th>\n",
       "      <th>area_name</th>\n",
       "      <th>latitude</th>\n",
       "      <th>longitude</th>\n",
       "    </tr>\n",
       "  </thead>\n",
       "  <tbody>\n",
       "    <tr>\n",
       "      <th>0</th>\n",
       "      <td>air_00a91d42b08b08d9</td>\n",
       "      <td>hpg_fbe603376b5980fc</td>\n",
       "      <td>2016-01-14</td>\n",
       "      <td>NaN</td>\n",
       "      <td>NaN</td>\n",
       "      <td>NaN</td>\n",
       "      <td>NaN</td>\n",
       "      <td>NaN</td>\n",
       "    </tr>\n",
       "    <tr>\n",
       "      <th>1</th>\n",
       "      <td>air_00a91d42b08b08d9</td>\n",
       "      <td>hpg_fbe603376b5980fc</td>\n",
       "      <td>2016-01-15</td>\n",
       "      <td>NaN</td>\n",
       "      <td>NaN</td>\n",
       "      <td>NaN</td>\n",
       "      <td>NaN</td>\n",
       "      <td>NaN</td>\n",
       "    </tr>\n",
       "    <tr>\n",
       "      <th>2</th>\n",
       "      <td>air_00a91d42b08b08d9</td>\n",
       "      <td>hpg_fbe603376b5980fc</td>\n",
       "      <td>2016-01-16</td>\n",
       "      <td>NaN</td>\n",
       "      <td>NaN</td>\n",
       "      <td>NaN</td>\n",
       "      <td>NaN</td>\n",
       "      <td>NaN</td>\n",
       "    </tr>\n",
       "    <tr>\n",
       "      <th>3</th>\n",
       "      <td>air_00a91d42b08b08d9</td>\n",
       "      <td>hpg_fbe603376b5980fc</td>\n",
       "      <td>2016-01-22</td>\n",
       "      <td>NaN</td>\n",
       "      <td>NaN</td>\n",
       "      <td>NaN</td>\n",
       "      <td>NaN</td>\n",
       "      <td>NaN</td>\n",
       "    </tr>\n",
       "    <tr>\n",
       "      <th>4</th>\n",
       "      <td>air_00a91d42b08b08d9</td>\n",
       "      <td>hpg_fbe603376b5980fc</td>\n",
       "      <td>2016-01-29</td>\n",
       "      <td>NaN</td>\n",
       "      <td>NaN</td>\n",
       "      <td>NaN</td>\n",
       "      <td>NaN</td>\n",
       "      <td>NaN</td>\n",
       "    </tr>\n",
       "    <tr>\n",
       "      <th>...</th>\n",
       "      <td>...</td>\n",
       "      <td>...</td>\n",
       "      <td>...</td>\n",
       "      <td>...</td>\n",
       "      <td>...</td>\n",
       "      <td>...</td>\n",
       "      <td>...</td>\n",
       "      <td>...</td>\n",
       "    </tr>\n",
       "    <tr>\n",
       "      <th>2131405</th>\n",
       "      <td>NaN</td>\n",
       "      <td>hpg_fffc097dce87af3e</td>\n",
       "      <td>2017-03-10</td>\n",
       "      <td>NaN</td>\n",
       "      <td>NaN</td>\n",
       "      <td>NaN</td>\n",
       "      <td>NaN</td>\n",
       "      <td>NaN</td>\n",
       "    </tr>\n",
       "    <tr>\n",
       "      <th>2131406</th>\n",
       "      <td>NaN</td>\n",
       "      <td>hpg_fffc097dce87af3e</td>\n",
       "      <td>2017-03-17</td>\n",
       "      <td>NaN</td>\n",
       "      <td>NaN</td>\n",
       "      <td>NaN</td>\n",
       "      <td>NaN</td>\n",
       "      <td>NaN</td>\n",
       "    </tr>\n",
       "    <tr>\n",
       "      <th>2131407</th>\n",
       "      <td>NaN</td>\n",
       "      <td>hpg_fffc097dce87af3e</td>\n",
       "      <td>2017-03-27</td>\n",
       "      <td>NaN</td>\n",
       "      <td>NaN</td>\n",
       "      <td>NaN</td>\n",
       "      <td>NaN</td>\n",
       "      <td>NaN</td>\n",
       "    </tr>\n",
       "    <tr>\n",
       "      <th>2131408</th>\n",
       "      <td>NaN</td>\n",
       "      <td>hpg_fffc097dce87af3e</td>\n",
       "      <td>2017-04-21</td>\n",
       "      <td>NaN</td>\n",
       "      <td>NaN</td>\n",
       "      <td>NaN</td>\n",
       "      <td>NaN</td>\n",
       "      <td>NaN</td>\n",
       "    </tr>\n",
       "    <tr>\n",
       "      <th>2131409</th>\n",
       "      <td>NaN</td>\n",
       "      <td>hpg_fffc097dce87af3e</td>\n",
       "      <td>2017-04-23</td>\n",
       "      <td>NaN</td>\n",
       "      <td>NaN</td>\n",
       "      <td>NaN</td>\n",
       "      <td>NaN</td>\n",
       "      <td>NaN</td>\n",
       "    </tr>\n",
       "  </tbody>\n",
       "</table>\n",
       "<p>2131410 rows × 8 columns</p>\n",
       "</div>"
      ]
     },
     "execution_count": 165,
     "metadata": {},
     "output_type": "execute_result"
    }
   ],
   "execution_count": 165
  },
  {
   "metadata": {},
   "cell_type": "markdown",
   "source": "Проверил данные по месяцам для тренировочной выборки, сейчас буду делать dataframe для столбцов с заполненной целевой переменной и буду дополнять его данными из други строк согласовано ",
   "id": "b7708f126e497c6e"
  },
  {
   "metadata": {
    "ExecuteTime": {
     "end_time": "2024-11-26T06:56:40.727953Z",
     "start_time": "2024-11-26T06:56:40.724619Z"
    }
   },
   "cell_type": "code",
   "source": [
    "print(df.visit_date.unique)\n",
    "df.columns"
   ],
   "id": "6daaa37bc8c1f99c",
   "outputs": [
    {
     "name": "stdout",
     "output_type": "stream",
     "text": [
      "<bound method Series.unique of 0          2016-01-14\n",
      "1          2016-01-15\n",
      "2          2016-01-16\n",
      "3          2016-01-22\n",
      "4          2016-01-29\n",
      "              ...    \n",
      "2131405    2017-03-10\n",
      "2131406    2017-03-17\n",
      "2131407    2017-03-27\n",
      "2131408    2017-04-21\n",
      "2131409    2017-04-23\n",
      "Name: visit_date, Length: 2131410, dtype: object>\n"
     ]
    },
    {
     "data": {
      "text/plain": [
       "Index(['air_store_id', 'hpg_store_id', 'visit_date', 'visitors', 'genre_name',\n",
       "       'area_name', 'latitude', 'longitude'],\n",
       "      dtype='object')"
      ]
     },
     "execution_count": 166,
     "metadata": {},
     "output_type": "execute_result"
    }
   ],
   "execution_count": 166
  },
  {
   "metadata": {
    "ExecuteTime": {
     "end_time": "2024-11-26T06:56:40.831459Z",
     "start_time": "2024-11-26T06:56:40.830100Z"
    }
   },
   "cell_type": "code",
   "source": "",
   "id": "8fb7735e6a0cf27",
   "outputs": [],
   "execution_count": null
  },
  {
   "metadata": {
    "ExecuteTime": {
     "end_time": "2024-11-26T06:56:40.904128Z",
     "start_time": "2024-11-26T06:56:40.881520Z"
    }
   },
   "cell_type": "code",
   "source": [
    "df_full = df.dropna(subset=['visitors'])\n",
    "print(df_full.shape)\n",
    "df_full"
   ],
   "id": "5021aa7c2b2b4124",
   "outputs": [
    {
     "name": "stdout",
     "output_type": "stream",
     "text": [
      "(252108, 8)\n"
     ]
    },
    {
     "data": {
      "text/plain": [
       "                air_store_id          hpg_store_id  visit_date  visitors  \\\n",
       "111     air_00a91d42b08b08d9  hpg_fbe603376b5980fc  2016-07-01      35.0   \n",
       "112     air_00a91d42b08b08d9  hpg_fbe603376b5980fc  2016-07-02       9.0   \n",
       "113     air_00a91d42b08b08d9  hpg_fbe603376b5980fc  2016-07-04      20.0   \n",
       "114     air_00a91d42b08b08d9  hpg_fbe603376b5980fc  2016-07-05      25.0   \n",
       "115     air_00a91d42b08b08d9  hpg_fbe603376b5980fc  2016-07-06      29.0   \n",
       "...                      ...                   ...         ...       ...   \n",
       "278635  air_fff68b929994bfbd                   NaN  2017-04-18       6.0   \n",
       "278636  air_fff68b929994bfbd                   NaN  2017-04-19       2.0   \n",
       "278637  air_fff68b929994bfbd                   NaN  2017-04-20       2.0   \n",
       "278638  air_fff68b929994bfbd                   NaN  2017-04-21       4.0   \n",
       "278639  air_fff68b929994bfbd                   NaN  2017-04-22       5.0   \n",
       "\n",
       "       genre_name area_name  latitude  longitude  \n",
       "111           NaN       NaN       NaN        NaN  \n",
       "112           NaN       NaN       NaN        NaN  \n",
       "113           NaN       NaN       NaN        NaN  \n",
       "114           NaN       NaN       NaN        NaN  \n",
       "115           NaN       NaN       NaN        NaN  \n",
       "...           ...       ...       ...        ...  \n",
       "278635        NaN       NaN       NaN        NaN  \n",
       "278636        NaN       NaN       NaN        NaN  \n",
       "278637        NaN       NaN       NaN        NaN  \n",
       "278638        NaN       NaN       NaN        NaN  \n",
       "278639        NaN       NaN       NaN        NaN  \n",
       "\n",
       "[252108 rows x 8 columns]"
      ],
      "text/html": [
       "<div>\n",
       "<style scoped>\n",
       "    .dataframe tbody tr th:only-of-type {\n",
       "        vertical-align: middle;\n",
       "    }\n",
       "\n",
       "    .dataframe tbody tr th {\n",
       "        vertical-align: top;\n",
       "    }\n",
       "\n",
       "    .dataframe thead th {\n",
       "        text-align: right;\n",
       "    }\n",
       "</style>\n",
       "<table border=\"1\" class=\"dataframe\">\n",
       "  <thead>\n",
       "    <tr style=\"text-align: right;\">\n",
       "      <th></th>\n",
       "      <th>air_store_id</th>\n",
       "      <th>hpg_store_id</th>\n",
       "      <th>visit_date</th>\n",
       "      <th>visitors</th>\n",
       "      <th>genre_name</th>\n",
       "      <th>area_name</th>\n",
       "      <th>latitude</th>\n",
       "      <th>longitude</th>\n",
       "    </tr>\n",
       "  </thead>\n",
       "  <tbody>\n",
       "    <tr>\n",
       "      <th>111</th>\n",
       "      <td>air_00a91d42b08b08d9</td>\n",
       "      <td>hpg_fbe603376b5980fc</td>\n",
       "      <td>2016-07-01</td>\n",
       "      <td>35.0</td>\n",
       "      <td>NaN</td>\n",
       "      <td>NaN</td>\n",
       "      <td>NaN</td>\n",
       "      <td>NaN</td>\n",
       "    </tr>\n",
       "    <tr>\n",
       "      <th>112</th>\n",
       "      <td>air_00a91d42b08b08d9</td>\n",
       "      <td>hpg_fbe603376b5980fc</td>\n",
       "      <td>2016-07-02</td>\n",
       "      <td>9.0</td>\n",
       "      <td>NaN</td>\n",
       "      <td>NaN</td>\n",
       "      <td>NaN</td>\n",
       "      <td>NaN</td>\n",
       "    </tr>\n",
       "    <tr>\n",
       "      <th>113</th>\n",
       "      <td>air_00a91d42b08b08d9</td>\n",
       "      <td>hpg_fbe603376b5980fc</td>\n",
       "      <td>2016-07-04</td>\n",
       "      <td>20.0</td>\n",
       "      <td>NaN</td>\n",
       "      <td>NaN</td>\n",
       "      <td>NaN</td>\n",
       "      <td>NaN</td>\n",
       "    </tr>\n",
       "    <tr>\n",
       "      <th>114</th>\n",
       "      <td>air_00a91d42b08b08d9</td>\n",
       "      <td>hpg_fbe603376b5980fc</td>\n",
       "      <td>2016-07-05</td>\n",
       "      <td>25.0</td>\n",
       "      <td>NaN</td>\n",
       "      <td>NaN</td>\n",
       "      <td>NaN</td>\n",
       "      <td>NaN</td>\n",
       "    </tr>\n",
       "    <tr>\n",
       "      <th>115</th>\n",
       "      <td>air_00a91d42b08b08d9</td>\n",
       "      <td>hpg_fbe603376b5980fc</td>\n",
       "      <td>2016-07-06</td>\n",
       "      <td>29.0</td>\n",
       "      <td>NaN</td>\n",
       "      <td>NaN</td>\n",
       "      <td>NaN</td>\n",
       "      <td>NaN</td>\n",
       "    </tr>\n",
       "    <tr>\n",
       "      <th>...</th>\n",
       "      <td>...</td>\n",
       "      <td>...</td>\n",
       "      <td>...</td>\n",
       "      <td>...</td>\n",
       "      <td>...</td>\n",
       "      <td>...</td>\n",
       "      <td>...</td>\n",
       "      <td>...</td>\n",
       "    </tr>\n",
       "    <tr>\n",
       "      <th>278635</th>\n",
       "      <td>air_fff68b929994bfbd</td>\n",
       "      <td>NaN</td>\n",
       "      <td>2017-04-18</td>\n",
       "      <td>6.0</td>\n",
       "      <td>NaN</td>\n",
       "      <td>NaN</td>\n",
       "      <td>NaN</td>\n",
       "      <td>NaN</td>\n",
       "    </tr>\n",
       "    <tr>\n",
       "      <th>278636</th>\n",
       "      <td>air_fff68b929994bfbd</td>\n",
       "      <td>NaN</td>\n",
       "      <td>2017-04-19</td>\n",
       "      <td>2.0</td>\n",
       "      <td>NaN</td>\n",
       "      <td>NaN</td>\n",
       "      <td>NaN</td>\n",
       "      <td>NaN</td>\n",
       "    </tr>\n",
       "    <tr>\n",
       "      <th>278637</th>\n",
       "      <td>air_fff68b929994bfbd</td>\n",
       "      <td>NaN</td>\n",
       "      <td>2017-04-20</td>\n",
       "      <td>2.0</td>\n",
       "      <td>NaN</td>\n",
       "      <td>NaN</td>\n",
       "      <td>NaN</td>\n",
       "      <td>NaN</td>\n",
       "    </tr>\n",
       "    <tr>\n",
       "      <th>278638</th>\n",
       "      <td>air_fff68b929994bfbd</td>\n",
       "      <td>NaN</td>\n",
       "      <td>2017-04-21</td>\n",
       "      <td>4.0</td>\n",
       "      <td>NaN</td>\n",
       "      <td>NaN</td>\n",
       "      <td>NaN</td>\n",
       "      <td>NaN</td>\n",
       "    </tr>\n",
       "    <tr>\n",
       "      <th>278639</th>\n",
       "      <td>air_fff68b929994bfbd</td>\n",
       "      <td>NaN</td>\n",
       "      <td>2017-04-22</td>\n",
       "      <td>5.0</td>\n",
       "      <td>NaN</td>\n",
       "      <td>NaN</td>\n",
       "      <td>NaN</td>\n",
       "      <td>NaN</td>\n",
       "    </tr>\n",
       "  </tbody>\n",
       "</table>\n",
       "<p>252108 rows × 8 columns</p>\n",
       "</div>"
      ]
     },
     "execution_count": 167,
     "metadata": {},
     "output_type": "execute_result"
    }
   ],
   "execution_count": 167
  },
  {
   "metadata": {
    "ExecuteTime": {
     "end_time": "2024-11-26T06:56:41.047641Z",
     "start_time": "2024-11-26T06:56:40.962984Z"
    }
   },
   "cell_type": "code",
   "source": [
    "df_missing = df[df['visitors'].isna()]\n",
    "print(df_missing.shape)\n",
    "df_missing"
   ],
   "id": "addf94c562d72b1a",
   "outputs": [
    {
     "name": "stdout",
     "output_type": "stream",
     "text": [
      "(1879302, 8)\n"
     ]
    },
    {
     "data": {
      "text/plain": [
       "                 air_store_id          hpg_store_id  visit_date  visitors  \\\n",
       "0        air_00a91d42b08b08d9  hpg_fbe603376b5980fc  2016-01-14       NaN   \n",
       "1        air_00a91d42b08b08d9  hpg_fbe603376b5980fc  2016-01-15       NaN   \n",
       "2        air_00a91d42b08b08d9  hpg_fbe603376b5980fc  2016-01-16       NaN   \n",
       "3        air_00a91d42b08b08d9  hpg_fbe603376b5980fc  2016-01-22       NaN   \n",
       "4        air_00a91d42b08b08d9  hpg_fbe603376b5980fc  2016-01-29       NaN   \n",
       "...                       ...                   ...         ...       ...   \n",
       "2131405                   NaN  hpg_fffc097dce87af3e  2017-03-10       NaN   \n",
       "2131406                   NaN  hpg_fffc097dce87af3e  2017-03-17       NaN   \n",
       "2131407                   NaN  hpg_fffc097dce87af3e  2017-03-27       NaN   \n",
       "2131408                   NaN  hpg_fffc097dce87af3e  2017-04-21       NaN   \n",
       "2131409                   NaN  hpg_fffc097dce87af3e  2017-04-23       NaN   \n",
       "\n",
       "        genre_name area_name  latitude  longitude  \n",
       "0              NaN       NaN       NaN        NaN  \n",
       "1              NaN       NaN       NaN        NaN  \n",
       "2              NaN       NaN       NaN        NaN  \n",
       "3              NaN       NaN       NaN        NaN  \n",
       "4              NaN       NaN       NaN        NaN  \n",
       "...            ...       ...       ...        ...  \n",
       "2131405        NaN       NaN       NaN        NaN  \n",
       "2131406        NaN       NaN       NaN        NaN  \n",
       "2131407        NaN       NaN       NaN        NaN  \n",
       "2131408        NaN       NaN       NaN        NaN  \n",
       "2131409        NaN       NaN       NaN        NaN  \n",
       "\n",
       "[1879302 rows x 8 columns]"
      ],
      "text/html": [
       "<div>\n",
       "<style scoped>\n",
       "    .dataframe tbody tr th:only-of-type {\n",
       "        vertical-align: middle;\n",
       "    }\n",
       "\n",
       "    .dataframe tbody tr th {\n",
       "        vertical-align: top;\n",
       "    }\n",
       "\n",
       "    .dataframe thead th {\n",
       "        text-align: right;\n",
       "    }\n",
       "</style>\n",
       "<table border=\"1\" class=\"dataframe\">\n",
       "  <thead>\n",
       "    <tr style=\"text-align: right;\">\n",
       "      <th></th>\n",
       "      <th>air_store_id</th>\n",
       "      <th>hpg_store_id</th>\n",
       "      <th>visit_date</th>\n",
       "      <th>visitors</th>\n",
       "      <th>genre_name</th>\n",
       "      <th>area_name</th>\n",
       "      <th>latitude</th>\n",
       "      <th>longitude</th>\n",
       "    </tr>\n",
       "  </thead>\n",
       "  <tbody>\n",
       "    <tr>\n",
       "      <th>0</th>\n",
       "      <td>air_00a91d42b08b08d9</td>\n",
       "      <td>hpg_fbe603376b5980fc</td>\n",
       "      <td>2016-01-14</td>\n",
       "      <td>NaN</td>\n",
       "      <td>NaN</td>\n",
       "      <td>NaN</td>\n",
       "      <td>NaN</td>\n",
       "      <td>NaN</td>\n",
       "    </tr>\n",
       "    <tr>\n",
       "      <th>1</th>\n",
       "      <td>air_00a91d42b08b08d9</td>\n",
       "      <td>hpg_fbe603376b5980fc</td>\n",
       "      <td>2016-01-15</td>\n",
       "      <td>NaN</td>\n",
       "      <td>NaN</td>\n",
       "      <td>NaN</td>\n",
       "      <td>NaN</td>\n",
       "      <td>NaN</td>\n",
       "    </tr>\n",
       "    <tr>\n",
       "      <th>2</th>\n",
       "      <td>air_00a91d42b08b08d9</td>\n",
       "      <td>hpg_fbe603376b5980fc</td>\n",
       "      <td>2016-01-16</td>\n",
       "      <td>NaN</td>\n",
       "      <td>NaN</td>\n",
       "      <td>NaN</td>\n",
       "      <td>NaN</td>\n",
       "      <td>NaN</td>\n",
       "    </tr>\n",
       "    <tr>\n",
       "      <th>3</th>\n",
       "      <td>air_00a91d42b08b08d9</td>\n",
       "      <td>hpg_fbe603376b5980fc</td>\n",
       "      <td>2016-01-22</td>\n",
       "      <td>NaN</td>\n",
       "      <td>NaN</td>\n",
       "      <td>NaN</td>\n",
       "      <td>NaN</td>\n",
       "      <td>NaN</td>\n",
       "    </tr>\n",
       "    <tr>\n",
       "      <th>4</th>\n",
       "      <td>air_00a91d42b08b08d9</td>\n",
       "      <td>hpg_fbe603376b5980fc</td>\n",
       "      <td>2016-01-29</td>\n",
       "      <td>NaN</td>\n",
       "      <td>NaN</td>\n",
       "      <td>NaN</td>\n",
       "      <td>NaN</td>\n",
       "      <td>NaN</td>\n",
       "    </tr>\n",
       "    <tr>\n",
       "      <th>...</th>\n",
       "      <td>...</td>\n",
       "      <td>...</td>\n",
       "      <td>...</td>\n",
       "      <td>...</td>\n",
       "      <td>...</td>\n",
       "      <td>...</td>\n",
       "      <td>...</td>\n",
       "      <td>...</td>\n",
       "    </tr>\n",
       "    <tr>\n",
       "      <th>2131405</th>\n",
       "      <td>NaN</td>\n",
       "      <td>hpg_fffc097dce87af3e</td>\n",
       "      <td>2017-03-10</td>\n",
       "      <td>NaN</td>\n",
       "      <td>NaN</td>\n",
       "      <td>NaN</td>\n",
       "      <td>NaN</td>\n",
       "      <td>NaN</td>\n",
       "    </tr>\n",
       "    <tr>\n",
       "      <th>2131406</th>\n",
       "      <td>NaN</td>\n",
       "      <td>hpg_fffc097dce87af3e</td>\n",
       "      <td>2017-03-17</td>\n",
       "      <td>NaN</td>\n",
       "      <td>NaN</td>\n",
       "      <td>NaN</td>\n",
       "      <td>NaN</td>\n",
       "      <td>NaN</td>\n",
       "    </tr>\n",
       "    <tr>\n",
       "      <th>2131407</th>\n",
       "      <td>NaN</td>\n",
       "      <td>hpg_fffc097dce87af3e</td>\n",
       "      <td>2017-03-27</td>\n",
       "      <td>NaN</td>\n",
       "      <td>NaN</td>\n",
       "      <td>NaN</td>\n",
       "      <td>NaN</td>\n",
       "      <td>NaN</td>\n",
       "    </tr>\n",
       "    <tr>\n",
       "      <th>2131408</th>\n",
       "      <td>NaN</td>\n",
       "      <td>hpg_fffc097dce87af3e</td>\n",
       "      <td>2017-04-21</td>\n",
       "      <td>NaN</td>\n",
       "      <td>NaN</td>\n",
       "      <td>NaN</td>\n",
       "      <td>NaN</td>\n",
       "      <td>NaN</td>\n",
       "    </tr>\n",
       "    <tr>\n",
       "      <th>2131409</th>\n",
       "      <td>NaN</td>\n",
       "      <td>hpg_fffc097dce87af3e</td>\n",
       "      <td>2017-04-23</td>\n",
       "      <td>NaN</td>\n",
       "      <td>NaN</td>\n",
       "      <td>NaN</td>\n",
       "      <td>NaN</td>\n",
       "      <td>NaN</td>\n",
       "    </tr>\n",
       "  </tbody>\n",
       "</table>\n",
       "<p>1879302 rows × 8 columns</p>\n",
       "</div>"
      ]
     },
     "execution_count": 168,
     "metadata": {},
     "output_type": "execute_result"
    }
   ],
   "execution_count": 168
  },
  {
   "metadata": {
    "ExecuteTime": {
     "end_time": "2024-11-26T06:56:47.277891Z",
     "start_time": "2024-11-26T06:56:41.107317Z"
    }
   },
   "cell_type": "code",
   "source": [
    "df_result_air = df_full.set_index(['air_store_id', 'visit_date']).combine_first(\n",
    "    df_missing.set_index(['air_store_id', 'visit_date'])\n",
    ").reset_index()\n",
    "# Объединяем по hpg_store_id и visit_date\n",
    "df_result_hpg = df_full.set_index(['hpg_store_id', 'visit_date']).combine_first(\n",
    "    df_missing.set_index(['hpg_store_id', 'visit_date'])\n",
    ").reset_index()\n",
    "\n",
    "# Объединяем результаты двух объединений\n",
    "df_result = pd.concat([df_result_air, df_result_hpg]).drop_duplicates()\n",
    "\n",
    "# Оставляем только строки с заполненным visitors\n",
    "df_result = df_result[df_result['visitors'].notna()]\n",
    "\n",
    "# Удаляем дубликаты, если они есть\n",
    "df_result = df_result.drop_duplicates()\n",
    "print(df_result.shape)\n",
    "df=df_result\n",
    "df['visitors'] = df['visitors'].astype(int)\n",
    "df"
   ],
   "id": "e7da2d0ee41567af",
   "outputs": [
    {
     "name": "stdout",
     "output_type": "stream",
     "text": [
      "(252108, 8)\n"
     ]
    },
    {
     "data": {
      "text/plain": [
       "                air_store_id  visit_date          hpg_store_id  visitors  \\\n",
       "111     air_00a91d42b08b08d9  2016-07-01  hpg_fbe603376b5980fc        35   \n",
       "112     air_00a91d42b08b08d9  2016-07-02  hpg_fbe603376b5980fc         9   \n",
       "113     air_00a91d42b08b08d9  2016-07-04  hpg_fbe603376b5980fc        20   \n",
       "114     air_00a91d42b08b08d9  2016-07-05  hpg_fbe603376b5980fc        25   \n",
       "115     air_00a91d42b08b08d9  2016-07-06  hpg_fbe603376b5980fc        29   \n",
       "...                      ...         ...                   ...       ...   \n",
       "278635  air_fff68b929994bfbd  2017-04-18                   NaN         6   \n",
       "278636  air_fff68b929994bfbd  2017-04-19                   NaN         2   \n",
       "278637  air_fff68b929994bfbd  2017-04-20                   NaN         2   \n",
       "278638  air_fff68b929994bfbd  2017-04-21                   NaN         4   \n",
       "278639  air_fff68b929994bfbd  2017-04-22                   NaN         5   \n",
       "\n",
       "       genre_name area_name  latitude  longitude  \n",
       "111           NaN       NaN       NaN        NaN  \n",
       "112           NaN       NaN       NaN        NaN  \n",
       "113           NaN       NaN       NaN        NaN  \n",
       "114           NaN       NaN       NaN        NaN  \n",
       "115           NaN       NaN       NaN        NaN  \n",
       "...           ...       ...       ...        ...  \n",
       "278635        NaN       NaN       NaN        NaN  \n",
       "278636        NaN       NaN       NaN        NaN  \n",
       "278637        NaN       NaN       NaN        NaN  \n",
       "278638        NaN       NaN       NaN        NaN  \n",
       "278639        NaN       NaN       NaN        NaN  \n",
       "\n",
       "[252108 rows x 8 columns]"
      ],
      "text/html": [
       "<div>\n",
       "<style scoped>\n",
       "    .dataframe tbody tr th:only-of-type {\n",
       "        vertical-align: middle;\n",
       "    }\n",
       "\n",
       "    .dataframe tbody tr th {\n",
       "        vertical-align: top;\n",
       "    }\n",
       "\n",
       "    .dataframe thead th {\n",
       "        text-align: right;\n",
       "    }\n",
       "</style>\n",
       "<table border=\"1\" class=\"dataframe\">\n",
       "  <thead>\n",
       "    <tr style=\"text-align: right;\">\n",
       "      <th></th>\n",
       "      <th>air_store_id</th>\n",
       "      <th>visit_date</th>\n",
       "      <th>hpg_store_id</th>\n",
       "      <th>visitors</th>\n",
       "      <th>genre_name</th>\n",
       "      <th>area_name</th>\n",
       "      <th>latitude</th>\n",
       "      <th>longitude</th>\n",
       "    </tr>\n",
       "  </thead>\n",
       "  <tbody>\n",
       "    <tr>\n",
       "      <th>111</th>\n",
       "      <td>air_00a91d42b08b08d9</td>\n",
       "      <td>2016-07-01</td>\n",
       "      <td>hpg_fbe603376b5980fc</td>\n",
       "      <td>35</td>\n",
       "      <td>NaN</td>\n",
       "      <td>NaN</td>\n",
       "      <td>NaN</td>\n",
       "      <td>NaN</td>\n",
       "    </tr>\n",
       "    <tr>\n",
       "      <th>112</th>\n",
       "      <td>air_00a91d42b08b08d9</td>\n",
       "      <td>2016-07-02</td>\n",
       "      <td>hpg_fbe603376b5980fc</td>\n",
       "      <td>9</td>\n",
       "      <td>NaN</td>\n",
       "      <td>NaN</td>\n",
       "      <td>NaN</td>\n",
       "      <td>NaN</td>\n",
       "    </tr>\n",
       "    <tr>\n",
       "      <th>113</th>\n",
       "      <td>air_00a91d42b08b08d9</td>\n",
       "      <td>2016-07-04</td>\n",
       "      <td>hpg_fbe603376b5980fc</td>\n",
       "      <td>20</td>\n",
       "      <td>NaN</td>\n",
       "      <td>NaN</td>\n",
       "      <td>NaN</td>\n",
       "      <td>NaN</td>\n",
       "    </tr>\n",
       "    <tr>\n",
       "      <th>114</th>\n",
       "      <td>air_00a91d42b08b08d9</td>\n",
       "      <td>2016-07-05</td>\n",
       "      <td>hpg_fbe603376b5980fc</td>\n",
       "      <td>25</td>\n",
       "      <td>NaN</td>\n",
       "      <td>NaN</td>\n",
       "      <td>NaN</td>\n",
       "      <td>NaN</td>\n",
       "    </tr>\n",
       "    <tr>\n",
       "      <th>115</th>\n",
       "      <td>air_00a91d42b08b08d9</td>\n",
       "      <td>2016-07-06</td>\n",
       "      <td>hpg_fbe603376b5980fc</td>\n",
       "      <td>29</td>\n",
       "      <td>NaN</td>\n",
       "      <td>NaN</td>\n",
       "      <td>NaN</td>\n",
       "      <td>NaN</td>\n",
       "    </tr>\n",
       "    <tr>\n",
       "      <th>...</th>\n",
       "      <td>...</td>\n",
       "      <td>...</td>\n",
       "      <td>...</td>\n",
       "      <td>...</td>\n",
       "      <td>...</td>\n",
       "      <td>...</td>\n",
       "      <td>...</td>\n",
       "      <td>...</td>\n",
       "    </tr>\n",
       "    <tr>\n",
       "      <th>278635</th>\n",
       "      <td>air_fff68b929994bfbd</td>\n",
       "      <td>2017-04-18</td>\n",
       "      <td>NaN</td>\n",
       "      <td>6</td>\n",
       "      <td>NaN</td>\n",
       "      <td>NaN</td>\n",
       "      <td>NaN</td>\n",
       "      <td>NaN</td>\n",
       "    </tr>\n",
       "    <tr>\n",
       "      <th>278636</th>\n",
       "      <td>air_fff68b929994bfbd</td>\n",
       "      <td>2017-04-19</td>\n",
       "      <td>NaN</td>\n",
       "      <td>2</td>\n",
       "      <td>NaN</td>\n",
       "      <td>NaN</td>\n",
       "      <td>NaN</td>\n",
       "      <td>NaN</td>\n",
       "    </tr>\n",
       "    <tr>\n",
       "      <th>278637</th>\n",
       "      <td>air_fff68b929994bfbd</td>\n",
       "      <td>2017-04-20</td>\n",
       "      <td>NaN</td>\n",
       "      <td>2</td>\n",
       "      <td>NaN</td>\n",
       "      <td>NaN</td>\n",
       "      <td>NaN</td>\n",
       "      <td>NaN</td>\n",
       "    </tr>\n",
       "    <tr>\n",
       "      <th>278638</th>\n",
       "      <td>air_fff68b929994bfbd</td>\n",
       "      <td>2017-04-21</td>\n",
       "      <td>NaN</td>\n",
       "      <td>4</td>\n",
       "      <td>NaN</td>\n",
       "      <td>NaN</td>\n",
       "      <td>NaN</td>\n",
       "      <td>NaN</td>\n",
       "    </tr>\n",
       "    <tr>\n",
       "      <th>278639</th>\n",
       "      <td>air_fff68b929994bfbd</td>\n",
       "      <td>2017-04-22</td>\n",
       "      <td>NaN</td>\n",
       "      <td>5</td>\n",
       "      <td>NaN</td>\n",
       "      <td>NaN</td>\n",
       "      <td>NaN</td>\n",
       "      <td>NaN</td>\n",
       "    </tr>\n",
       "  </tbody>\n",
       "</table>\n",
       "<p>252108 rows × 8 columns</p>\n",
       "</div>"
      ]
     },
     "execution_count": 169,
     "metadata": {},
     "output_type": "execute_result"
    }
   ],
   "execution_count": 169
  },
  {
   "metadata": {},
   "cell_type": "markdown",
   "source": [
    "вот я объединил это хорошо, но теперь надо выбрать вариант: \n",
    "1.  Объединить датасеты \n",
    "2. Дополнить датасет air\n",
    "\n",
    " Я иду по второму пути, потому что у air есть данные о посетителях, а у второго нет. Но надо по максимуму дополнить по остальным данным и это сделаю из второго датасета. Потом опять удалю все, что без значения количества посетителей и проверю аномальные значения.\n",
    " \n",
    "я уже выше сделал это, теперь надо именно подготовить данные к анализу: удалить аномалии и тд\n",
    "\n"
   ],
   "id": "cfb397975670506d"
  },
  {
   "metadata": {
    "ExecuteTime": {
     "end_time": "2024-11-26T06:56:47.316387Z",
     "start_time": "2024-11-26T06:56:47.313876Z"
    }
   },
   "cell_type": "code",
   "source": "date_df = date_df.rename(columns={'calendar_date':'visit_date'})",
   "id": "916ce0624091f67a",
   "outputs": [],
   "execution_count": 170
  },
  {
   "metadata": {
    "ExecuteTime": {
     "end_time": "2024-11-26T06:56:47.378490Z",
     "start_time": "2024-11-26T06:56:47.374760Z"
    }
   },
   "cell_type": "code",
   "source": "date_df ",
   "id": "6dd4e97cbbb6a603",
   "outputs": [
    {
     "data": {
      "text/plain": [
       "     visit_date day_of_week  holiday_flg\n",
       "0    2016-01-01      Friday            1\n",
       "1    2016-01-02    Saturday            1\n",
       "2    2016-01-03      Sunday            1\n",
       "3    2016-01-04      Monday            0\n",
       "4    2016-01-05     Tuesday            0\n",
       "..          ...         ...          ...\n",
       "512  2017-05-27    Saturday            0\n",
       "513  2017-05-28      Sunday            0\n",
       "514  2017-05-29      Monday            0\n",
       "515  2017-05-30     Tuesday            0\n",
       "516  2017-05-31   Wednesday            0\n",
       "\n",
       "[517 rows x 3 columns]"
      ],
      "text/html": [
       "<div>\n",
       "<style scoped>\n",
       "    .dataframe tbody tr th:only-of-type {\n",
       "        vertical-align: middle;\n",
       "    }\n",
       "\n",
       "    .dataframe tbody tr th {\n",
       "        vertical-align: top;\n",
       "    }\n",
       "\n",
       "    .dataframe thead th {\n",
       "        text-align: right;\n",
       "    }\n",
       "</style>\n",
       "<table border=\"1\" class=\"dataframe\">\n",
       "  <thead>\n",
       "    <tr style=\"text-align: right;\">\n",
       "      <th></th>\n",
       "      <th>visit_date</th>\n",
       "      <th>day_of_week</th>\n",
       "      <th>holiday_flg</th>\n",
       "    </tr>\n",
       "  </thead>\n",
       "  <tbody>\n",
       "    <tr>\n",
       "      <th>0</th>\n",
       "      <td>2016-01-01</td>\n",
       "      <td>Friday</td>\n",
       "      <td>1</td>\n",
       "    </tr>\n",
       "    <tr>\n",
       "      <th>1</th>\n",
       "      <td>2016-01-02</td>\n",
       "      <td>Saturday</td>\n",
       "      <td>1</td>\n",
       "    </tr>\n",
       "    <tr>\n",
       "      <th>2</th>\n",
       "      <td>2016-01-03</td>\n",
       "      <td>Sunday</td>\n",
       "      <td>1</td>\n",
       "    </tr>\n",
       "    <tr>\n",
       "      <th>3</th>\n",
       "      <td>2016-01-04</td>\n",
       "      <td>Monday</td>\n",
       "      <td>0</td>\n",
       "    </tr>\n",
       "    <tr>\n",
       "      <th>4</th>\n",
       "      <td>2016-01-05</td>\n",
       "      <td>Tuesday</td>\n",
       "      <td>0</td>\n",
       "    </tr>\n",
       "    <tr>\n",
       "      <th>...</th>\n",
       "      <td>...</td>\n",
       "      <td>...</td>\n",
       "      <td>...</td>\n",
       "    </tr>\n",
       "    <tr>\n",
       "      <th>512</th>\n",
       "      <td>2017-05-27</td>\n",
       "      <td>Saturday</td>\n",
       "      <td>0</td>\n",
       "    </tr>\n",
       "    <tr>\n",
       "      <th>513</th>\n",
       "      <td>2017-05-28</td>\n",
       "      <td>Sunday</td>\n",
       "      <td>0</td>\n",
       "    </tr>\n",
       "    <tr>\n",
       "      <th>514</th>\n",
       "      <td>2017-05-29</td>\n",
       "      <td>Monday</td>\n",
       "      <td>0</td>\n",
       "    </tr>\n",
       "    <tr>\n",
       "      <th>515</th>\n",
       "      <td>2017-05-30</td>\n",
       "      <td>Tuesday</td>\n",
       "      <td>0</td>\n",
       "    </tr>\n",
       "    <tr>\n",
       "      <th>516</th>\n",
       "      <td>2017-05-31</td>\n",
       "      <td>Wednesday</td>\n",
       "      <td>0</td>\n",
       "    </tr>\n",
       "  </tbody>\n",
       "</table>\n",
       "<p>517 rows × 3 columns</p>\n",
       "</div>"
      ]
     },
     "execution_count": 171,
     "metadata": {},
     "output_type": "execute_result"
    }
   ],
   "execution_count": 171
  },
  {
   "metadata": {
    "ExecuteTime": {
     "end_time": "2024-11-26T06:56:47.540309Z",
     "start_time": "2024-11-26T06:56:47.487054Z"
    }
   },
   "cell_type": "code",
   "source": [
    "df = pd.merge(df, date_df, on='visit_date', how='outer')\n",
    "print(df.shape)"
   ],
   "id": "7827a6f81ed1a38f",
   "outputs": [
    {
     "name": "stdout",
     "output_type": "stream",
     "text": [
      "(252147, 10)\n"
     ]
    }
   ],
   "execution_count": 172
  },
  {
   "metadata": {
    "ExecuteTime": {
     "end_time": "2024-11-26T06:56:47.652570Z",
     "start_time": "2024-11-26T06:56:47.634938Z"
    }
   },
   "cell_type": "code",
   "source": [
    "df = df.dropna(subset=['visitors'])\n",
    "print(df.shape)"
   ],
   "id": "d21a4443a9a28dd",
   "outputs": [
    {
     "name": "stdout",
     "output_type": "stream",
     "text": [
      "(252108, 10)\n"
     ]
    }
   ],
   "execution_count": 173
  },
  {
   "metadata": {
    "ExecuteTime": {
     "end_time": "2024-11-26T06:56:47.694638Z",
     "start_time": "2024-11-26T06:56:47.689407Z"
    }
   },
   "cell_type": "code",
   "source": [
    "del df['latitude']\n",
    "del df['longitude']\n",
    "del df['hpg_store_id']\n",
    "df"
   ],
   "id": "4e86d4e4c59e6ade",
   "outputs": [
    {
     "data": {
      "text/plain": [
       "                air_store_id  visit_date  visitors genre_name area_name  \\\n",
       "0       air_04341b588bde96cd  2016-01-01      10.0        NaN       NaN   \n",
       "1       air_05c325d315cc17f5  2016-01-01      29.0        NaN       NaN   \n",
       "2       air_08ba8cd01b3ba010  2016-01-01      11.0        NaN       NaN   \n",
       "3       air_09a845d5b5944b01  2016-01-01      56.0        NaN       NaN   \n",
       "4       air_1f7f8fa557bc0d55  2016-01-01       6.0        NaN       NaN   \n",
       "...                      ...         ...       ...        ...       ...   \n",
       "252103  air_fea5dc9594450608  2017-04-22      14.0        NaN       NaN   \n",
       "252104  air_fee8dcf4d619598e  2017-04-22      53.0        NaN       NaN   \n",
       "252105  air_fef9ccb3ba0da2f7  2017-04-22       5.0        NaN       NaN   \n",
       "252106  air_ffcc2d5087e1b476  2017-04-22       1.0        NaN       NaN   \n",
       "252107  air_fff68b929994bfbd  2017-04-22       5.0        NaN       NaN   \n",
       "\n",
       "       day_of_week  holiday_flg  \n",
       "0           Friday            1  \n",
       "1           Friday            1  \n",
       "2           Friday            1  \n",
       "3           Friday            1  \n",
       "4           Friday            1  \n",
       "...            ...          ...  \n",
       "252103    Saturday            0  \n",
       "252104    Saturday            0  \n",
       "252105    Saturday            0  \n",
       "252106    Saturday            0  \n",
       "252107    Saturday            0  \n",
       "\n",
       "[252108 rows x 7 columns]"
      ],
      "text/html": [
       "<div>\n",
       "<style scoped>\n",
       "    .dataframe tbody tr th:only-of-type {\n",
       "        vertical-align: middle;\n",
       "    }\n",
       "\n",
       "    .dataframe tbody tr th {\n",
       "        vertical-align: top;\n",
       "    }\n",
       "\n",
       "    .dataframe thead th {\n",
       "        text-align: right;\n",
       "    }\n",
       "</style>\n",
       "<table border=\"1\" class=\"dataframe\">\n",
       "  <thead>\n",
       "    <tr style=\"text-align: right;\">\n",
       "      <th></th>\n",
       "      <th>air_store_id</th>\n",
       "      <th>visit_date</th>\n",
       "      <th>visitors</th>\n",
       "      <th>genre_name</th>\n",
       "      <th>area_name</th>\n",
       "      <th>day_of_week</th>\n",
       "      <th>holiday_flg</th>\n",
       "    </tr>\n",
       "  </thead>\n",
       "  <tbody>\n",
       "    <tr>\n",
       "      <th>0</th>\n",
       "      <td>air_04341b588bde96cd</td>\n",
       "      <td>2016-01-01</td>\n",
       "      <td>10.0</td>\n",
       "      <td>NaN</td>\n",
       "      <td>NaN</td>\n",
       "      <td>Friday</td>\n",
       "      <td>1</td>\n",
       "    </tr>\n",
       "    <tr>\n",
       "      <th>1</th>\n",
       "      <td>air_05c325d315cc17f5</td>\n",
       "      <td>2016-01-01</td>\n",
       "      <td>29.0</td>\n",
       "      <td>NaN</td>\n",
       "      <td>NaN</td>\n",
       "      <td>Friday</td>\n",
       "      <td>1</td>\n",
       "    </tr>\n",
       "    <tr>\n",
       "      <th>2</th>\n",
       "      <td>air_08ba8cd01b3ba010</td>\n",
       "      <td>2016-01-01</td>\n",
       "      <td>11.0</td>\n",
       "      <td>NaN</td>\n",
       "      <td>NaN</td>\n",
       "      <td>Friday</td>\n",
       "      <td>1</td>\n",
       "    </tr>\n",
       "    <tr>\n",
       "      <th>3</th>\n",
       "      <td>air_09a845d5b5944b01</td>\n",
       "      <td>2016-01-01</td>\n",
       "      <td>56.0</td>\n",
       "      <td>NaN</td>\n",
       "      <td>NaN</td>\n",
       "      <td>Friday</td>\n",
       "      <td>1</td>\n",
       "    </tr>\n",
       "    <tr>\n",
       "      <th>4</th>\n",
       "      <td>air_1f7f8fa557bc0d55</td>\n",
       "      <td>2016-01-01</td>\n",
       "      <td>6.0</td>\n",
       "      <td>NaN</td>\n",
       "      <td>NaN</td>\n",
       "      <td>Friday</td>\n",
       "      <td>1</td>\n",
       "    </tr>\n",
       "    <tr>\n",
       "      <th>...</th>\n",
       "      <td>...</td>\n",
       "      <td>...</td>\n",
       "      <td>...</td>\n",
       "      <td>...</td>\n",
       "      <td>...</td>\n",
       "      <td>...</td>\n",
       "      <td>...</td>\n",
       "    </tr>\n",
       "    <tr>\n",
       "      <th>252103</th>\n",
       "      <td>air_fea5dc9594450608</td>\n",
       "      <td>2017-04-22</td>\n",
       "      <td>14.0</td>\n",
       "      <td>NaN</td>\n",
       "      <td>NaN</td>\n",
       "      <td>Saturday</td>\n",
       "      <td>0</td>\n",
       "    </tr>\n",
       "    <tr>\n",
       "      <th>252104</th>\n",
       "      <td>air_fee8dcf4d619598e</td>\n",
       "      <td>2017-04-22</td>\n",
       "      <td>53.0</td>\n",
       "      <td>NaN</td>\n",
       "      <td>NaN</td>\n",
       "      <td>Saturday</td>\n",
       "      <td>0</td>\n",
       "    </tr>\n",
       "    <tr>\n",
       "      <th>252105</th>\n",
       "      <td>air_fef9ccb3ba0da2f7</td>\n",
       "      <td>2017-04-22</td>\n",
       "      <td>5.0</td>\n",
       "      <td>NaN</td>\n",
       "      <td>NaN</td>\n",
       "      <td>Saturday</td>\n",
       "      <td>0</td>\n",
       "    </tr>\n",
       "    <tr>\n",
       "      <th>252106</th>\n",
       "      <td>air_ffcc2d5087e1b476</td>\n",
       "      <td>2017-04-22</td>\n",
       "      <td>1.0</td>\n",
       "      <td>NaN</td>\n",
       "      <td>NaN</td>\n",
       "      <td>Saturday</td>\n",
       "      <td>0</td>\n",
       "    </tr>\n",
       "    <tr>\n",
       "      <th>252107</th>\n",
       "      <td>air_fff68b929994bfbd</td>\n",
       "      <td>2017-04-22</td>\n",
       "      <td>5.0</td>\n",
       "      <td>NaN</td>\n",
       "      <td>NaN</td>\n",
       "      <td>Saturday</td>\n",
       "      <td>0</td>\n",
       "    </tr>\n",
       "  </tbody>\n",
       "</table>\n",
       "<p>252108 rows × 7 columns</p>\n",
       "</div>"
      ]
     },
     "execution_count": 174,
     "metadata": {},
     "output_type": "execute_result"
    }
   ],
   "execution_count": 174
  },
  {
   "metadata": {
    "ExecuteTime": {
     "end_time": "2024-11-26T06:56:47.741358Z",
     "start_time": "2024-11-26T06:56:47.738784Z"
    }
   },
   "cell_type": "code",
   "source": "print(df.columns)",
   "id": "f6b11a6ded4dd936",
   "outputs": [
    {
     "name": "stdout",
     "output_type": "stream",
     "text": [
      "Index(['air_store_id', 'visit_date', 'visitors', 'genre_name', 'area_name',\n",
      "       'day_of_week', 'holiday_flg'],\n",
      "      dtype='object')\n"
     ]
    }
   ],
   "execution_count": 175
  },
  {
   "metadata": {},
   "cell_type": "markdown",
   "source": "Добавил столбец с днями недели и праздниками. Начинаю обработку",
   "id": "95bf9dd334b8086b"
  },
  {
   "metadata": {
    "ExecuteTime": {
     "end_time": "2024-11-26T06:56:47.832464Z",
     "start_time": "2024-11-26T06:56:47.819520Z"
    }
   },
   "cell_type": "code",
   "source": "df.air_store_id.unique()",
   "id": "d7be6a0ea7a0d887",
   "outputs": [
    {
     "data": {
      "text/plain": [
       "array(['air_04341b588bde96cd', 'air_05c325d315cc17f5',\n",
       "       'air_08ba8cd01b3ba010', 'air_09a845d5b5944b01',\n",
       "       'air_1f7f8fa557bc0d55', 'air_2570ccb93badde68',\n",
       "       'air_25d8e5cc57dd87d9', 'air_298513175efdf261',\n",
       "       'air_35c4732dcbfe31be', 'air_36bcf77d3382d36e',\n",
       "       'air_39dccf7df20b1c6a', 'air_3b6438b125086430',\n",
       "       'air_506fe758114df773', 'air_536043fcf1a4f8a4',\n",
       "       'air_57ed725a1930a5b9', 'air_5b6d18c470bbfaf9',\n",
       "       'air_5c65468938c07fa5', 'air_60a7057184ec7ec7',\n",
       "       'air_6e3fd96320d24324', 'air_70e9e8cd55879414',\n",
       "       'air_71903025d39a4571', 'air_79f528087f49df06',\n",
       "       'air_7cc17a324ae5c7dc', 'air_81c5dff692063446',\n",
       "       'air_877f79706adbfb06', 'air_87f9e1024b951f01',\n",
       "       'air_883ca28ef0ed3d55', 'air_8d50c64692322dff',\n",
       "       'air_9d452a881f7f2bb7', 'air_a083834e7ffe187e',\n",
       "       'air_b2d8bc9c88b85f96', 'air_c31472d14e29cee8',\n",
       "       'air_c92745dfdd2ec68a', 'air_cb7467aed805e7fe',\n",
       "       'air_cfdeb326418194ff', 'air_d0a1e69685259c92',\n",
       "       'air_d0a7bd3339c3d12a', 'air_d0e8a085d8dc83aa',\n",
       "       'air_d97dabf7aae60da5', 'air_db4b38ebe7a7ceff',\n",
       "       'air_db80363d35f10926', 'air_e483f5b3c4f310e0',\n",
       "       'air_eb2d2653586315dd', 'air_efc80d3f96b3aff7',\n",
       "       'air_f26f36ec4dc5adb0', 'air_f690c42545146e0a',\n",
       "       'air_fab092c35776a9b1', 'air_fe22ef5a9cbef123',\n",
       "       'air_142e78ba7001da9c', 'air_1653a6c513865af3',\n",
       "       'air_1e23210b584540e7', 'air_1e665503b8474c55',\n",
       "       'air_20619d21192aa571', 'air_232dcee6f7c51d37',\n",
       "       'air_2b8b29ddfd35018e', 'air_326ca454ef3558bc',\n",
       "       'air_383f5b2f8d345a49', 'air_3a8a3f8fb5cd7f88',\n",
       "       'air_3bb99a1fe0583897', 'air_3c05c8f26c611eb9',\n",
       "       'air_54d6c25d33f5260e', 'air_5c817ef28f236bdf',\n",
       "       'air_638c35eb25e53eea', 'air_63a750d8b4b6a976',\n",
       "       'air_63b13c56b7201bd9', 'air_68c1de82037d87e6',\n",
       "       'air_6b15edd1b4fbb96a', 'air_6c91a28278a16f64',\n",
       "       'air_789466e488705c93', 'air_7cf5a02c0e01b647',\n",
       "       'air_9fc607777ad76b26', 'air_b3180b74332ba886',\n",
       "       'air_ba495cccc8f0f237', 'air_c225148c0fcc5c72',\n",
       "       'air_de88770300008624', 'air_dea0655f96947922',\n",
       "       'air_dfad598ff642dab7', 'air_e270aff84ac7e4c8',\n",
       "       'air_eb120e6d384a17a8', 'air_0241aa3964b7f861',\n",
       "       'air_2009041dbf9264de', 'air_27e991812b0d9c92',\n",
       "       'air_287d2de7d3c93406', 'air_37189c92b6c761ec',\n",
       "       'air_3982a2c4ea2ed431', 'air_48e9fc98b62495a7',\n",
       "       'air_4cab15ad29c0ffbc', 'air_4cca5666eaf5c709',\n",
       "       'air_5e939e005bd34633', 'air_901925b628677c2e',\n",
       "       'air_9f277fb7a2c1d842', 'air_a41b032371a63427',\n",
       "       'air_b60cc7d6aee68194', 'air_bdd32aa407c16335',\n",
       "       'air_c2c8435bdb3516d4', 'air_c4fa5c562d5409ca',\n",
       "       'air_cbe139af83feb388', 'air_d00161e19f08290b',\n",
       "       'air_f068442ebb6c246c', 'air_03963426c9312048',\n",
       "       'air_07bb665f9cdfbdfb', 'air_082908692355165e',\n",
       "       'air_0b184ec04c741a6a', 'air_138ee734ac79ff90',\n",
       "       'air_1509881b22965b34', 'air_23ee674e91469086',\n",
       "       'air_24b9b2a020826ede', 'air_2634e41551e9807d',\n",
       "       'air_275732a5db46f4d3', 'air_28a9fa1ec0839375',\n",
       "       'air_290e7a57b390f78e', 'air_2aab19554f91ff82',\n",
       "       'air_2c989829acbd1c6b', 'air_2d3afcb91762fe01',\n",
       "       'air_3155ee23d92202da', 'air_32460819c7600037',\n",
       "       'air_3e6cea17a9d2c0f1', 'air_40f6193ea3ed1b91',\n",
       "       'air_43d577e0c9460e64', 'air_4b251b9f8373f1ae',\n",
       "       'air_4c665a2bfff0da3b', 'air_4ce7b17062a1bf73',\n",
       "       'air_546b353cbea4a45b', 'air_54ed43163b7596c4',\n",
       "       'air_55c3627912b9c849', 'air_5e70fe82f9e4fab6',\n",
       "       'air_609050e4e4f79ae1', 'air_60aa54ecbc602348',\n",
       "       'air_614e2f7e76dff854', 'air_622375b4815cf5cb',\n",
       "       'air_640cf4835f0d9ba3', 'air_675aa35cba456fd1',\n",
       "       'air_6cbe54f0aa30b615', 'air_6d65542aa43b598b',\n",
       "       'air_707d4b6328f2c2df', 'air_722297e7f26db91d',\n",
       "       'air_77488fa378cf98c3', 'air_79afb3f52b4d062c',\n",
       "       'air_7a946aada80376a4', 'air_7bc6ca04d7b0f3b8',\n",
       "       'air_7e12c5d27f44a8de', 'air_86cfbf2624576fad',\n",
       "       'air_8a906e5801eac81c', 'air_8c119d1f16049f20',\n",
       "       'air_9152d9926e5c4a3a', 'air_91beafbba9382b0a',\n",
       "       'air_91d72e16c4bcba55', 'air_9352c401d5adb01b',\n",
       "       'air_93ebe490d4abb8e9', 'air_9438d67241c81314',\n",
       "       'air_95d28905941fd4cb', 'air_97159fc4e90053fe',\n",
       "       'air_9aa32b3db0fab3a5', 'air_9b13c7feb0a0c431',\n",
       "       'air_9d93d95720f2e831', 'air_a1fe8c588c8d2f30',\n",
       "       'air_a38f25e3399d1b25', 'air_a55d17bd3f3033cb',\n",
       "       'air_aa0049fe3cc6f4d6', 'air_b1d822f75c9fc615',\n",
       "       'air_bfda7731a6c6fc61', 'air_c6a164dd4060e960',\n",
       "       'air_c73d319ffabf287a', 'air_c9ed65554b6edffb',\n",
       "       'air_d34c0861a2be94cb', 'air_d44d210d2994f01b',\n",
       "       'air_de692863bb2dd758', 'air_e0f241bd406810c0',\n",
       "       'air_e5cf003abcc5febb', 'air_e700e390226d9985',\n",
       "       'air_e88bbe2ede3467aa', 'air_e9ebf7fc520ac76a',\n",
       "       'air_ee3a01f0c71a769f', 'air_ef789667e2e6fe96',\n",
       "       'air_f6b2489ccf873c3b', 'air_f911308e19d64236',\n",
       "       'air_f927b2da69a82341', 'air_f96765e800907c77',\n",
       "       'air_fbadf737162a5ce3', 'air_fd6aac1043520e83',\n",
       "       'air_06f95ac5c33aca10', 'air_0768ab3910f7967f',\n",
       "       'air_1ae94f514a0bce13', 'air_1c95a84924d72500',\n",
       "       'air_1f1390a8be2272b3', 'air_234d3dbf7f3d5a50',\n",
       "       'air_25e9888d30b386df', 'air_2a3743e37aab04b4',\n",
       "       'air_2cee51fa6fdf6c0d', 'air_346ade7d29230634',\n",
       "       'air_3525f11ef0bf0c35', 'air_3561fd1c0bce6a95',\n",
       "       'air_399904bdb7685ca0', 'air_3caef3f76b8f26c5',\n",
       "       'air_41bbf6e1d9814c4b', 'air_457efe8c3a30ea17',\n",
       "       'air_473f98b212d37b4a', 'air_4cab91146e3d1897',\n",
       "       'air_4d71826793c09b22', 'air_4f762e840b3996e1',\n",
       "       'air_539d693f7317c62d', 'air_55390f784018349a',\n",
       "       'air_573ecdf81b157d22', 'air_5ed3198e4a5eed0f',\n",
       "       'air_5f3a3ef4cba110a4', 'air_61de73b097513f58',\n",
       "       'air_63a88d81295195ed', 'air_63e28ee0b0c955a7',\n",
       "       'air_64d4491ad8cdb1c6', 'air_650f9b9de0c5542c',\n",
       "       'air_65e294f1ae6df9c3', 'air_670a0c1c4108bcea',\n",
       "       'air_671b4bea84dafb67', 'air_673acd9fa5e0dd78',\n",
       "       'air_681f96e6a6595f82', 'air_6b9fa44a9cf504a1',\n",
       "       'air_77dfc83450cbc89c', 'air_81a12d67c22e012f',\n",
       "       'air_832f9dbe9ee4ebd3', 'air_88ca84051ba95339',\n",
       "       'air_90bd5de52c166767', 'air_9241121af22ff1d6',\n",
       "       'air_93dd7070c9bf5453', 'air_96743eee94114261',\n",
       "       'air_96ec3cfe78cb0652', 'air_99157b6163835eec',\n",
       "       'air_9bbc673495e23532', 'air_9d3482b4680aee88',\n",
       "       'air_a373500730e2a9e0', 'air_a563896da3777078',\n",
       "       'air_a678e5b144ca24ce', 'air_ad7777590c884721',\n",
       "       'air_b162fb07fbbdea33', 'air_b7fa3d2fca744dd2',\n",
       "       'air_b9e27558fb8bd5c4', 'air_bf21b8350771879b',\n",
       "       'air_c1d5d165c055b866', 'air_c8a657c8c5c93d69',\n",
       "       'air_c9f6de13be8b8f25', 'air_ced6297e5bdf5130',\n",
       "       'air_d138b593ebda55cc', 'air_d54d6fcb116fbed3',\n",
       "       'air_df5cf5cd03eb68d0', 'air_e0118664da63a2d0',\n",
       "       'air_e55abd740f93ecc4', 'air_e57dd6884595f60d',\n",
       "       'air_e58f669b6f1a08ce', 'air_e7d2ac6d53d1b744',\n",
       "       'air_ea7c16131980c837', 'air_eb20a89bba7dd3d0',\n",
       "       'air_eca4a5a191e8d993', 'air_ef920fa6f4b085f6',\n",
       "       'air_efef1e3daecce07e', 'air_f1f9027d4fa8f653',\n",
       "       'air_fcd4492c83f1c6b9', 'air_fe58c074ec1445ea',\n",
       "       'air_0728814bd98f7367', 'air_0e1eae99b8723bc1',\n",
       "       'air_1d1e8860ae04f8e9', 'air_3cad29d1a23209d2',\n",
       "       'air_401b39f97e56b939', 'air_483eba479dc9910d',\n",
       "       'air_51319e7acf0438cf', 'air_632ba66e1f75aa28',\n",
       "       'air_683371d9baabf410', 'air_6b7678aae65d2d59',\n",
       "       'air_73f316e6a18d8aa9', 'air_7c7774c66fb237f7',\n",
       "       'air_8093d0b565e9dbdf', 'air_a8533b7a992bb0ca',\n",
       "       'air_bf7591560077332d', 'air_cb083b4789a8d3a2',\n",
       "       'air_d4b5a4b04c5f2d04', 'air_d5e0a20370c325c7',\n",
       "       'air_e01d99390355408d', 'air_f0c7272956e62f12',\n",
       "       'air_16cf0a73233896de', 'air_4043b7ccfbffa732',\n",
       "       'air_6d65dd11d96e00fb', 'air_7831b00996701c0f',\n",
       "       'air_ab3ae0e410b20069', 'air_abf06fcca748dca5',\n",
       "       'air_17bed6dbf7c8b0fc', 'air_26c5bbeb7bb82bf1',\n",
       "       'air_4570f52104fe0982', 'air_5d945ade487cdf4d',\n",
       "       'air_8764b3473ddcceaf', 'air_93b9bb641f8fc982',\n",
       "       'air_968d72c12eed09f0', 'air_b192fb5310436005',\n",
       "       'air_0382c794b73b51ad', 'air_681b0c56328dd2af',\n",
       "       'air_6e06824d0934dd81', 'air_500641aca4cf673c',\n",
       "       'air_ba937bf13d40fb24', 'air_6c952e3c6e590945',\n",
       "       'air_68301bcb11e2f389', 'air_fa4ffc9057812fa2',\n",
       "       'air_c759b6abeb552160', 'air_2a485b92210c98b5',\n",
       "       'air_bfafaed35e213fd7', 'air_b4f32bcc399da2b9',\n",
       "       'air_f2c5a1f24279c531', 'air_df554c4527a1cfe6',\n",
       "       'air_0f2f96335f274801', 'air_35512c42db0868da',\n",
       "       'air_bb26d6d079594414', 'air_cadf9cfb510a1d78',\n",
       "       'air_b1bb1fae86617d7a', 'air_c7d30ab0e07f31d5',\n",
       "       'air_b259b4e4a51a690d', 'air_e8ed9335d0c38333',\n",
       "       'air_1033310359ceeac1', 'air_a9133955abccf071',\n",
       "       'air_764f71040a413d4d', 'air_d98380a4aeb0290b',\n",
       "       'air_00a91d42b08b08d9', 'air_034a3d5b40d5b1b1',\n",
       "       'air_036d4f1ee7285390', 'air_049f6d5b402a31b2',\n",
       "       'air_04cae7c1bc9b2a0b', 'air_0585011fa179bcce',\n",
       "       'air_0647f17b4dc041c8', 'air_064e203265ee5753',\n",
       "       'air_066f0221b8a4d533', 'air_07b314d83059c4d2',\n",
       "       'air_083ddc520ea47e1e', 'air_0845d8395f30c6bb',\n",
       "       'air_084d98859256acf0', 'air_08cb3c4ee6cd6a22',\n",
       "       'air_08ef81d5b7a0d13f', 'air_08f994758a1e76d4',\n",
       "       'air_09040f6df960ddb8', 'air_0919d54f0c9a24b8',\n",
       "       'air_09661c0f3259cc04', 'air_09fd1f5c58583141',\n",
       "       'air_0a74a5408a0b8642', 'air_0b1e72d2d4422b20',\n",
       "       'air_0b9038300f8b2b50', 'air_0e7c11b9abc50163',\n",
       "       'air_0f0cdeee6c9bf3d7', 'air_0f60e1576a7d397d',\n",
       "       'air_10393f12e9069760', 'air_105a7954e32dba9b',\n",
       "       'air_10713fbf3071c361', 'air_10bbe8acd943d8f6',\n",
       "       'air_12c4fb7a423df20d', 'air_138ff410757b845f',\n",
       "       'air_1408dd53f31a8a65', 'air_152c1f08d7d20e07',\n",
       "       'air_15ae33469e9ea2dd', 'air_15e6e15c7ea2c162',\n",
       "       'air_16179d43b6ee5fd8', 'air_168441ada3e878e1',\n",
       "       'air_1707a3f18bb0da07', 'air_1979eaff8189d086',\n",
       "       'air_1ab60ce33bfed8a8', 'air_1ba4e87ef7422183',\n",
       "       'air_1d25ca6c76df48b4', 'air_1d3f797dd1f7cf1c',\n",
       "       'air_1dd8f6f47480d1a2', 'air_1dea9815ccd36620',\n",
       "       'air_1eeff462acb24fb7', 'air_1f34e9beded2231a',\n",
       "       'air_20add8092c9bb51d', 'air_2195cd5025a98033',\n",
       "       'air_21f5052d5330528d', 'air_220cba70c890b119',\n",
       "       'air_22682e965418936f', 'air_228f10bec0bda9c8',\n",
       "       'air_229d7e508d9f1b5e', 'air_23e1b11aee2a1407',\n",
       "       'air_24e8414b9b07decb', 'air_2545dd3a00f265e2',\n",
       "       'air_256be208a979e023', 'air_258ad2619d7bff9a',\n",
       "       'air_258dc112912fc458', 'air_26f10355d9b4d82a',\n",
       "       'air_2703dcb33192b181', 'air_28064154614b2e6c',\n",
       "       'air_2a184c1745274b2b', 'air_2a24aec099333f39',\n",
       "       'air_2a7f14da7fe0f699', 'air_2ac361b97630e2df',\n",
       "       'air_2b9bc9f5f5168ea1', 'air_2bffb19a24d11729',\n",
       "       'air_2c505f9ad67d4635', 'air_2c6c79d597e48096',\n",
       "       'air_2d78d9a1f4dd02ca', 'air_2e7cb1f1a2a9cd6a',\n",
       "       'air_2f8ced25216df926', 'air_2fc149abe33adcb4',\n",
       "       'air_2fc478dc9f0a6b31', 'air_2fed81034f8834e5',\n",
       "       'air_303bac187b53083a', 'air_310e467e6e625004',\n",
       "       'air_324f7c39a8410e7c', 'air_32b02ba5dc2027f4',\n",
       "       'air_32c61b620a766138', 'air_32f5d7cd696e3c4a',\n",
       "       'air_33b01025210d6007', 'air_3440e0ea1b70a99b',\n",
       "       'air_347be2c4feeb408b', 'air_349278fa964bb12f',\n",
       "       'air_36429b5ca4407b3e', 'air_375a5241615b5e22',\n",
       "       'air_38746ffe9aa20c7e', 'air_396166d47733d5c9',\n",
       "       'air_396942e6423a2145', 'air_397d3f32a7196aa2',\n",
       "       'air_3980af67be35afdb', 'air_3aa839e8e0cb6c87',\n",
       "       'air_3ac24136722e2291', 'air_3b20733899b5287f',\n",
       "       'air_3bd49f98ab7f36ab', 'air_3c938075889fc059',\n",
       "       'air_3d3a2b509180e798', 'air_3e93f3c81008696d',\n",
       "       'air_3f91d592acd6cc0b', 'air_4092cfbd95a3ac1b',\n",
       "       'air_40953e2d8b4f2857', 'air_414ff459ed18fa48',\n",
       "       'air_421670f21da5ba31', 'air_4254c3fc3ad078bd',\n",
       "       'air_42c9aa6d617c5057', 'air_42d41eb58cad170e',\n",
       "       'air_43b65e4b05bff2d3', 'air_4433ab8e9999915f',\n",
       "       'air_4481a87c1d7c9896', 'air_452100f5305dde64',\n",
       "       'air_45326ebb8dc72cfb', 'air_4579cb0669fd411b',\n",
       "       'air_464a62de0d57be1e', 'air_465bddfed3353b23',\n",
       "       'air_47070be6093f123e', 'air_472b19e3b5bffa41',\n",
       "       'air_473cf23b9e7c0a37', 'air_47beaffd3806c979',\n",
       "       'air_48f4da6223571da4', 'air_48ffd31594bc3263',\n",
       "       'air_49211568cab5fdee', 'air_4974785f48853db9',\n",
       "       'air_4b380b4db9d37883', 'air_4b9085d0d46a6211',\n",
       "       'air_4beac252540f865e', 'air_4c2ed28f3f19ca52',\n",
       "       'air_4c727b55acdee495', 'air_4d21676ed11f0bac',\n",
       "       'air_4d90a22572fa1ec9', 'air_4de6d887a7b1c1fc',\n",
       "       'air_4dea8d17f6f59c56', 'air_4e1c38f68f435596',\n",
       "       'air_4feeb8600f131e43', 'air_52e2a1fd42bc917a',\n",
       "       'air_5485912b44f976de', 'air_55e11c33d4758131',\n",
       "       'air_56cd12f31a0afc04', 'air_56cebcbd6906e04c',\n",
       "       'air_56ea46c14b2dd967', 'air_57013002b912772b',\n",
       "       'air_57c9eea1a2b66e65', 'air_5878b6f2a9da12c1',\n",
       "       'air_59cc9b2b209c6331', 'air_5a9a6cbeeb434c08',\n",
       "       'air_5acc13d655a6e8b2', 'air_5afb1cca48ceaa19',\n",
       "       'air_5b704df317ed1962', 'air_5cfc537125d97f16',\n",
       "       'air_5d7c744c3a2ef624', 'air_5dea8a7a5bf5eb71',\n",
       "       'air_5e339a1f364cdb00', 'air_5e34c6fe6fabd10e',\n",
       "       'air_5f6fa1b897fe80d5', 'air_5fbda8e9302f7c13',\n",
       "       'air_602ca92c0db34f8f', 'air_61b8d37c33617f21',\n",
       "       'air_627cabe2fe53f33f', 'air_629d9935273c82ae',\n",
       "       'air_629edf21ea38ac2d', 'air_6411203a47b5ec77',\n",
       "       'air_645cb18b33f938cf', 'air_657a0748462f85de',\n",
       "       'air_6607fe3671242ce3', 'air_67f87c159d9e2ee2',\n",
       "       'air_68147db09287bf74', 'air_6836438b543ba698',\n",
       "       'air_6873982b9e19c7ad', 'air_68cc910e7b307b09',\n",
       "       'air_694571ea13fb9e0e', 'air_6a15e4eae523189d',\n",
       "       'air_6b2268863b14a2af', 'air_6b942d5ebbc759c2',\n",
       "       'air_6c1128955c58b690', 'air_6ca1d941c8199a67',\n",
       "       'air_6ced51c24fb54262', 'air_6d64dba2edd4fc0c',\n",
       "       'air_6e64fb5821402cd2', 'air_6ff5fca957798daa',\n",
       "       'air_709262d948dd0b6e', 'air_70f834596eb99fee',\n",
       "       'air_710d6537cb7623df', 'air_712dd258f7f91b4b',\n",
       "       'air_728ff578acc6ac6e', 'air_72f5146cf0c49beb',\n",
       "       'air_746211c0b532e8aa', 'air_747f375eb3900e1e',\n",
       "       'air_74cf22153214064c', 'air_7514d90009613cd6',\n",
       "       'air_754ae581ad80cc9f', 'air_75864c80d2fb334a',\n",
       "       'air_75bd5d1b6dc6670d', 'air_78df4dc6a7e83e41',\n",
       "       'air_7a81bd7fadcbf3d8', 'air_7bacc4d36fb094c9',\n",
       "       'air_7bda6048a4a78837', 'air_7d65049f9d275c0d',\n",
       "       'air_7dacea2f22afccfb', 'air_7db266904cb0d72a',\n",
       "       'air_7ef9a5ea5c8fe39f', 'air_7f3dc18494bce98b',\n",
       "       'air_7f9e15afafcf4c75', 'air_7fbf7649eb13ad9b',\n",
       "       'air_800c02226e2e0288', 'air_81546875de9c8e78',\n",
       "       'air_81bd68142db76f58', 'air_81c2600146d07d16',\n",
       "       'air_820d1919cbecaa0a', 'air_82a6ae14151953ba',\n",
       "       'air_831658500aa7c846', 'air_83db5aff8f50478e',\n",
       "       'air_84060403939d8216', 'air_848616680ef061bd',\n",
       "       'air_84f6876ff7e83ae7', 'air_8523d6a70de49e6c',\n",
       "       'air_859feab8e3c9f98d', 'air_85bd13a49370c392',\n",
       "       'air_86f7b2109e4abd65', 'air_87059630ab6fe47f',\n",
       "       'air_87078cf7903a648c', 'air_87467487d21891dd',\n",
       "       'air_876d7a23c47811cb', 'air_87ca98aa7664de94',\n",
       "       'air_88c8e34baa79217b', 'air_88f31db64991768a',\n",
       "       'air_890d7e28e8eaaa11', 'air_89e7328af22efe74',\n",
       "       'air_8a1d21fad48374e8', 'air_8a59bb0c497b771e',\n",
       "       'air_8b4a46dc521bfcfe', 'air_8c3175aa5e4fc569',\n",
       "       'air_8cc350fd70ee0757', 'air_8ce035ee1d8a56a6',\n",
       "       'air_8e429650fcf7a0ae', 'air_8e4360a64dbd4c50',\n",
       "       'air_8ec47c0f1e2c879e', 'air_8f13ef0f5e8c64dd',\n",
       "       'air_8f273fb9ad2fed6f', 'air_8f3b563416efc6ad',\n",
       "       'air_90213bcae4afa274', 'air_90f0efbb702d77b7',\n",
       "       'air_9105a29b0eb250d2', 'air_91236b89d29567af',\n",
       "       'air_915558a55c2bc56c', 'air_929d8513e3cdb423',\n",
       "       'air_931a8a4321b6e7d1', 'air_938ef91ecdde6878',\n",
       "       'air_939964477035ef0b', 'air_9483d65e9cc9a6b7',\n",
       "       'air_950381108f839348', 'air_95e917913cd988f3',\n",
       "       'air_96773a6236d279b1', 'air_96929a799b12a43e',\n",
       "       'air_97958e7fce98b6a3', 'air_97cf68dc1a9beac0',\n",
       "       'air_97e0f2feec4d577a', 'air_9828505fefc77d75',\n",
       "       'air_98b54e32ccddd896', 'air_990a642a3deb2903',\n",
       "       'air_99a5183695b849f9', 'air_99b01136f451fc0e',\n",
       "       'air_99c3eae84130c1cb', 'air_9a30407764f4ff84',\n",
       "       'air_9aa92007e3628dbc', 'air_9ae7081cb77dc51e',\n",
       "       'air_9b6af3db40da4ae2', 'air_9bf0ccac497c4af3',\n",
       "       'air_9bf595ef095572fb', 'air_9ca2767761efff4d',\n",
       "       'air_9cd5e310f488bced', 'air_9d474ec2448c700d',\n",
       "       'air_9d5a980b211e1795', 'air_9dc9483f717d73ee',\n",
       "       'air_9dd7d38b0f1760c4', 'air_9e920b758503ef54',\n",
       "       'air_9efaa7ded03c5a71', 'air_a11473cc1eb9a27f',\n",
       "       'air_a218912784bf767d', 'air_a21ffca0bea1661a',\n",
       "       'air_a239a44805932bab', 'air_a24bf50c3e90d583',\n",
       "       'air_a2567267116a3b75', 'air_a271c9ba19e81d17',\n",
       "       'air_a2b29aa7feb4e36f', 'air_a304330715435390',\n",
       "       'air_a33461f4392ec62c', 'air_a49f1cf0634f13e5',\n",
       "       'air_a510dcfe979f09eb', 'air_a7404a854919e990',\n",
       "       'air_a85f0c0c889f6b7e', 'air_a85f8c0bfd61889f',\n",
       "       'air_a9178f19da58fe99', 'air_ab9746a0f83084b7',\n",
       "       'air_abcdc8115988a010', 'air_ac7a7427c9ae12a5',\n",
       "       'air_ad13e71e21235131', 'air_ad60f6b76c9df7ed',\n",
       "       'air_add9a575623726c8', 'air_ade6e836ffd1da64',\n",
       "       'air_aed3a8b49abe4a48', 'air_af03c277a167b2bd',\n",
       "       'air_af24e3e817dea1e5', 'air_af63df35857b16e6',\n",
       "       'air_b0a6a4c5e95c74cf', 'air_b1a72bf1ebf4b8ef',\n",
       "       'air_b23d0f519291247d', 'air_b28bed4b2e7167b7',\n",
       "       'air_b2a639cc7e02edf1', 'air_b2d97bd2337c5ba7',\n",
       "       'air_b2dcec37b83e2494', 'air_b30fffd7ab1e75a5',\n",
       "       'air_b3a824511477a4ed', 'air_b439391e72899756',\n",
       "       'air_b45b8e456f53942a', 'air_b5598d12d1b84890',\n",
       "       'air_b5bdd318005d9aa4', 'air_b711b43ae472cb6b',\n",
       "       'air_b88192b35ac03c24', 'air_b8925441167c3152',\n",
       "       'air_b8a5ee69e5fdcc5b', 'air_b8d9e1624baaadc2',\n",
       "       'air_bac5f4441db21db9', 'air_baf28ac9f13a307d',\n",
       "       'air_bb09595bab7d5cfb', 'air_bbe1c1a47e09f161',\n",
       "       'air_bc991c51d6613745', 'air_bc9a129e11a2efe0',\n",
       "       'air_bcce1ea4350b7b72', 'air_bd74a9222edfdfe1',\n",
       "       'air_bebd55ed63ab2422', 'air_bed603c423b7d9d4',\n",
       "       'air_bedd35489e666605', 'air_bf13014b6e3e60ca',\n",
       "       'air_bf617aa68d5f1cfa', 'air_c027e2b560442808',\n",
       "       'air_c0385db498b391e5', 'air_c1ff20617c54fee7',\n",
       "       'air_c2626f5f86d57342', 'air_c26f027b5bc1f081',\n",
       "       'air_c28983412a7eefcf', 'air_c3bc011cca3bec65',\n",
       "       'air_c3dcaf3aeb18e20e', 'air_c47aa7493b15f297',\n",
       "       'air_c52c63c781fe48f6', 'air_c5459218282bedd5',\n",
       "       'air_c66dbd2c37832d00', 'air_c6ffd6a93e6b68d6',\n",
       "       'air_c77ee2b7d36da265', 'air_c7f78b4f3cba33ff',\n",
       "       'air_c8265ecc116f2284', 'air_c88467d88b2c8ecd',\n",
       "       'air_c8c0ef02ed72053f', 'air_c8fe396d6c46275d',\n",
       "       'air_ca1315af9e073bd1', 'air_ca6ae8d49a2f1eaf',\n",
       "       'air_ca957d3a1529fbd3', 'air_caf996ac27206301',\n",
       "       'air_cb25551c4cd8d9f3', 'air_cb935ff8610ba3d3',\n",
       "       'air_cbe867adcf44e14f', 'air_cc1a0e985ce63711',\n",
       "       'air_cc35590cd1da8554', 'air_ccd19a5bc5573ae5',\n",
       "       'air_cd4b301d5d3918d8', 'air_cd5f54969be9ed08',\n",
       "       'air_cf2229e64408d9fe', 'air_cf22e368c1a71d53',\n",
       "       'air_d00a15343325e5f7', 'air_d07e57b21109304a',\n",
       "       'air_d1418d6fd6d634f2', 'air_d186b2cb0b9ce022',\n",
       "       'air_d1f20424f76cc78e', 'air_d3e7b5952cd09ccb',\n",
       "       'air_d473620754bf9fc2', 'air_d477b6339b8ce69f',\n",
       "       'air_d4981cdde163b172', 'air_d4d218b451f82c3d',\n",
       "       'air_d500b48a8735fbd3', 'air_d63cfa6d6ab78446',\n",
       "       'air_d69b08a175bc0387', 'air_d6b3e67261f07646',\n",
       "       'air_d8abb9e490abf94f', 'air_daa7947e1c47f5ed',\n",
       "       'air_dabfbd0ec951925a', 'air_dad0b6a36138f309',\n",
       "       'air_db1233ad855b34d5', 'air_dbf64f1ce38c7442',\n",
       "       'air_dc0e080ba0a5e5af', 'air_dc71c6cc06cd1aa2',\n",
       "       'air_de803f7e324936b8', 'air_df507aec929ce5f6',\n",
       "       'air_df843e6b22e8d540', 'air_df9355c47c5df9d3',\n",
       "       'air_dfe068a1bf85f395', 'air_e053c561f32acc28',\n",
       "       'air_e08b9cf82057a170', 'air_e0aee25b56a069f2',\n",
       "       'air_e0e69668214ff972', 'air_e1b76fcb5208fb6b',\n",
       "       'air_e2208a79e2678432', 'air_e3020992d5fe5dfd',\n",
       "       'air_e34c631c766f2766', 'air_e42bdc3377d1eee7',\n",
       "       'air_e524c6a9e06cc3a1', 'air_e64de0a6bf0739af',\n",
       "       'air_e657ca554b0c008c', 'air_e76a668009c5dabc',\n",
       "       'air_e7fbee4e3cfe65c5', 'air_e89735e80d614a7e',\n",
       "       'air_ea6d0c3acf00b22a', 'air_eb5788dba285e725',\n",
       "       'air_ebd31e812960f517', 'air_ebe02c3090271fa9',\n",
       "       'air_ec0fad2def4dcff0', 'air_eca5e0064dc9314a',\n",
       "       'air_ecab54b57a71b10d', 'air_eceb97ad6a7d4c07',\n",
       "       'air_ecf7f141339f1d57', 'air_eda179770dfa9f91',\n",
       "       'air_edd5e3d696a5811b', 'air_eec5e572b9eb9c23',\n",
       "       'air_eeeadee005c006a2', 'air_efd70b04de878f25',\n",
       "       'air_f0fb0975bdc2cdf9', 'air_f1094dbf2aef85d9',\n",
       "       'air_f180301886c21375', 'air_f183a514cb8ff4fa',\n",
       "       'air_f267dd70a6a6b5d3', 'air_f2985de32bb792e0',\n",
       "       'air_f3602e4fa2f12993', 'air_f3f9824b7d70c3cf',\n",
       "       'air_f4936b91c9addbf0', 'air_f593fa60ac3541e2',\n",
       "       'air_f6bfd27e2e174d16', 'air_f6cdaf7b7fdc6d78',\n",
       "       'air_f8233ad00755c35c', 'air_f85e21e543cf44f2',\n",
       "       'air_f88898cd09f40496', 'air_f9168b23fdfc1e52',\n",
       "       'air_f957c6d6467d4d90', 'air_fa12b40b02fecfd8',\n",
       "       'air_fb44f566d4f64a4e', 'air_fc477473134e9ae5',\n",
       "       'air_fcfbdcf7b1f82c6e', 'air_fdc02ec4a3d21ea4',\n",
       "       'air_fdcfef8bd859f650', 'air_fea5dc9594450608',\n",
       "       'air_fee8dcf4d619598e', 'air_fef9ccb3ba0da2f7',\n",
       "       'air_ffcc2d5087e1b476', 'air_fff68b929994bfbd',\n",
       "       'air_0ead98dd07e7a82a', 'air_382f5ace4e2247b8',\n",
       "       'air_5c7489c9ec755e2d', 'air_6108821ffafa9b72',\n",
       "       'air_67483104fa38ef6c', 'air_68d075113f368946',\n",
       "       'air_9387ff95e886ebc7', 'air_96005f79124e12bf',\n",
       "       'air_9a6f6e7f623003d2', 'air_a9a380530c1e121f',\n",
       "       'air_b2395df0e874078d', 'air_b80fed1a07c817d2',\n",
       "       'air_c3585b0fba3998d0', 'air_fd154088b1de6fa7',\n",
       "       'air_0328696196e46f18', 'air_52a08ef3efdb4bb0',\n",
       "       'air_8e492076a1179383', 'air_c6aa2efba0ffc8eb',\n",
       "       'air_5bd22f9cc1426a90', 'air_ee3ba9af184c6c82',\n",
       "       'air_2c6fef1ce0e13a5a', 'air_646b93e336f0dded',\n",
       "       'air_9cf2f1ba86229773', 'air_17a6ab40f97fd4d8',\n",
       "       'air_789103bf53b8096b', 'air_5cb030b9f0b91537',\n",
       "       'air_64a5d5c1381837af', 'air_25c583983246b7b0',\n",
       "       'air_cfcc94797d2b5d3d', 'air_735bcbe1763d6e98',\n",
       "       'air_4b55d8aea1d2b395', 'air_6902e4ec305b3d08',\n",
       "       'air_61668cc2b0778898', 'air_97b2a9f975fc702c',\n",
       "       'air_ef47430bcd6f6a89', 'air_51281cd059d7b89b',\n",
       "       'air_a546cbf478a8b6e4', 'air_16c4cfddeb2cf69b',\n",
       "       'air_0867f7bebad6a649', 'air_a88ac559064dec08',\n",
       "       'air_947eb2cae4f3e8f2', 'air_8d61f49aa0373492',\n",
       "       'air_90ed0a2f24755533', 'air_0164b9927d20bcc3',\n",
       "       'air_965b2e0cf4119003', 'air_a257c9749d8d0ff6',\n",
       "       'air_e00fe7853c0100d6', 'air_7420042ff75f9aca',\n",
       "       'air_31c753b48a657b6c', 'air_8110d68cc869b85e',\n",
       "       'air_9c6787aa03a45586', 'air_28dbe91c4c9656be',\n",
       "       'air_6b65745d432fd77f', 'air_8e8f42f047537154',\n",
       "       'air_bb4ff06cd661ee9b', 'air_cf5ab75a0afb8af9',\n",
       "       'air_1c0b150f9e696a5f', 'air_900d755ebd2f7bbd',\n",
       "       'air_a17f0778617c76e2'], dtype=object)"
      ]
     },
     "execution_count": 176,
     "metadata": {},
     "output_type": "execute_result"
    }
   ],
   "execution_count": 176
  },
  {
   "metadata": {
    "ExecuteTime": {
     "end_time": "2024-11-26T06:56:47.907013Z",
     "start_time": "2024-11-26T06:56:47.893804Z"
    }
   },
   "cell_type": "code",
   "source": "df.air_store_id.nunique()",
   "id": "383d8ce1147408ca",
   "outputs": [
    {
     "data": {
      "text/plain": [
       "829"
      ]
     },
     "execution_count": 177,
     "metadata": {},
     "output_type": "execute_result"
    }
   ],
   "execution_count": 177
  },
  {
   "metadata": {
    "ExecuteTime": {
     "end_time": "2024-11-26T06:56:47.967560Z",
     "start_time": "2024-11-26T06:56:47.964747Z"
    }
   },
   "cell_type": "code",
   "source": [
    "from sklearn.linear_model import LinearRegression\n",
    "from sklearn.preprocessing import PolynomialFeatures\n",
    "from sklearn.model_selection import train_test_split\n",
    "from sklearn.metrics import mean_squared_error, mean_absolute_error"
   ],
   "id": "969c9f6e311c7577",
   "outputs": [],
   "execution_count": 178
  },
  {
   "metadata": {
    "ExecuteTime": {
     "end_time": "2024-11-26T06:56:48.015109Z",
     "start_time": "2024-11-26T06:56:48.008945Z"
    }
   },
   "cell_type": "code",
   "source": "df.info",
   "id": "cc91177e5ec75de1",
   "outputs": [
    {
     "data": {
      "text/plain": [
       "<bound method DataFrame.info of                 air_store_id  visit_date  visitors genre_name area_name  \\\n",
       "0       air_04341b588bde96cd  2016-01-01      10.0        NaN       NaN   \n",
       "1       air_05c325d315cc17f5  2016-01-01      29.0        NaN       NaN   \n",
       "2       air_08ba8cd01b3ba010  2016-01-01      11.0        NaN       NaN   \n",
       "3       air_09a845d5b5944b01  2016-01-01      56.0        NaN       NaN   \n",
       "4       air_1f7f8fa557bc0d55  2016-01-01       6.0        NaN       NaN   \n",
       "...                      ...         ...       ...        ...       ...   \n",
       "252103  air_fea5dc9594450608  2017-04-22      14.0        NaN       NaN   \n",
       "252104  air_fee8dcf4d619598e  2017-04-22      53.0        NaN       NaN   \n",
       "252105  air_fef9ccb3ba0da2f7  2017-04-22       5.0        NaN       NaN   \n",
       "252106  air_ffcc2d5087e1b476  2017-04-22       1.0        NaN       NaN   \n",
       "252107  air_fff68b929994bfbd  2017-04-22       5.0        NaN       NaN   \n",
       "\n",
       "       day_of_week  holiday_flg  \n",
       "0           Friday            1  \n",
       "1           Friday            1  \n",
       "2           Friday            1  \n",
       "3           Friday            1  \n",
       "4           Friday            1  \n",
       "...            ...          ...  \n",
       "252103    Saturday            0  \n",
       "252104    Saturday            0  \n",
       "252105    Saturday            0  \n",
       "252106    Saturday            0  \n",
       "252107    Saturday            0  \n",
       "\n",
       "[252108 rows x 7 columns]>"
      ]
     },
     "execution_count": 179,
     "metadata": {},
     "output_type": "execute_result"
    }
   ],
   "execution_count": 179
  },
  {
   "metadata": {
    "ExecuteTime": {
     "end_time": "2024-11-26T06:56:48.070104Z",
     "start_time": "2024-11-26T06:56:48.055491Z"
    }
   },
   "cell_type": "code",
   "source": "df.describe()",
   "id": "5e11125d9fb680e1",
   "outputs": [
    {
     "data": {
      "text/plain": [
       "            visitors    holiday_flg\n",
       "count  252108.000000  252108.000000\n",
       "mean       20.973761       0.050673\n",
       "std        16.757007       0.219329\n",
       "min         1.000000       0.000000\n",
       "25%         9.000000       0.000000\n",
       "50%        17.000000       0.000000\n",
       "75%        29.000000       0.000000\n",
       "max       877.000000       1.000000"
      ],
      "text/html": [
       "<div>\n",
       "<style scoped>\n",
       "    .dataframe tbody tr th:only-of-type {\n",
       "        vertical-align: middle;\n",
       "    }\n",
       "\n",
       "    .dataframe tbody tr th {\n",
       "        vertical-align: top;\n",
       "    }\n",
       "\n",
       "    .dataframe thead th {\n",
       "        text-align: right;\n",
       "    }\n",
       "</style>\n",
       "<table border=\"1\" class=\"dataframe\">\n",
       "  <thead>\n",
       "    <tr style=\"text-align: right;\">\n",
       "      <th></th>\n",
       "      <th>visitors</th>\n",
       "      <th>holiday_flg</th>\n",
       "    </tr>\n",
       "  </thead>\n",
       "  <tbody>\n",
       "    <tr>\n",
       "      <th>count</th>\n",
       "      <td>252108.000000</td>\n",
       "      <td>252108.000000</td>\n",
       "    </tr>\n",
       "    <tr>\n",
       "      <th>mean</th>\n",
       "      <td>20.973761</td>\n",
       "      <td>0.050673</td>\n",
       "    </tr>\n",
       "    <tr>\n",
       "      <th>std</th>\n",
       "      <td>16.757007</td>\n",
       "      <td>0.219329</td>\n",
       "    </tr>\n",
       "    <tr>\n",
       "      <th>min</th>\n",
       "      <td>1.000000</td>\n",
       "      <td>0.000000</td>\n",
       "    </tr>\n",
       "    <tr>\n",
       "      <th>25%</th>\n",
       "      <td>9.000000</td>\n",
       "      <td>0.000000</td>\n",
       "    </tr>\n",
       "    <tr>\n",
       "      <th>50%</th>\n",
       "      <td>17.000000</td>\n",
       "      <td>0.000000</td>\n",
       "    </tr>\n",
       "    <tr>\n",
       "      <th>75%</th>\n",
       "      <td>29.000000</td>\n",
       "      <td>0.000000</td>\n",
       "    </tr>\n",
       "    <tr>\n",
       "      <th>max</th>\n",
       "      <td>877.000000</td>\n",
       "      <td>1.000000</td>\n",
       "    </tr>\n",
       "  </tbody>\n",
       "</table>\n",
       "</div>"
      ]
     },
     "execution_count": 180,
     "metadata": {},
     "output_type": "execute_result"
    }
   ],
   "execution_count": 180
  },
  {
   "metadata": {
    "ExecuteTime": {
     "end_time": "2024-11-26T06:56:48.117443Z",
     "start_time": "2024-11-26T06:56:48.099952Z"
    }
   },
   "cell_type": "code",
   "source": "print(df.shape, df.air_store_id.notna().sum(),  df.air_store_id.nunique())",
   "id": "7010a1cb3ef2f402",
   "outputs": [
    {
     "name": "stdout",
     "output_type": "stream",
     "text": [
      "(252108, 7) 252108 829\n"
     ]
    }
   ],
   "execution_count": 181
  },
  {
   "metadata": {
    "ExecuteTime": {
     "end_time": "2024-11-26T06:56:48.156538Z",
     "start_time": "2024-11-26T06:56:48.150635Z"
    }
   },
   "cell_type": "code",
   "source": [
    "df['visitors'] = df['visitors'].astype(int)\n",
    "df"
   ],
   "id": "197302284696c159",
   "outputs": [
    {
     "data": {
      "text/plain": [
       "                air_store_id  visit_date  visitors genre_name area_name  \\\n",
       "0       air_04341b588bde96cd  2016-01-01        10        NaN       NaN   \n",
       "1       air_05c325d315cc17f5  2016-01-01        29        NaN       NaN   \n",
       "2       air_08ba8cd01b3ba010  2016-01-01        11        NaN       NaN   \n",
       "3       air_09a845d5b5944b01  2016-01-01        56        NaN       NaN   \n",
       "4       air_1f7f8fa557bc0d55  2016-01-01         6        NaN       NaN   \n",
       "...                      ...         ...       ...        ...       ...   \n",
       "252103  air_fea5dc9594450608  2017-04-22        14        NaN       NaN   \n",
       "252104  air_fee8dcf4d619598e  2017-04-22        53        NaN       NaN   \n",
       "252105  air_fef9ccb3ba0da2f7  2017-04-22         5        NaN       NaN   \n",
       "252106  air_ffcc2d5087e1b476  2017-04-22         1        NaN       NaN   \n",
       "252107  air_fff68b929994bfbd  2017-04-22         5        NaN       NaN   \n",
       "\n",
       "       day_of_week  holiday_flg  \n",
       "0           Friday            1  \n",
       "1           Friday            1  \n",
       "2           Friday            1  \n",
       "3           Friday            1  \n",
       "4           Friday            1  \n",
       "...            ...          ...  \n",
       "252103    Saturday            0  \n",
       "252104    Saturday            0  \n",
       "252105    Saturday            0  \n",
       "252106    Saturday            0  \n",
       "252107    Saturday            0  \n",
       "\n",
       "[252108 rows x 7 columns]"
      ],
      "text/html": [
       "<div>\n",
       "<style scoped>\n",
       "    .dataframe tbody tr th:only-of-type {\n",
       "        vertical-align: middle;\n",
       "    }\n",
       "\n",
       "    .dataframe tbody tr th {\n",
       "        vertical-align: top;\n",
       "    }\n",
       "\n",
       "    .dataframe thead th {\n",
       "        text-align: right;\n",
       "    }\n",
       "</style>\n",
       "<table border=\"1\" class=\"dataframe\">\n",
       "  <thead>\n",
       "    <tr style=\"text-align: right;\">\n",
       "      <th></th>\n",
       "      <th>air_store_id</th>\n",
       "      <th>visit_date</th>\n",
       "      <th>visitors</th>\n",
       "      <th>genre_name</th>\n",
       "      <th>area_name</th>\n",
       "      <th>day_of_week</th>\n",
       "      <th>holiday_flg</th>\n",
       "    </tr>\n",
       "  </thead>\n",
       "  <tbody>\n",
       "    <tr>\n",
       "      <th>0</th>\n",
       "      <td>air_04341b588bde96cd</td>\n",
       "      <td>2016-01-01</td>\n",
       "      <td>10</td>\n",
       "      <td>NaN</td>\n",
       "      <td>NaN</td>\n",
       "      <td>Friday</td>\n",
       "      <td>1</td>\n",
       "    </tr>\n",
       "    <tr>\n",
       "      <th>1</th>\n",
       "      <td>air_05c325d315cc17f5</td>\n",
       "      <td>2016-01-01</td>\n",
       "      <td>29</td>\n",
       "      <td>NaN</td>\n",
       "      <td>NaN</td>\n",
       "      <td>Friday</td>\n",
       "      <td>1</td>\n",
       "    </tr>\n",
       "    <tr>\n",
       "      <th>2</th>\n",
       "      <td>air_08ba8cd01b3ba010</td>\n",
       "      <td>2016-01-01</td>\n",
       "      <td>11</td>\n",
       "      <td>NaN</td>\n",
       "      <td>NaN</td>\n",
       "      <td>Friday</td>\n",
       "      <td>1</td>\n",
       "    </tr>\n",
       "    <tr>\n",
       "      <th>3</th>\n",
       "      <td>air_09a845d5b5944b01</td>\n",
       "      <td>2016-01-01</td>\n",
       "      <td>56</td>\n",
       "      <td>NaN</td>\n",
       "      <td>NaN</td>\n",
       "      <td>Friday</td>\n",
       "      <td>1</td>\n",
       "    </tr>\n",
       "    <tr>\n",
       "      <th>4</th>\n",
       "      <td>air_1f7f8fa557bc0d55</td>\n",
       "      <td>2016-01-01</td>\n",
       "      <td>6</td>\n",
       "      <td>NaN</td>\n",
       "      <td>NaN</td>\n",
       "      <td>Friday</td>\n",
       "      <td>1</td>\n",
       "    </tr>\n",
       "    <tr>\n",
       "      <th>...</th>\n",
       "      <td>...</td>\n",
       "      <td>...</td>\n",
       "      <td>...</td>\n",
       "      <td>...</td>\n",
       "      <td>...</td>\n",
       "      <td>...</td>\n",
       "      <td>...</td>\n",
       "    </tr>\n",
       "    <tr>\n",
       "      <th>252103</th>\n",
       "      <td>air_fea5dc9594450608</td>\n",
       "      <td>2017-04-22</td>\n",
       "      <td>14</td>\n",
       "      <td>NaN</td>\n",
       "      <td>NaN</td>\n",
       "      <td>Saturday</td>\n",
       "      <td>0</td>\n",
       "    </tr>\n",
       "    <tr>\n",
       "      <th>252104</th>\n",
       "      <td>air_fee8dcf4d619598e</td>\n",
       "      <td>2017-04-22</td>\n",
       "      <td>53</td>\n",
       "      <td>NaN</td>\n",
       "      <td>NaN</td>\n",
       "      <td>Saturday</td>\n",
       "      <td>0</td>\n",
       "    </tr>\n",
       "    <tr>\n",
       "      <th>252105</th>\n",
       "      <td>air_fef9ccb3ba0da2f7</td>\n",
       "      <td>2017-04-22</td>\n",
       "      <td>5</td>\n",
       "      <td>NaN</td>\n",
       "      <td>NaN</td>\n",
       "      <td>Saturday</td>\n",
       "      <td>0</td>\n",
       "    </tr>\n",
       "    <tr>\n",
       "      <th>252106</th>\n",
       "      <td>air_ffcc2d5087e1b476</td>\n",
       "      <td>2017-04-22</td>\n",
       "      <td>1</td>\n",
       "      <td>NaN</td>\n",
       "      <td>NaN</td>\n",
       "      <td>Saturday</td>\n",
       "      <td>0</td>\n",
       "    </tr>\n",
       "    <tr>\n",
       "      <th>252107</th>\n",
       "      <td>air_fff68b929994bfbd</td>\n",
       "      <td>2017-04-22</td>\n",
       "      <td>5</td>\n",
       "      <td>NaN</td>\n",
       "      <td>NaN</td>\n",
       "      <td>Saturday</td>\n",
       "      <td>0</td>\n",
       "    </tr>\n",
       "  </tbody>\n",
       "</table>\n",
       "<p>252108 rows × 7 columns</p>\n",
       "</div>"
      ]
     },
     "execution_count": 182,
     "metadata": {},
     "output_type": "execute_result"
    }
   ],
   "execution_count": 182
  },
  {
   "metadata": {
    "ExecuteTime": {
     "end_time": "2024-11-26T06:56:48.232188Z",
     "start_time": "2024-11-26T06:56:48.208562Z"
    }
   },
   "cell_type": "code",
   "source": [
    "maximum_visitors_index = df['visitors'].idxmax()\n",
    "id_for_max = df.loc[maximum_visitors_index, 'air_store_id']\n",
    "print(f\"Значение столбца 'id' для строки с максимальным значением 'visitors': {id_for_max}\")\n",
    "# print(df['visitors'].max())\n",
    "matching_visitors = df.loc[df['air_store_id'] == id_for_max, 'visitors']\n",
    "matching_times = df.loc[df['air_store_id'] == id_for_max, 'visit_date']\n",
    "print(\"Значения столбца 'visitors' для соответствующих строк:\")\n",
    "matching_visitors.describe()\n"
   ],
   "id": "f99330d75d134ec",
   "outputs": [
    {
     "name": "stdout",
     "output_type": "stream",
     "text": [
      "Значение столбца 'id' для строки с максимальным значением 'visitors': air_cfdeb326418194ff\n",
      "Значения столбца 'visitors' для соответствующих строк:\n"
     ]
    },
    {
     "data": {
      "text/plain": [
       "count    407.000000\n",
       "mean      17.090909\n",
       "std       43.817288\n",
       "min        1.000000\n",
       "25%        6.000000\n",
       "50%       15.000000\n",
       "75%       22.000000\n",
       "max      877.000000\n",
       "Name: visitors, dtype: float64"
      ]
     },
     "execution_count": 183,
     "metadata": {},
     "output_type": "execute_result"
    }
   ],
   "execution_count": 183
  },
  {
   "metadata": {
    "ExecuteTime": {
     "end_time": "2024-11-26T06:56:49.524917Z",
     "start_time": "2024-11-26T06:56:48.284244Z"
    }
   },
   "cell_type": "code",
   "source": [
    "plt.figure(figsize=(8,6))\n",
    "plt.plot(matching_times, matching_visitors)\n",
    "plt.xlabel('даты')\n",
    "plt.ylabel('посетители')\n",
    "plt.show()"
   ],
   "id": "424f012c9dd86aa",
   "outputs": [
    {
     "data": {
      "text/plain": [
       "<Figure size 800x600 with 1 Axes>"
      ],
      "image/png": "[encoded data removed]"
     },
     "metadata": {},
     "output_type": "display_data"
    }
   ],
   "execution_count": 184
  },
  {
   "metadata": {},
   "cell_type": "markdown",
   "source": "тут это очевидный выброс, поэтому это нужно удалить будет",
   "id": "705fc79f41e3d8a8"
  },
  {
   "metadata": {
    "ExecuteTime": {
     "end_time": "2024-11-26T06:56:49.556154Z",
     "start_time": "2024-11-26T06:56:49.543230Z"
    }
   },
   "cell_type": "code",
   "source": "df =df[df['visitors'] <= (df['visitors'].mean()+df['visitors'].std())]",
   "id": "4f32d5912ad3e012",
   "outputs": [],
   "execution_count": 185
  },
  {
   "metadata": {
    "ExecuteTime": {
     "end_time": "2024-11-26T06:56:49.594697Z",
     "start_time": "2024-11-26T06:56:49.573130Z"
    }
   },
   "cell_type": "code",
   "source": [
    "maximum_visitors_index = df['visitors'].idxmax()\n",
    "id_for_max = df.loc[maximum_visitors_index, 'air_store_id']\n",
    "print(f\"Значение столбца 'id' для строки с максимальным значением 'visitors': {id_for_max}\")\n",
    "# print(df['visitors'].max())\n",
    "matching_visitors = df.loc[df['air_store_id'] == id_for_max, 'visitors']\n",
    "matching_times = df.loc[df['air_store_id'] == id_for_max, 'visit_date']\n",
    "print(\"Значения столбца 'visitors' для соответствующих строк:\")\n",
    "matching_visitors.describe()"
   ],
   "id": "6043383dc9dff5e0",
   "outputs": [
    {
     "name": "stdout",
     "output_type": "stream",
     "text": [
      "Значение столбца 'id' для строки с максимальным значением 'visitors': air_d0a7bd3339c3d12a\n",
      "Значения столбца 'visitors' для соответствующих строк:\n"
     ]
    },
    {
     "data": {
      "text/plain": [
       "count    288.000000\n",
       "mean      15.750000\n",
       "std        6.419157\n",
       "min        1.000000\n",
       "25%       11.750000\n",
       "50%       15.000000\n",
       "75%       18.250000\n",
       "max       37.000000\n",
       "Name: visitors, dtype: float64"
      ]
     },
     "execution_count": 186,
     "metadata": {},
     "output_type": "execute_result"
    }
   ],
   "execution_count": 186
  },
  {
   "metadata": {
    "ExecuteTime": {
     "end_time": "2024-11-26T06:56:50.374077Z",
     "start_time": "2024-11-26T06:56:49.627545Z"
    }
   },
   "cell_type": "code",
   "source": [
    "plt.figure(figsize=(8,6))\n",
    "plt.plot(matching_times, matching_visitors)\n",
    "plt.xlabel('даты')\n",
    "plt.ylabel('посетители')\n",
    "plt.show()"
   ],
   "id": "4ba5609968705bb",
   "outputs": [
    {
     "data": {
      "text/plain": [
       "<Figure size 800x600 with 1 Axes>"
      ],
      "image/png": "[encoded data removed]"
     },
     "metadata": {},
     "output_type": "display_data"
    }
   ],
   "execution_count": 187
  },
  {
   "metadata": {},
   "cell_type": "markdown",
   "source": "Почистил значения по посетителям, вроде вбросов нет",
   "id": "8ab693c55ced82e1"
  },
  {
   "metadata": {
    "ExecuteTime": {
     "end_time": "2024-11-26T06:56:50.394669Z",
     "start_time": "2024-11-26T06:56:50.391751Z"
    }
   },
   "cell_type": "code",
   "source": [
    "\n",
    "print(df.shape)"
   ],
   "id": "225acb60828ba894",
   "outputs": [
    {
     "name": "stdout",
     "output_type": "stream",
     "text": [
      "(215782, 7)\n"
     ]
    }
   ],
   "execution_count": 188
  },
  {
   "metadata": {
    "ExecuteTime": {
     "end_time": "2024-11-26T06:56:52.128543Z",
     "start_time": "2024-11-26T06:56:50.417640Z"
    }
   },
   "cell_type": "code",
   "source": [
    "# Анализ данных с графиками\n",
    "\n",
    "# 1. Распределение числа посетителей\n",
    "plt.figure(figsize=(12, 6))\n",
    "sns.histplot(df['visitors'], bins=30, kde=True, color='blue')\n",
    "plt.title('Распределение числа посетителей')\n",
    "plt.xlabel('Число посетителей')\n",
    "plt.ylabel('Частота')\n",
    "plt.show()"
   ],
   "id": "ecfd8098c1750ea3",
   "outputs": [
    {
     "data": {
      "text/plain": [
       "<Figure size 1200x600 with 1 Axes>"
      ],
      "image/png": "[encoded data removed]"
     },
     "metadata": {},
     "output_type": "display_data"
    }
   ],
   "execution_count": 189
  },
  {
   "metadata": {
    "ExecuteTime": {
     "end_time": "2024-11-26T06:56:52.241172Z",
     "start_time": "2024-11-26T06:56:52.143833Z"
    }
   },
   "cell_type": "code",
   "source": [
    "\n",
    "# 2. Посетители по дням недели\n",
    "# Группировка данных по дням недели и вычисление среднего числа посетителей\n",
    "visitors_by_day = df.groupby('day_of_week')['visitors'].mean()\n",
    "\n",
    "# Порядок дней недели\n",
    "order_days = ['Monday', 'Tuesday', 'Wednesday', 'Thursday', 'Friday', 'Saturday', 'Sunday']\n",
    "\n",
    "# Построение графика\n",
    "plt.figure(figsize=(12, 6))\n",
    "sns.barplot(x=visitors_by_day.index, y=visitors_by_day.values, order=order_days, hue=visitors_by_day.index, palette=\"muted\", legend=False)\n",
    "plt.title('Среднее число посетителей по дням недели')\n",
    "plt.xlabel('День недели')\n",
    "plt.ylabel('Среднее число посетителей')\n",
    "plt.show()"
   ],
   "id": "3ef5937efe95c797",
   "outputs": [
    {
     "data": {
      "text/plain": [
       "<Figure size 1200x600 with 1 Axes>"
      ],
      "image/png": "[encoded data removed]"
     },
     "metadata": {},
     "output_type": "display_data"
    }
   ],
   "execution_count": 190
  },
  {
   "metadata": {
    "ExecuteTime": {
     "end_time": "2024-11-26T06:56:53.699431Z",
     "start_time": "2024-11-26T06:56:52.256298Z"
    }
   },
   "cell_type": "code",
   "source": [
    "\n",
    "# 3. Тренд числа посетителей со временем\n",
    "# Создаем столбец с цветами для праздничных и обычных дней\n",
    "df['color'] = df['holiday_flg'].apply(lambda x: 'red' if x == 1 else 'blue')\n",
    "\n",
    "# Группируем данные по дате и вычисляем среднее число посетителей\n",
    "visitors_by_date = df.groupby('visit_date')['visitors'].mean()\n",
    "\n",
    "# Создаем столбец с цветами для каждой даты\n",
    "colors = df.groupby('visit_date')['color'].first()\n",
    "\n",
    "# Построение графика\n",
    "plt.figure(figsize=(12, 6))\n",
    "plt.scatter(visitors_by_date.index, visitors_by_date.values, c=colors.values, marker='o')\n",
    "plt.plot(visitors_by_date.index, visitors_by_date.values, color='purple')\n",
    "\n",
    "plt.title('Среднее число посетителей по дням (тренд)')\n",
    "plt.xlabel('Дата')\n",
    "plt.ylabel('Среднее число посетителей')\n",
    "plt.show()\n",
    "del df['color']"
   ],
   "id": "6e2049199eee51d5",
   "outputs": [
    {
     "name": "stderr",
     "output_type": "stream",
     "text": [
      "C:\\Users\\Alexander\\AppData\\Local\\Temp\\ipykernel_25804\\517394260.py:3: SettingWithCopyWarning: \n",
      "A value is trying to be set on a copy of a slice from a DataFrame.\n",
      "Try using .loc[row_indexer,col_indexer] = value instead\n",
      "\n",
      "See the caveats in the documentation: https://pandas.pydata.org/pandas-docs/stable/user_guide/indexing.html#returning-a-view-versus-a-copy\n",
      "  df['color'] = df['holiday_flg'].apply(lambda x: 'red' if x == 1 else 'blue')\n"
     ]
    },
    {
     "data": {
      "text/plain": [
       "<Figure size 1200x600 with 1 Axes>"
      ],
      "image/png": "[encoded data removed]"
     },
     "metadata": {},
     "output_type": "display_data"
    }
   ],
   "execution_count": 191
  },
  {
   "metadata": {
    "ExecuteTime": {
     "end_time": "2024-11-26T06:56:54.068323Z",
     "start_time": "2024-11-26T06:56:53.716892Z"
    }
   },
   "cell_type": "code",
   "source": [
    "\n",
    "# Порядок дней недели\n",
    "order_days = ['Monday', 'Tuesday', 'Wednesday', 'Thursday', 'Friday', 'Saturday', 'Sunday']\n",
    "\n",
    "# Построение графика\n",
    "plt.figure(figsize=(12, 6))\n",
    "sns.boxplot(x='day_of_week', y='visitors', data=df, order=order_days, hue='day_of_week', palette=\"Set2\", legend=False)\n",
    "plt.title('Распределение числа посетителей по дням недели')\n",
    "plt.xlabel('День недели')\n",
    "plt.ylabel('Число посетителей')\n",
    "# plt.yscale('log')  # Логарифмическая шкала для удобства анализа\n",
    "plt.show()"
   ],
   "id": "f2558b3f19e556ed",
   "outputs": [
    {
     "data": {
      "text/plain": [
       "<Figure size 1200x600 with 1 Axes>"
      ],
      "image/png": "[encoded data removed]"
     },
     "metadata": {},
     "output_type": "display_data"
    }
   ],
   "execution_count": 192
  },
  {
   "metadata": {
    "ExecuteTime": {
     "end_time": "2024-11-26T06:56:54.204108Z",
     "start_time": "2024-11-26T06:56:54.083430Z"
    }
   },
   "cell_type": "code",
   "source": [
    "\n",
    "# 6. Топ-10 ресторанов с наибольшим числом посетителей\n",
    "top_restaurants = df.groupby('air_store_id')['visitors'].mean().sort_values(ascending=False).head(10)\n",
    "plt.figure(figsize=(12, 6))\n",
    "sns.barplot(x=top_restaurants.values, y=top_restaurants.index, palette='coolwarm')\n",
    "plt.title('Топ-10 ресторанов с наибольшим средним числом посетителей')\n",
    "plt.xlabel('Среднее число посетителей')\n",
    "plt.ylabel('ID ресторана')\n",
    "plt.show()"
   ],
   "id": "5220880e6d6bd245",
   "outputs": [
    {
     "name": "stderr",
     "output_type": "stream",
     "text": [
      "C:\\Users\\Alexander\\AppData\\Local\\Temp\\ipykernel_25804\\2900437248.py:4: FutureWarning: \n",
      "\n",
      "Passing `palette` without assigning `hue` is deprecated and will be removed in v0.14.0. Assign the `y` variable to `hue` and set `legend=False` for the same effect.\n",
      "\n",
      "  sns.barplot(x=top_restaurants.values, y=top_restaurants.index, palette='coolwarm')\n"
     ]
    },
    {
     "data": {
      "text/plain": [
       "<Figure size 1200x600 with 1 Axes>"
      ],
      "image/png": "[encoded data removed]"
     },
     "metadata": {},
     "output_type": "display_data"
    }
   ],
   "execution_count": 193
  },
  {
   "metadata": {
    "ExecuteTime": {
     "end_time": "2024-11-26T06:56:54.309370Z",
     "start_time": "2024-11-26T06:56:54.303261Z"
    }
   },
   "cell_type": "code",
   "source": "df",
   "id": "d2418c1cdef16e5",
   "outputs": [
    {
     "data": {
      "text/plain": [
       "                air_store_id  visit_date  visitors genre_name area_name  \\\n",
       "0       air_04341b588bde96cd  2016-01-01        10        NaN       NaN   \n",
       "1       air_05c325d315cc17f5  2016-01-01        29        NaN       NaN   \n",
       "2       air_08ba8cd01b3ba010  2016-01-01        11        NaN       NaN   \n",
       "4       air_1f7f8fa557bc0d55  2016-01-01         6        NaN       NaN   \n",
       "6       air_25d8e5cc57dd87d9  2016-01-01         1        NaN       NaN   \n",
       "...                      ...         ...       ...        ...       ...   \n",
       "252101  air_fe22ef5a9cbef123  2017-04-22        22        NaN       NaN   \n",
       "252103  air_fea5dc9594450608  2017-04-22        14        NaN       NaN   \n",
       "252105  air_fef9ccb3ba0da2f7  2017-04-22         5        NaN       NaN   \n",
       "252106  air_ffcc2d5087e1b476  2017-04-22         1        NaN       NaN   \n",
       "252107  air_fff68b929994bfbd  2017-04-22         5        NaN       NaN   \n",
       "\n",
       "       day_of_week  holiday_flg  \n",
       "0           Friday            1  \n",
       "1           Friday            1  \n",
       "2           Friday            1  \n",
       "4           Friday            1  \n",
       "6           Friday            1  \n",
       "...            ...          ...  \n",
       "252101    Saturday            0  \n",
       "252103    Saturday            0  \n",
       "252105    Saturday            0  \n",
       "252106    Saturday            0  \n",
       "252107    Saturday            0  \n",
       "\n",
       "[215782 rows x 7 columns]"
      ],
      "text/html": [
       "<div>\n",
       "<style scoped>\n",
       "    .dataframe tbody tr th:only-of-type {\n",
       "        vertical-align: middle;\n",
       "    }\n",
       "\n",
       "    .dataframe tbody tr th {\n",
       "        vertical-align: top;\n",
       "    }\n",
       "\n",
       "    .dataframe thead th {\n",
       "        text-align: right;\n",
       "    }\n",
       "</style>\n",
       "<table border=\"1\" class=\"dataframe\">\n",
       "  <thead>\n",
       "    <tr style=\"text-align: right;\">\n",
       "      <th></th>\n",
       "      <th>air_store_id</th>\n",
       "      <th>visit_date</th>\n",
       "      <th>visitors</th>\n",
       "      <th>genre_name</th>\n",
       "      <th>area_name</th>\n",
       "      <th>day_of_week</th>\n",
       "      <th>holiday_flg</th>\n",
       "    </tr>\n",
       "  </thead>\n",
       "  <tbody>\n",
       "    <tr>\n",
       "      <th>0</th>\n",
       "      <td>air_04341b588bde96cd</td>\n",
       "      <td>2016-01-01</td>\n",
       "      <td>10</td>\n",
       "      <td>NaN</td>\n",
       "      <td>NaN</td>\n",
       "      <td>Friday</td>\n",
       "      <td>1</td>\n",
       "    </tr>\n",
       "    <tr>\n",
       "      <th>1</th>\n",
       "      <td>air_05c325d315cc17f5</td>\n",
       "      <td>2016-01-01</td>\n",
       "      <td>29</td>\n",
       "      <td>NaN</td>\n",
       "      <td>NaN</td>\n",
       "      <td>Friday</td>\n",
       "      <td>1</td>\n",
       "    </tr>\n",
       "    <tr>\n",
       "      <th>2</th>\n",
       "      <td>air_08ba8cd01b3ba010</td>\n",
       "      <td>2016-01-01</td>\n",
       "      <td>11</td>\n",
       "      <td>NaN</td>\n",
       "      <td>NaN</td>\n",
       "      <td>Friday</td>\n",
       "      <td>1</td>\n",
       "    </tr>\n",
       "    <tr>\n",
       "      <th>4</th>\n",
       "      <td>air_1f7f8fa557bc0d55</td>\n",
       "      <td>2016-01-01</td>\n",
       "      <td>6</td>\n",
       "      <td>NaN</td>\n",
       "      <td>NaN</td>\n",
       "      <td>Friday</td>\n",
       "      <td>1</td>\n",
       "    </tr>\n",
       "    <tr>\n",
       "      <th>6</th>\n",
       "      <td>air_25d8e5cc57dd87d9</td>\n",
       "      <td>2016-01-01</td>\n",
       "      <td>1</td>\n",
       "      <td>NaN</td>\n",
       "      <td>NaN</td>\n",
       "      <td>Friday</td>\n",
       "      <td>1</td>\n",
       "    </tr>\n",
       "    <tr>\n",
       "      <th>...</th>\n",
       "      <td>...</td>\n",
       "      <td>...</td>\n",
       "      <td>...</td>\n",
       "      <td>...</td>\n",
       "      <td>...</td>\n",
       "      <td>...</td>\n",
       "      <td>...</td>\n",
       "    </tr>\n",
       "    <tr>\n",
       "      <th>252101</th>\n",
       "      <td>air_fe22ef5a9cbef123</td>\n",
       "      <td>2017-04-22</td>\n",
       "      <td>22</td>\n",
       "      <td>NaN</td>\n",
       "      <td>NaN</td>\n",
       "      <td>Saturday</td>\n",
       "      <td>0</td>\n",
       "    </tr>\n",
       "    <tr>\n",
       "      <th>252103</th>\n",
       "      <td>air_fea5dc9594450608</td>\n",
       "      <td>2017-04-22</td>\n",
       "      <td>14</td>\n",
       "      <td>NaN</td>\n",
       "      <td>NaN</td>\n",
       "      <td>Saturday</td>\n",
       "      <td>0</td>\n",
       "    </tr>\n",
       "    <tr>\n",
       "      <th>252105</th>\n",
       "      <td>air_fef9ccb3ba0da2f7</td>\n",
       "      <td>2017-04-22</td>\n",
       "      <td>5</td>\n",
       "      <td>NaN</td>\n",
       "      <td>NaN</td>\n",
       "      <td>Saturday</td>\n",
       "      <td>0</td>\n",
       "    </tr>\n",
       "    <tr>\n",
       "      <th>252106</th>\n",
       "      <td>air_ffcc2d5087e1b476</td>\n",
       "      <td>2017-04-22</td>\n",
       "      <td>1</td>\n",
       "      <td>NaN</td>\n",
       "      <td>NaN</td>\n",
       "      <td>Saturday</td>\n",
       "      <td>0</td>\n",
       "    </tr>\n",
       "    <tr>\n",
       "      <th>252107</th>\n",
       "      <td>air_fff68b929994bfbd</td>\n",
       "      <td>2017-04-22</td>\n",
       "      <td>5</td>\n",
       "      <td>NaN</td>\n",
       "      <td>NaN</td>\n",
       "      <td>Saturday</td>\n",
       "      <td>0</td>\n",
       "    </tr>\n",
       "  </tbody>\n",
       "</table>\n",
       "<p>215782 rows × 7 columns</p>\n",
       "</div>"
      ]
     },
     "execution_count": 194,
     "metadata": {},
     "output_type": "execute_result"
    }
   ],
   "execution_count": 194
  },
  {
   "metadata": {},
   "cell_type": "markdown",
   "source": "Удалю столбец с данными по празднику, потому что не увидел с ней ",
   "id": "5690ed3859adf1b6"
  },
  {
   "metadata": {},
   "cell_type": "markdown",
   "source": "",
   "id": "4f12ab78253cd55a"
  },
  {
   "metadata": {},
   "cell_type": "code",
   "outputs": [],
   "execution_count": null,
   "source": [
    "X = df.drop(columns=['visitors'])\n",
    "y = df['visitors']\n",
    "\n",
    "X_train, X_test, y_train, y_test = train_test_split(X, y, test_size=0.3, random_state=42)"
   ],
   "id": "8ad49cbe58d2f52a"
  },
  {
   "metadata": {
    "ExecuteTime": {
     "end_time": "2024-11-25T12:38:22.020147Z",
     "start_time": "2024-11-25T12:38:22.011397Z"
    }
   },
   "cell_type": "code",
   "source": "df_air_reserve.info()",
   "id": "3e50b72604323de7",
   "outputs": [
    {
     "name": "stdout",
     "output_type": "stream",
     "text": [
      "<class 'pandas.core.frame.DataFrame'>\n",
      "RangeIndex: 64320 entries, 0 to 64319\n",
      "Data columns (total 4 columns):\n",
      " #   Column            Non-Null Count  Dtype \n",
      "---  ------            --------------  ----- \n",
      " 0   air_store_id      64320 non-null  object\n",
      " 1   visit_date        64320 non-null  object\n",
      " 2   reserve_date      64320 non-null  object\n",
      " 3   reserve_visitors  64320 non-null  int64 \n",
      "dtypes: int64(1), object(3)\n",
      "memory usage: 2.0+ MB\n"
     ]
    }
   ],
   "execution_count": 110
  },
  {
   "metadata": {
    "ExecuteTime": {
     "end_time": "2024-11-25T12:39:33.864307Z",
     "start_time": "2024-11-25T12:39:33.858348Z"
    }
   },
   "cell_type": "code",
   "source": "df_air_reserve.describe()",
   "id": "e1078d8b3d0ef589",
   "outputs": [
    {
     "data": {
      "text/plain": [
       "       reserve_visitors\n",
       "count      61152.000000\n",
       "mean           4.587667\n",
       "std            3.355636\n",
       "min            1.000000\n",
       "25%            2.000000\n",
       "50%            4.000000\n",
       "75%            6.000000\n",
       "max           79.000000"
      ],
      "text/html": [
       "<div>\n",
       "<style scoped>\n",
       "    .dataframe tbody tr th:only-of-type {\n",
       "        vertical-align: middle;\n",
       "    }\n",
       "\n",
       "    .dataframe tbody tr th {\n",
       "        vertical-align: top;\n",
       "    }\n",
       "\n",
       "    .dataframe thead th {\n",
       "        text-align: right;\n",
       "    }\n",
       "</style>\n",
       "<table border=\"1\" class=\"dataframe\">\n",
       "  <thead>\n",
       "    <tr style=\"text-align: right;\">\n",
       "      <th></th>\n",
       "      <th>reserve_visitors</th>\n",
       "    </tr>\n",
       "  </thead>\n",
       "  <tbody>\n",
       "    <tr>\n",
       "      <th>count</th>\n",
       "      <td>61152.000000</td>\n",
       "    </tr>\n",
       "    <tr>\n",
       "      <th>mean</th>\n",
       "      <td>4.587667</td>\n",
       "    </tr>\n",
       "    <tr>\n",
       "      <th>std</th>\n",
       "      <td>3.355636</td>\n",
       "    </tr>\n",
       "    <tr>\n",
       "      <th>min</th>\n",
       "      <td>1.000000</td>\n",
       "    </tr>\n",
       "    <tr>\n",
       "      <th>25%</th>\n",
       "      <td>2.000000</td>\n",
       "    </tr>\n",
       "    <tr>\n",
       "      <th>50%</th>\n",
       "      <td>4.000000</td>\n",
       "    </tr>\n",
       "    <tr>\n",
       "      <th>75%</th>\n",
       "      <td>6.000000</td>\n",
       "    </tr>\n",
       "    <tr>\n",
       "      <th>max</th>\n",
       "      <td>79.000000</td>\n",
       "    </tr>\n",
       "  </tbody>\n",
       "</table>\n",
       "</div>"
      ]
     },
     "execution_count": 118,
     "metadata": {},
     "output_type": "execute_result"
    }
   ],
   "execution_count": 118
  },
  {
   "metadata": {
    "ExecuteTime": {
     "end_time": "2024-11-25T12:19:23.533969Z",
     "start_time": "2024-11-25T12:19:23.531228Z"
    }
   },
   "cell_type": "code",
   "source": "df_air_reserve.shape",
   "id": "38e18e9a9f9d4d19",
   "outputs": [
    {
     "data": {
      "text/plain": [
       "(83304, 4)"
      ]
     },
     "execution_count": 53,
     "metadata": {},
     "output_type": "execute_result"
    }
   ],
   "execution_count": 53
  },
  {
   "metadata": {
    "ExecuteTime": {
     "end_time": "2024-11-25T12:15:13.420538Z",
     "start_time": "2024-11-25T12:15:13.416587Z"
    }
   },
   "cell_type": "code",
   "outputs": [
    {
     "data": {
      "text/plain": [
       "(67420, 4)"
      ]
     },
     "execution_count": 44,
     "metadata": {},
     "output_type": "execute_result"
    }
   ],
   "execution_count": 44,
   "source": "",
   "id": "5f1639953cc7bd6b"
  },
  {
   "metadata": {
    "ExecuteTime": {
     "end_time": "2024-11-25T12:29:47.354582Z",
     "start_time": "2024-11-25T12:29:47.347646Z"
    }
   },
   "cell_type": "code",
   "source": [
    "cols = df_air_reserve.columns\n",
    "for col in cols:\n",
    "    print(f\"Характеристика: {col}\")\n",
    "    print(\"Количество уникальных значений:\", {df_air_reserve[col].nunique()})\n",
    "    print('///////////////////////////////////////////////////')"
   ],
   "id": "57fc16d1c37d4bb7",
   "outputs": [
    {
     "name": "stdout",
     "output_type": "stream",
     "text": [
      "Характеристика: air_store_id\n",
      "Количество уникальных значений: {314}\n",
      "///////////////////////////////////////////////////\n",
      "Характеристика: visit_date\n",
      "Количество уникальных значений: {433}\n",
      "///////////////////////////////////////////////////\n",
      "Характеристика: reserve_date\n",
      "Количество уникальных значений: {476}\n",
      "///////////////////////////////////////////////////\n",
      "Характеристика: reserve_visitors\n",
      "Количество уникальных значений: {54}\n",
      "///////////////////////////////////////////////////\n"
     ]
    }
   ],
   "execution_count": 89
  },
  {
   "metadata": {
    "ExecuteTime": {
     "end_time": "2024-11-25T11:39:23.854673Z",
     "start_time": "2024-11-25T11:39:23.851264Z"
    }
   },
   "cell_type": "code",
   "source": [
    "cols = df_air_store_info.columns\n",
    "for col in cols:\n",
    "    print(f\"Характеристика: {col}\")\n",
    "    print(\"Количество уникальных значений:\", {df_air_store_info[col].nunique()})\n",
    "    print('///////////////////////////////////////////////////')"
   ],
   "id": "ca8ffecc56981f76",
   "outputs": [
    {
     "name": "stdout",
     "output_type": "stream",
     "text": [
      "Характеристика: air_store_id\n",
      "Количество уникальных значений: {829}\n",
      "///////////////////////////////////////////////////\n",
      "Характеристика: air_genre_name\n",
      "Количество уникальных значений: {14}\n",
      "///////////////////////////////////////////////////\n",
      "Характеристика: air_area_name\n",
      "Количество уникальных значений: {103}\n",
      "///////////////////////////////////////////////////\n",
      "Характеристика: latitude\n",
      "Количество уникальных значений: {108}\n",
      "///////////////////////////////////////////////////\n",
      "Характеристика: longitude\n",
      "Количество уникальных значений: {108}\n",
      "///////////////////////////////////////////////////\n"
     ]
    }
   ],
   "execution_count": 18
  }
 ],
 "metadata": {
  "kernelspec": {
   "display_name": "Python 3",
   "language": "python",
   "name": "python3"
  },
  "language_info": {
   "codemirror_mode": {
    "name": "ipython",
    "version": 2
   },
   "file_extension": ".py",
   "mimetype": "text/x-python",
   "name": "python",
   "nbconvert_exporter": "python",
   "pygments_lexer": "ipython2",
   "version": "2.7.6"
  }
 },
 "nbformat": 4,
 "nbformat_minor": 5
}
