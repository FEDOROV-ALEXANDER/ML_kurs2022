{
 "cells": [
  {
   "cell_type": "code",
   "id": "initial_id",
   "metadata": {
    "collapsed": true,
    "ExecuteTime": {
     "end_time": "2024-11-25T19:49:45.205920Z",
     "start_time": "2024-11-25T19:49:45.203184Z"
    }
   },
   "source": [
    "import pandas as pd\n",
    "import numpy as np\n",
    "import matplotlib.pyplot as plt\n",
    "import seaborn as sns\n"
   ],
   "outputs": [],
   "execution_count": 329
  },
  {
   "metadata": {},
   "cell_type": "markdown",
   "source": "Работа с air_reserve. Буду определять что за датасет, количество ненулевых и уникальных значений",
   "id": "a2743bd1d8538625"
  },
  {
   "metadata": {},
   "cell_type": "markdown",
   "source": "Общий план: импортирую датафреймы для air, привожу их к дням, где надо и потом объединяю. Чищу от аномалий, думаю над пропусками и тд",
   "id": "63750c3fb9498110"
  },
  {
   "metadata": {
    "ExecuteTime": {
     "end_time": "2024-11-25T19:49:45.937150Z",
     "start_time": "2024-11-25T19:49:45.225691Z"
    }
   },
   "cell_type": "code",
   "source": [
    "df_air_reserve = pd.read_csv('recruit-restaurant-visitor-forecasting/air_reserve.csv')\n",
    "df_air_store_info = pd.read_csv('recruit-restaurant-visitor-forecasting/air_store_info.csv')\n",
    "df_visit_data = pd.read_csv('recruit-restaurant-visitor-forecasting/air_visit_data.csv')\n",
    "hpg_df = pd.read_csv('recruit-restaurant-visitor-forecasting/hpg_reserve.csv')\n",
    "store_id_relation = pd.read_csv('recruit-restaurant-visitor-forecasting/store_id_relation.csv')\n",
    "hpg_store = pd.read_csv('recruit-restaurant-visitor-forecasting/hpg_store_info.csv')\n",
    "date_df = pd.read_csv('recruit-restaurant-visitor-forecasting/date_info.csv')"
   ],
   "id": "8fe4328a9d01a129",
   "outputs": [],
   "execution_count": 330
  },
  {
   "metadata": {
    "ExecuteTime": {
     "end_time": "2024-11-25T19:49:45.954265Z",
     "start_time": "2024-11-25T19:49:45.949723Z"
    }
   },
   "cell_type": "code",
   "source": "store_id_relation.shape\n",
   "id": "4ab72d2477179751",
   "outputs": [
    {
     "data": {
      "text/plain": [
       "(150, 2)"
      ]
     },
     "execution_count": 331,
     "metadata": {},
     "output_type": "execute_result"
    }
   ],
   "execution_count": 331
  },
  {
   "metadata": {
    "ExecuteTime": {
     "end_time": "2024-11-25T20:11:14.345264Z",
     "start_time": "2024-11-25T20:11:14.340137Z"
    }
   },
   "cell_type": "code",
   "source": [
    "print(date_df.shape)\n",
    "date_df"
   ],
   "id": "bb42c0666b596112",
   "outputs": [
    {
     "name": "stdout",
     "output_type": "stream",
     "text": [
      "(517, 3)\n"
     ]
    },
    {
     "data": {
      "text/plain": [
       "    calendar_date day_of_week  holiday_flg\n",
       "0      2016-01-01      Friday            1\n",
       "1      2016-01-02    Saturday            1\n",
       "2      2016-01-03      Sunday            1\n",
       "3      2016-01-04      Monday            0\n",
       "4      2016-01-05     Tuesday            0\n",
       "..            ...         ...          ...\n",
       "512    2017-05-27    Saturday            0\n",
       "513    2017-05-28      Sunday            0\n",
       "514    2017-05-29      Monday            0\n",
       "515    2017-05-30     Tuesday            0\n",
       "516    2017-05-31   Wednesday            0\n",
       "\n",
       "[517 rows x 3 columns]"
      ],
      "text/html": [
       "<div>\n",
       "<style scoped>\n",
       "    .dataframe tbody tr th:only-of-type {\n",
       "        vertical-align: middle;\n",
       "    }\n",
       "\n",
       "    .dataframe tbody tr th {\n",
       "        vertical-align: top;\n",
       "    }\n",
       "\n",
       "    .dataframe thead th {\n",
       "        text-align: right;\n",
       "    }\n",
       "</style>\n",
       "<table border=\"1\" class=\"dataframe\">\n",
       "  <thead>\n",
       "    <tr style=\"text-align: right;\">\n",
       "      <th></th>\n",
       "      <th>calendar_date</th>\n",
       "      <th>day_of_week</th>\n",
       "      <th>holiday_flg</th>\n",
       "    </tr>\n",
       "  </thead>\n",
       "  <tbody>\n",
       "    <tr>\n",
       "      <th>0</th>\n",
       "      <td>2016-01-01</td>\n",
       "      <td>Friday</td>\n",
       "      <td>1</td>\n",
       "    </tr>\n",
       "    <tr>\n",
       "      <th>1</th>\n",
       "      <td>2016-01-02</td>\n",
       "      <td>Saturday</td>\n",
       "      <td>1</td>\n",
       "    </tr>\n",
       "    <tr>\n",
       "      <th>2</th>\n",
       "      <td>2016-01-03</td>\n",
       "      <td>Sunday</td>\n",
       "      <td>1</td>\n",
       "    </tr>\n",
       "    <tr>\n",
       "      <th>3</th>\n",
       "      <td>2016-01-04</td>\n",
       "      <td>Monday</td>\n",
       "      <td>0</td>\n",
       "    </tr>\n",
       "    <tr>\n",
       "      <th>4</th>\n",
       "      <td>2016-01-05</td>\n",
       "      <td>Tuesday</td>\n",
       "      <td>0</td>\n",
       "    </tr>\n",
       "    <tr>\n",
       "      <th>...</th>\n",
       "      <td>...</td>\n",
       "      <td>...</td>\n",
       "      <td>...</td>\n",
       "    </tr>\n",
       "    <tr>\n",
       "      <th>512</th>\n",
       "      <td>2017-05-27</td>\n",
       "      <td>Saturday</td>\n",
       "      <td>0</td>\n",
       "    </tr>\n",
       "    <tr>\n",
       "      <th>513</th>\n",
       "      <td>2017-05-28</td>\n",
       "      <td>Sunday</td>\n",
       "      <td>0</td>\n",
       "    </tr>\n",
       "    <tr>\n",
       "      <th>514</th>\n",
       "      <td>2017-05-29</td>\n",
       "      <td>Monday</td>\n",
       "      <td>0</td>\n",
       "    </tr>\n",
       "    <tr>\n",
       "      <th>515</th>\n",
       "      <td>2017-05-30</td>\n",
       "      <td>Tuesday</td>\n",
       "      <td>0</td>\n",
       "    </tr>\n",
       "    <tr>\n",
       "      <th>516</th>\n",
       "      <td>2017-05-31</td>\n",
       "      <td>Wednesday</td>\n",
       "      <td>0</td>\n",
       "    </tr>\n",
       "  </tbody>\n",
       "</table>\n",
       "<p>517 rows × 3 columns</p>\n",
       "</div>"
      ]
     },
     "execution_count": 373,
     "metadata": {},
     "output_type": "execute_result"
    }
   ],
   "execution_count": 373
  },
  {
   "metadata": {
    "ExecuteTime": {
     "end_time": "2024-11-25T19:49:45.979098Z",
     "start_time": "2024-11-25T19:49:45.976087Z"
    }
   },
   "cell_type": "code",
   "source": "store_id_relation.isnull().sum()",
   "id": "75d663e5044d732a",
   "outputs": [
    {
     "data": {
      "text/plain": [
       "air_store_id    0\n",
       "hpg_store_id    0\n",
       "dtype: int64"
      ]
     },
     "execution_count": 332,
     "metadata": {},
     "output_type": "execute_result"
    }
   ],
   "execution_count": 332
  },
  {
   "metadata": {
    "ExecuteTime": {
     "end_time": "2024-11-25T19:49:46.012693Z",
     "start_time": "2024-11-25T19:49:46.008449Z"
    }
   },
   "cell_type": "code",
   "source": "df_air_reserve.head(10)",
   "id": "7fceb6c7f670ef8d",
   "outputs": [
    {
     "data": {
      "text/plain": [
       "           air_store_id       visit_datetime     reserve_datetime  \\\n",
       "0  air_877f79706adbfb06  2016-01-01 19:00:00  2016-01-01 16:00:00   \n",
       "1  air_db4b38ebe7a7ceff  2016-01-01 19:00:00  2016-01-01 19:00:00   \n",
       "2  air_db4b38ebe7a7ceff  2016-01-01 19:00:00  2016-01-01 19:00:00   \n",
       "3  air_877f79706adbfb06  2016-01-01 20:00:00  2016-01-01 16:00:00   \n",
       "4  air_db80363d35f10926  2016-01-01 20:00:00  2016-01-01 01:00:00   \n",
       "5  air_db80363d35f10926  2016-01-02 01:00:00  2016-01-01 16:00:00   \n",
       "6  air_db80363d35f10926  2016-01-02 01:00:00  2016-01-01 15:00:00   \n",
       "7  air_3bb99a1fe0583897  2016-01-02 16:00:00  2016-01-02 14:00:00   \n",
       "8  air_3bb99a1fe0583897  2016-01-02 16:00:00  2016-01-01 20:00:00   \n",
       "9  air_2b8b29ddfd35018e  2016-01-02 17:00:00  2016-01-02 17:00:00   \n",
       "\n",
       "   reserve_visitors  \n",
       "0                 1  \n",
       "1                 3  \n",
       "2                 6  \n",
       "3                 2  \n",
       "4                 5  \n",
       "5                 2  \n",
       "6                 4  \n",
       "7                 2  \n",
       "8                 2  \n",
       "9                 2  "
      ],
      "text/html": [
       "<div>\n",
       "<style scoped>\n",
       "    .dataframe tbody tr th:only-of-type {\n",
       "        vertical-align: middle;\n",
       "    }\n",
       "\n",
       "    .dataframe tbody tr th {\n",
       "        vertical-align: top;\n",
       "    }\n",
       "\n",
       "    .dataframe thead th {\n",
       "        text-align: right;\n",
       "    }\n",
       "</style>\n",
       "<table border=\"1\" class=\"dataframe\">\n",
       "  <thead>\n",
       "    <tr style=\"text-align: right;\">\n",
       "      <th></th>\n",
       "      <th>air_store_id</th>\n",
       "      <th>visit_datetime</th>\n",
       "      <th>reserve_datetime</th>\n",
       "      <th>reserve_visitors</th>\n",
       "    </tr>\n",
       "  </thead>\n",
       "  <tbody>\n",
       "    <tr>\n",
       "      <th>0</th>\n",
       "      <td>air_877f79706adbfb06</td>\n",
       "      <td>2016-01-01 19:00:00</td>\n",
       "      <td>2016-01-01 16:00:00</td>\n",
       "      <td>1</td>\n",
       "    </tr>\n",
       "    <tr>\n",
       "      <th>1</th>\n",
       "      <td>air_db4b38ebe7a7ceff</td>\n",
       "      <td>2016-01-01 19:00:00</td>\n",
       "      <td>2016-01-01 19:00:00</td>\n",
       "      <td>3</td>\n",
       "    </tr>\n",
       "    <tr>\n",
       "      <th>2</th>\n",
       "      <td>air_db4b38ebe7a7ceff</td>\n",
       "      <td>2016-01-01 19:00:00</td>\n",
       "      <td>2016-01-01 19:00:00</td>\n",
       "      <td>6</td>\n",
       "    </tr>\n",
       "    <tr>\n",
       "      <th>3</th>\n",
       "      <td>air_877f79706adbfb06</td>\n",
       "      <td>2016-01-01 20:00:00</td>\n",
       "      <td>2016-01-01 16:00:00</td>\n",
       "      <td>2</td>\n",
       "    </tr>\n",
       "    <tr>\n",
       "      <th>4</th>\n",
       "      <td>air_db80363d35f10926</td>\n",
       "      <td>2016-01-01 20:00:00</td>\n",
       "      <td>2016-01-01 01:00:00</td>\n",
       "      <td>5</td>\n",
       "    </tr>\n",
       "    <tr>\n",
       "      <th>5</th>\n",
       "      <td>air_db80363d35f10926</td>\n",
       "      <td>2016-01-02 01:00:00</td>\n",
       "      <td>2016-01-01 16:00:00</td>\n",
       "      <td>2</td>\n",
       "    </tr>\n",
       "    <tr>\n",
       "      <th>6</th>\n",
       "      <td>air_db80363d35f10926</td>\n",
       "      <td>2016-01-02 01:00:00</td>\n",
       "      <td>2016-01-01 15:00:00</td>\n",
       "      <td>4</td>\n",
       "    </tr>\n",
       "    <tr>\n",
       "      <th>7</th>\n",
       "      <td>air_3bb99a1fe0583897</td>\n",
       "      <td>2016-01-02 16:00:00</td>\n",
       "      <td>2016-01-02 14:00:00</td>\n",
       "      <td>2</td>\n",
       "    </tr>\n",
       "    <tr>\n",
       "      <th>8</th>\n",
       "      <td>air_3bb99a1fe0583897</td>\n",
       "      <td>2016-01-02 16:00:00</td>\n",
       "      <td>2016-01-01 20:00:00</td>\n",
       "      <td>2</td>\n",
       "    </tr>\n",
       "    <tr>\n",
       "      <th>9</th>\n",
       "      <td>air_2b8b29ddfd35018e</td>\n",
       "      <td>2016-01-02 17:00:00</td>\n",
       "      <td>2016-01-02 17:00:00</td>\n",
       "      <td>2</td>\n",
       "    </tr>\n",
       "  </tbody>\n",
       "</table>\n",
       "</div>"
      ]
     },
     "execution_count": 333,
     "metadata": {},
     "output_type": "execute_result"
    }
   ],
   "execution_count": 333
  },
  {
   "metadata": {},
   "cell_type": "markdown",
   "source": "Для начала рассмотрим зависимость количества людей по дням, для этого сложу в первом даатафрейме количество зарезервировавшихся пользователей по дням",
   "id": "14aaf18a6c29fa9e"
  },
  {
   "metadata": {
    "ExecuteTime": {
     "end_time": "2024-11-25T19:49:46.102869Z",
     "start_time": "2024-11-25T19:49:46.071326Z"
    }
   },
   "cell_type": "code",
   "source": [
    "df_air_reserve['visit_datetime'] = pd.to_datetime(df_air_reserve['visit_datetime'])\n",
    "df_air_reserve['reserve_datetime'] = pd.to_datetime(df_air_reserve['reserve_datetime'])\n",
    "df_air_reserve['reserve_date'] = df_air_reserve['reserve_datetime'].dt.date\n",
    "df_air_reserve['visit_date'] = df_air_reserve['visit_datetime'].dt.date"
   ],
   "id": "4e555585cbc065ec",
   "outputs": [],
   "execution_count": 334
  },
  {
   "metadata": {
    "ExecuteTime": {
     "end_time": "2024-11-25T19:49:46.176183Z",
     "start_time": "2024-11-25T19:49:46.151844Z"
    }
   },
   "cell_type": "code",
   "source": "df_air_reserve = df_air_reserve.groupby(['air_store_id', 'visit_date', 'reserve_date'])['reserve_visitors'].sum().reset_index()",
   "id": "58187261021d8c10",
   "outputs": [],
   "execution_count": 335
  },
  {
   "metadata": {
    "ExecuteTime": {
     "end_time": "2024-11-25T19:49:46.324310Z",
     "start_time": "2024-11-25T19:49:46.310937Z"
    }
   },
   "cell_type": "code",
   "source": "air_df = pd.merge(df_air_reserve, df_air_store_info, on='air_store_id', how='outer')",
   "id": "30b8580e02919d0",
   "outputs": [],
   "execution_count": 338
  },
  {
   "metadata": {
    "ExecuteTime": {
     "end_time": "2024-11-25T19:49:46.888582Z",
     "start_time": "2024-11-25T19:49:46.784046Z"
    }
   },
   "cell_type": "code",
   "source": "air_df = pd.merge(air_df, df_visit_data, on=['air_store_id', 'visit_date'], how='outer')",
   "id": "3dba0c514b11b9d5",
   "outputs": [],
   "execution_count": 343
  },
  {
   "metadata": {
    "ExecuteTime": {
     "end_time": "2024-11-25T19:49:47.156744Z",
     "start_time": "2024-11-25T19:49:47.113161Z"
    }
   },
   "cell_type": "code",
   "source": "air_df = pd.merge(air_df, store_id_relation, on=['air_store_id'], how='outer')",
   "id": "1ae1e4880f8ea55c",
   "outputs": [],
   "execution_count": 347
  },
  {
   "metadata": {
    "ExecuteTime": {
     "end_time": "2024-11-25T19:49:47.220506Z",
     "start_time": "2024-11-25T19:49:47.207831Z"
    }
   },
   "cell_type": "code",
   "source": "air_df=air_df[['air_store_id','hpg_store_id', 'visit_date','visitors', 'reserve_visitors', 'air_genre_name', 'air_area_name', 'latitude', 'longitude']]",
   "id": "bd1d646e813b47a5",
   "outputs": [],
   "execution_count": 349
  },
  {
   "metadata": {
    "ExecuteTime": {
     "end_time": "2024-11-25T19:49:47.267824Z",
     "start_time": "2024-11-25T19:49:47.247249Z"
    }
   },
   "cell_type": "code",
   "source": "air_df = air_df.rename(columns={'air_genre_name':'genre_name', 'air_area_name':'area_name'})\n",
   "id": "956ad5be4f9a7572",
   "outputs": [],
   "execution_count": 350
  },
  {
   "metadata": {},
   "cell_type": "markdown",
   "source": "Так как данные с пустым столбцом посетителей нам не нужны (это целевая переменная) удаляем их",
   "id": "822c6bca8b9bd365"
  },
  {
   "metadata": {
    "ExecuteTime": {
     "end_time": "2024-11-25T19:49:47.372719Z",
     "start_time": "2024-11-25T19:49:47.355991Z"
    }
   },
   "cell_type": "code",
   "source": [
    "air_df.dropna(subset='visitors', inplace=True)\n",
    "air_df['visitors'] = air_df['visitors'].astype(int)"
   ],
   "id": "b249ca3021b2b7bf",
   "outputs": [],
   "execution_count": 352
  },
  {
   "metadata": {
    "ExecuteTime": {
     "end_time": "2024-11-25T19:54:19.625546Z",
     "start_time": "2024-11-25T19:54:19.622787Z"
    }
   },
   "cell_type": "code",
   "source": "air_df.shape",
   "id": "36d4510dec3204c4",
   "outputs": [
    {
     "data": {
      "text/plain": [
       "(252108, 9)"
      ]
     },
     "execution_count": 371,
     "metadata": {},
     "output_type": "execute_result"
    }
   ],
   "execution_count": 371
  },
  {
   "metadata": {},
   "cell_type": "markdown",
   "source": "С первой системой данных выполнил объединение",
   "id": "d5a052617d55cc2"
  },
  {
   "metadata": {
    "ExecuteTime": {
     "end_time": "2024-11-25T19:49:48.177222Z",
     "start_time": "2024-11-25T19:49:47.523568Z"
    }
   },
   "cell_type": "code",
   "source": [
    "hpg_df['visit_datetime'] = pd.to_datetime(hpg_df['visit_datetime'])\n",
    "hpg_df['reserve_datetime'] = pd.to_datetime(hpg_df['reserve_datetime'])\n",
    "hpg_df['reserve_date'] = hpg_df['reserve_datetime'].dt.date\n",
    "hpg_df['visit_date'] = hpg_df['visit_datetime'].dt.date"
   ],
   "id": "ecae66505173c8be",
   "outputs": [],
   "execution_count": 355
  },
  {
   "metadata": {
    "ExecuteTime": {
     "end_time": "2024-11-25T19:49:48.883371Z",
     "start_time": "2024-11-25T19:49:48.192508Z"
    }
   },
   "cell_type": "code",
   "source": [
    "hpg_df = hpg_df.groupby(['hpg_store_id', 'visit_date', 'reserve_date'])[\n",
    "    'reserve_visitors'].sum().reset_index()"
   ],
   "id": "254047ef09e86553",
   "outputs": [],
   "execution_count": 356
  },
  {
   "metadata": {
    "ExecuteTime": {
     "end_time": "2024-11-25T19:49:48.923317Z",
     "start_time": "2024-11-25T19:49:48.919998Z"
    }
   },
   "cell_type": "code",
   "source": "store_id_relation.head()",
   "id": "82169b253ff403f6",
   "outputs": [
    {
     "data": {
      "text/plain": [
       "           air_store_id          hpg_store_id\n",
       "0  air_63b13c56b7201bd9  hpg_4bc649e72e2a239a\n",
       "1  air_a24bf50c3e90d583  hpg_c34b496d0305a809\n",
       "2  air_c7f78b4f3cba33ff  hpg_cd8ae0d9bbd58ff9\n",
       "3  air_947eb2cae4f3e8f2  hpg_de24ea49dc25d6b8\n",
       "4  air_965b2e0cf4119003  hpg_653238a84804d8e7"
      ],
      "text/html": [
       "<div>\n",
       "<style scoped>\n",
       "    .dataframe tbody tr th:only-of-type {\n",
       "        vertical-align: middle;\n",
       "    }\n",
       "\n",
       "    .dataframe tbody tr th {\n",
       "        vertical-align: top;\n",
       "    }\n",
       "\n",
       "    .dataframe thead th {\n",
       "        text-align: right;\n",
       "    }\n",
       "</style>\n",
       "<table border=\"1\" class=\"dataframe\">\n",
       "  <thead>\n",
       "    <tr style=\"text-align: right;\">\n",
       "      <th></th>\n",
       "      <th>air_store_id</th>\n",
       "      <th>hpg_store_id</th>\n",
       "    </tr>\n",
       "  </thead>\n",
       "  <tbody>\n",
       "    <tr>\n",
       "      <th>0</th>\n",
       "      <td>air_63b13c56b7201bd9</td>\n",
       "      <td>hpg_4bc649e72e2a239a</td>\n",
       "    </tr>\n",
       "    <tr>\n",
       "      <th>1</th>\n",
       "      <td>air_a24bf50c3e90d583</td>\n",
       "      <td>hpg_c34b496d0305a809</td>\n",
       "    </tr>\n",
       "    <tr>\n",
       "      <th>2</th>\n",
       "      <td>air_c7f78b4f3cba33ff</td>\n",
       "      <td>hpg_cd8ae0d9bbd58ff9</td>\n",
       "    </tr>\n",
       "    <tr>\n",
       "      <th>3</th>\n",
       "      <td>air_947eb2cae4f3e8f2</td>\n",
       "      <td>hpg_de24ea49dc25d6b8</td>\n",
       "    </tr>\n",
       "    <tr>\n",
       "      <th>4</th>\n",
       "      <td>air_965b2e0cf4119003</td>\n",
       "      <td>hpg_653238a84804d8e7</td>\n",
       "    </tr>\n",
       "  </tbody>\n",
       "</table>\n",
       "</div>"
      ]
     },
     "execution_count": 358,
     "metadata": {},
     "output_type": "execute_result"
    }
   ],
   "execution_count": 358
  },
  {
   "metadata": {
    "ExecuteTime": {
     "end_time": "2024-11-25T19:49:49.253349Z",
     "start_time": "2024-11-25T19:49:49.050474Z"
    }
   },
   "cell_type": "code",
   "source": "hpg_df = pd.merge(store_id_relation, hpg_df, on='hpg_store_id', how='outer')\n",
   "id": "8765a78dae33a9c",
   "outputs": [],
   "execution_count": 360
  },
  {
   "metadata": {
    "ExecuteTime": {
     "end_time": "2024-11-25T19:49:49.518487Z",
     "start_time": "2024-11-25T19:49:49.295810Z"
    }
   },
   "cell_type": "code",
   "source": "hpg_df = pd.merge(hpg_df, hpg_store, on='hpg_store_id', how='outer')",
   "id": "fef37d0a73d92518",
   "outputs": [],
   "execution_count": 362
  },
  {
   "metadata": {
    "ExecuteTime": {
     "end_time": "2024-11-25T19:49:49.625283Z",
     "start_time": "2024-11-25T19:49:49.564625Z"
    }
   },
   "cell_type": "code",
   "source": "hpg_df=hpg_df[['air_store_id','hpg_store_id', 'visit_date', 'reserve_visitors', 'hpg_genre_name', 'hpg_area_name', 'latitude', 'longitude']]",
   "id": "32e02668b8794b0c",
   "outputs": [],
   "execution_count": 364
  },
  {
   "metadata": {
    "ExecuteTime": {
     "end_time": "2024-11-25T19:49:49.747256Z",
     "start_time": "2024-11-25T19:49:49.641123Z"
    }
   },
   "cell_type": "code",
   "source": "hpg_df = hpg_df.rename(columns={'hpg_genre_name':'genre_name', 'hpg_area_name':'area_name'})",
   "id": "e836affdf9e3733c",
   "outputs": [],
   "execution_count": 365
  },
  {
   "metadata": {},
   "cell_type": "markdown",
   "source": "Объединил данные для второй системы\n",
   "id": "993bbce6ce4f46ea"
  },
  {
   "metadata": {
    "ExecuteTime": {
     "end_time": "2024-11-25T19:49:54.188179Z",
     "start_time": "2024-11-25T19:49:54.162564Z"
    }
   },
   "cell_type": "code",
   "source": [
    "print(air_df.shape)\n",
    "air_df.isnull().sum()"
   ],
   "id": "1b13a77323d26192",
   "outputs": [
    {
     "name": "stdout",
     "output_type": "stream",
     "text": [
      "(252108, 9)\n"
     ]
    },
    {
     "data": {
      "text/plain": [
       "air_store_id             0\n",
       "hpg_store_id        206089\n",
       "visit_date               0\n",
       "visitors                 0\n",
       "reserve_visitors    252108\n",
       "genre_name          252108\n",
       "area_name           252108\n",
       "latitude            252108\n",
       "longitude           252108\n",
       "dtype: int64"
      ]
     },
     "execution_count": 367,
     "metadata": {},
     "output_type": "execute_result"
    }
   ],
   "execution_count": 367
  },
  {
   "metadata": {
    "ExecuteTime": {
     "end_time": "2024-11-25T19:50:06.302602Z",
     "start_time": "2024-11-25T19:50:06.138398Z"
    }
   },
   "cell_type": "code",
   "source": [
    "print(hpg_df.shape)\n",
    "hpg_df.isnull().sum()"
   ],
   "id": "6c72d3b179085eff",
   "outputs": [
    {
     "name": "stdout",
     "output_type": "stream",
     "text": [
      "(1879302, 8)\n"
     ]
    },
    {
     "data": {
      "text/plain": [
       "air_store_id        1852770\n",
       "hpg_store_id              0\n",
       "visit_date                0\n",
       "reserve_visitors          0\n",
       "genre_name          1065690\n",
       "area_name           1065690\n",
       "latitude            1065690\n",
       "longitude           1065690\n",
       "dtype: int64"
      ]
     },
     "execution_count": 368,
     "metadata": {},
     "output_type": "execute_result"
    }
   ],
   "execution_count": 368
  },
  {
   "metadata": {
    "ExecuteTime": {
     "end_time": "2024-11-25T19:50:14.622901Z",
     "start_time": "2024-11-25T19:50:14.527351Z"
    }
   },
   "cell_type": "code",
   "source": "print(air_df.air_store_id.nunique(), hpg_df.air_store_id.nunique(), air_df.hpg_store_id.nunique(), hpg_df.hpg_store_id.nunique())",
   "id": "c35b6ba28db9664b",
   "outputs": [
    {
     "name": "stdout",
     "output_type": "stream",
     "text": [
      "829 150 150 13325\n"
     ]
    }
   ],
   "execution_count": 369
  },
  {
   "metadata": {
    "ExecuteTime": {
     "end_time": "2024-11-25T19:35:11.228166Z",
     "start_time": "2024-11-25T19:35:09.624329Z"
    }
   },
   "cell_type": "code",
   "source": "df = pd.merge(air_df, hpg_df, on=['air_store_id', 'hpg_store_id','visit_date' , 'reserve_visitors', 'area_name', 'genre_name', 'latitude', 'longitude'], how='outer')",
   "id": "1ca52b292e8ed71",
   "outputs": [],
   "execution_count": 296
  },
  {
   "metadata": {
    "ExecuteTime": {
     "end_time": "2024-11-25T19:35:12.880442Z",
     "start_time": "2024-11-25T19:35:12.874328Z"
    }
   },
   "cell_type": "code",
   "source": "df",
   "id": "a08fbfdcb3e6ea83",
   "outputs": [
    {
     "data": {
      "text/plain": [
       "                 air_store_id          hpg_store_id  visit_date  visitors  \\\n",
       "0        air_00a91d42b08b08d9  hpg_fbe603376b5980fc  2016-01-14       NaN   \n",
       "1        air_00a91d42b08b08d9  hpg_fbe603376b5980fc  2016-01-15       NaN   \n",
       "2        air_00a91d42b08b08d9  hpg_fbe603376b5980fc  2016-01-16       NaN   \n",
       "3        air_00a91d42b08b08d9  hpg_fbe603376b5980fc  2016-01-22       NaN   \n",
       "4        air_00a91d42b08b08d9  hpg_fbe603376b5980fc  2016-01-29       NaN   \n",
       "...                       ...                   ...         ...       ...   \n",
       "2199340                   NaN  hpg_fffc097dce87af3e  2017-03-10       NaN   \n",
       "2199341                   NaN  hpg_fffc097dce87af3e  2017-03-17       NaN   \n",
       "2199342                   NaN  hpg_fffc097dce87af3e  2017-03-27       NaN   \n",
       "2199343                   NaN  hpg_fffc097dce87af3e  2017-04-21       NaN   \n",
       "2199344                   NaN  hpg_fffc097dce87af3e  2017-04-23       NaN   \n",
       "\n",
       "         reserve_visitors genre_name area_name  latitude  longitude  \n",
       "0                     2.0        NaN       NaN       NaN        NaN  \n",
       "1                     4.0        NaN       NaN       NaN        NaN  \n",
       "2                     2.0        NaN       NaN       NaN        NaN  \n",
       "3                     2.0        NaN       NaN       NaN        NaN  \n",
       "4                     5.0        NaN       NaN       NaN        NaN  \n",
       "...                   ...        ...       ...       ...        ...  \n",
       "2199340               2.0        NaN       NaN       NaN        NaN  \n",
       "2199341               2.0        NaN       NaN       NaN        NaN  \n",
       "2199342               5.0        NaN       NaN       NaN        NaN  \n",
       "2199343               3.0        NaN       NaN       NaN        NaN  \n",
       "2199344               8.0        NaN       NaN       NaN        NaN  \n",
       "\n",
       "[2199345 rows x 9 columns]"
      ],
      "text/html": [
       "<div>\n",
       "<style scoped>\n",
       "    .dataframe tbody tr th:only-of-type {\n",
       "        vertical-align: middle;\n",
       "    }\n",
       "\n",
       "    .dataframe tbody tr th {\n",
       "        vertical-align: top;\n",
       "    }\n",
       "\n",
       "    .dataframe thead th {\n",
       "        text-align: right;\n",
       "    }\n",
       "</style>\n",
       "<table border=\"1\" class=\"dataframe\">\n",
       "  <thead>\n",
       "    <tr style=\"text-align: right;\">\n",
       "      <th></th>\n",
       "      <th>air_store_id</th>\n",
       "      <th>hpg_store_id</th>\n",
       "      <th>visit_date</th>\n",
       "      <th>visitors</th>\n",
       "      <th>reserve_visitors</th>\n",
       "      <th>genre_name</th>\n",
       "      <th>area_name</th>\n",
       "      <th>latitude</th>\n",
       "      <th>longitude</th>\n",
       "    </tr>\n",
       "  </thead>\n",
       "  <tbody>\n",
       "    <tr>\n",
       "      <th>0</th>\n",
       "      <td>air_00a91d42b08b08d9</td>\n",
       "      <td>hpg_fbe603376b5980fc</td>\n",
       "      <td>2016-01-14</td>\n",
       "      <td>NaN</td>\n",
       "      <td>2.0</td>\n",
       "      <td>NaN</td>\n",
       "      <td>NaN</td>\n",
       "      <td>NaN</td>\n",
       "      <td>NaN</td>\n",
       "    </tr>\n",
       "    <tr>\n",
       "      <th>1</th>\n",
       "      <td>air_00a91d42b08b08d9</td>\n",
       "      <td>hpg_fbe603376b5980fc</td>\n",
       "      <td>2016-01-15</td>\n",
       "      <td>NaN</td>\n",
       "      <td>4.0</td>\n",
       "      <td>NaN</td>\n",
       "      <td>NaN</td>\n",
       "      <td>NaN</td>\n",
       "      <td>NaN</td>\n",
       "    </tr>\n",
       "    <tr>\n",
       "      <th>2</th>\n",
       "      <td>air_00a91d42b08b08d9</td>\n",
       "      <td>hpg_fbe603376b5980fc</td>\n",
       "      <td>2016-01-16</td>\n",
       "      <td>NaN</td>\n",
       "      <td>2.0</td>\n",
       "      <td>NaN</td>\n",
       "      <td>NaN</td>\n",
       "      <td>NaN</td>\n",
       "      <td>NaN</td>\n",
       "    </tr>\n",
       "    <tr>\n",
       "      <th>3</th>\n",
       "      <td>air_00a91d42b08b08d9</td>\n",
       "      <td>hpg_fbe603376b5980fc</td>\n",
       "      <td>2016-01-22</td>\n",
       "      <td>NaN</td>\n",
       "      <td>2.0</td>\n",
       "      <td>NaN</td>\n",
       "      <td>NaN</td>\n",
       "      <td>NaN</td>\n",
       "      <td>NaN</td>\n",
       "    </tr>\n",
       "    <tr>\n",
       "      <th>4</th>\n",
       "      <td>air_00a91d42b08b08d9</td>\n",
       "      <td>hpg_fbe603376b5980fc</td>\n",
       "      <td>2016-01-29</td>\n",
       "      <td>NaN</td>\n",
       "      <td>5.0</td>\n",
       "      <td>NaN</td>\n",
       "      <td>NaN</td>\n",
       "      <td>NaN</td>\n",
       "      <td>NaN</td>\n",
       "    </tr>\n",
       "    <tr>\n",
       "      <th>...</th>\n",
       "      <td>...</td>\n",
       "      <td>...</td>\n",
       "      <td>...</td>\n",
       "      <td>...</td>\n",
       "      <td>...</td>\n",
       "      <td>...</td>\n",
       "      <td>...</td>\n",
       "      <td>...</td>\n",
       "      <td>...</td>\n",
       "    </tr>\n",
       "    <tr>\n",
       "      <th>2199340</th>\n",
       "      <td>NaN</td>\n",
       "      <td>hpg_fffc097dce87af3e</td>\n",
       "      <td>2017-03-10</td>\n",
       "      <td>NaN</td>\n",
       "      <td>2.0</td>\n",
       "      <td>NaN</td>\n",
       "      <td>NaN</td>\n",
       "      <td>NaN</td>\n",
       "      <td>NaN</td>\n",
       "    </tr>\n",
       "    <tr>\n",
       "      <th>2199341</th>\n",
       "      <td>NaN</td>\n",
       "      <td>hpg_fffc097dce87af3e</td>\n",
       "      <td>2017-03-17</td>\n",
       "      <td>NaN</td>\n",
       "      <td>2.0</td>\n",
       "      <td>NaN</td>\n",
       "      <td>NaN</td>\n",
       "      <td>NaN</td>\n",
       "      <td>NaN</td>\n",
       "    </tr>\n",
       "    <tr>\n",
       "      <th>2199342</th>\n",
       "      <td>NaN</td>\n",
       "      <td>hpg_fffc097dce87af3e</td>\n",
       "      <td>2017-03-27</td>\n",
       "      <td>NaN</td>\n",
       "      <td>5.0</td>\n",
       "      <td>NaN</td>\n",
       "      <td>NaN</td>\n",
       "      <td>NaN</td>\n",
       "      <td>NaN</td>\n",
       "    </tr>\n",
       "    <tr>\n",
       "      <th>2199343</th>\n",
       "      <td>NaN</td>\n",
       "      <td>hpg_fffc097dce87af3e</td>\n",
       "      <td>2017-04-21</td>\n",
       "      <td>NaN</td>\n",
       "      <td>3.0</td>\n",
       "      <td>NaN</td>\n",
       "      <td>NaN</td>\n",
       "      <td>NaN</td>\n",
       "      <td>NaN</td>\n",
       "    </tr>\n",
       "    <tr>\n",
       "      <th>2199344</th>\n",
       "      <td>NaN</td>\n",
       "      <td>hpg_fffc097dce87af3e</td>\n",
       "      <td>2017-04-23</td>\n",
       "      <td>NaN</td>\n",
       "      <td>8.0</td>\n",
       "      <td>NaN</td>\n",
       "      <td>NaN</td>\n",
       "      <td>NaN</td>\n",
       "      <td>NaN</td>\n",
       "    </tr>\n",
       "  </tbody>\n",
       "</table>\n",
       "<p>2199345 rows × 9 columns</p>\n",
       "</div>"
      ]
     },
     "execution_count": 297,
     "metadata": {},
     "output_type": "execute_result"
    }
   ],
   "execution_count": 297
  },
  {
   "metadata": {
    "ExecuteTime": {
     "end_time": "2024-11-25T19:53:27.279487Z",
     "start_time": "2024-11-25T19:53:27.081403Z"
    }
   },
   "cell_type": "code",
   "source": [
    "print(df.shape)\n",
    "df.isnull().sum()"
   ],
   "id": "d4916447092f9a6f",
   "outputs": [
    {
     "name": "stdout",
     "output_type": "stream",
     "text": [
      "(2199345, 9)\n"
     ]
    },
    {
     "data": {
      "text/plain": [
       "air_store_id        1852770\n",
       "hpg_store_id         247192\n",
       "visit_date              515\n",
       "visitors            1947237\n",
       "reserve_visitors     252623\n",
       "genre_name          1317798\n",
       "area_name           1317798\n",
       "latitude            1317798\n",
       "longitude           1317798\n",
       "dtype: int64"
      ]
     },
     "execution_count": 370,
     "metadata": {},
     "output_type": "execute_result"
    }
   ],
   "execution_count": 370
  },
  {
   "metadata": {},
   "cell_type": "code",
   "outputs": [],
   "execution_count": null,
   "source": "",
   "id": "73aa3e368043bd8c"
  },
  {
   "metadata": {},
   "cell_type": "markdown",
   "source": "Проверил данные по месяцам для тренировочной выборки, сейчас буду делать dataframe для столбцов с заполненной целевой переменной и буду дополнять его данными из други строк согласовано ",
   "id": "b7708f126e497c6e"
  },
  {
   "metadata": {
    "ExecuteTime": {
     "end_time": "2024-11-25T20:19:05.927947Z",
     "start_time": "2024-11-25T20:19:05.923705Z"
    }
   },
   "cell_type": "code",
   "source": [
    "print(df.visit_date.unique)\n",
    "df.columns"
   ],
   "id": "6daaa37bc8c1f99c",
   "outputs": [
    {
     "name": "stdout",
     "output_type": "stream",
     "text": [
      "<bound method Series.unique of 0          2016-01-14\n",
      "1          2016-01-15\n",
      "2          2016-01-16\n",
      "3          2016-01-22\n",
      "4          2016-01-29\n",
      "              ...    \n",
      "2199340    2017-03-10\n",
      "2199341    2017-03-17\n",
      "2199342    2017-03-27\n",
      "2199343    2017-04-21\n",
      "2199344    2017-04-23\n",
      "Name: visit_date, Length: 2199345, dtype: object>\n"
     ]
    },
    {
     "data": {
      "text/plain": [
       "Index(['air_store_id', 'hpg_store_id', 'visit_date', 'visitors',\n",
       "       'reserve_visitors', 'genre_name', 'area_name', 'latitude', 'longitude'],\n",
       "      dtype='object')"
      ]
     },
     "execution_count": 375,
     "metadata": {},
     "output_type": "execute_result"
    }
   ],
   "execution_count": 375
  },
  {
   "metadata": {
    "ExecuteTime": {
     "end_time": "2024-11-25T21:32:04.087583Z",
     "start_time": "2024-11-25T21:32:04.061138Z"
    }
   },
   "cell_type": "code",
   "source": [
    "df_full = df.dropna(subset=['visitors'])\n",
    "print(df_full.shape)\n",
    "df_full"
   ],
   "id": "5021aa7c2b2b4124",
   "outputs": [
    {
     "name": "stdout",
     "output_type": "stream",
     "text": [
      "(252108, 9)\n"
     ]
    },
    {
     "data": {
      "text/plain": [
       "                air_store_id          hpg_store_id  visit_date  visitors  \\\n",
       "123     air_00a91d42b08b08d9  hpg_fbe603376b5980fc  2016-07-01      35.0   \n",
       "124     air_00a91d42b08b08d9  hpg_fbe603376b5980fc  2016-07-02       9.0   \n",
       "125     air_00a91d42b08b08d9  hpg_fbe603376b5980fc  2016-07-04      20.0   \n",
       "126     air_00a91d42b08b08d9  hpg_fbe603376b5980fc  2016-07-05      25.0   \n",
       "127     air_00a91d42b08b08d9  hpg_fbe603376b5980fc  2016-07-06      29.0   \n",
       "...                      ...                   ...         ...       ...   \n",
       "346569  air_fff68b929994bfbd                   NaN  2017-04-18       6.0   \n",
       "346570  air_fff68b929994bfbd                   NaN  2017-04-19       2.0   \n",
       "346571  air_fff68b929994bfbd                   NaN  2017-04-20       2.0   \n",
       "346572  air_fff68b929994bfbd                   NaN  2017-04-21       4.0   \n",
       "346573  air_fff68b929994bfbd                   NaN  2017-04-22       5.0   \n",
       "\n",
       "        reserve_visitors genre_name area_name  latitude  longitude  \n",
       "123                  NaN        NaN       NaN       NaN        NaN  \n",
       "124                  NaN        NaN       NaN       NaN        NaN  \n",
       "125                  NaN        NaN       NaN       NaN        NaN  \n",
       "126                  NaN        NaN       NaN       NaN        NaN  \n",
       "127                  NaN        NaN       NaN       NaN        NaN  \n",
       "...                  ...        ...       ...       ...        ...  \n",
       "346569               NaN        NaN       NaN       NaN        NaN  \n",
       "346570               NaN        NaN       NaN       NaN        NaN  \n",
       "346571               NaN        NaN       NaN       NaN        NaN  \n",
       "346572               NaN        NaN       NaN       NaN        NaN  \n",
       "346573               NaN        NaN       NaN       NaN        NaN  \n",
       "\n",
       "[252108 rows x 9 columns]"
      ],
      "text/html": [
       "<div>\n",
       "<style scoped>\n",
       "    .dataframe tbody tr th:only-of-type {\n",
       "        vertical-align: middle;\n",
       "    }\n",
       "\n",
       "    .dataframe tbody tr th {\n",
       "        vertical-align: top;\n",
       "    }\n",
       "\n",
       "    .dataframe thead th {\n",
       "        text-align: right;\n",
       "    }\n",
       "</style>\n",
       "<table border=\"1\" class=\"dataframe\">\n",
       "  <thead>\n",
       "    <tr style=\"text-align: right;\">\n",
       "      <th></th>\n",
       "      <th>air_store_id</th>\n",
       "      <th>hpg_store_id</th>\n",
       "      <th>visit_date</th>\n",
       "      <th>visitors</th>\n",
       "      <th>reserve_visitors</th>\n",
       "      <th>genre_name</th>\n",
       "      <th>area_name</th>\n",
       "      <th>latitude</th>\n",
       "      <th>longitude</th>\n",
       "    </tr>\n",
       "  </thead>\n",
       "  <tbody>\n",
       "    <tr>\n",
       "      <th>123</th>\n",
       "      <td>air_00a91d42b08b08d9</td>\n",
       "      <td>hpg_fbe603376b5980fc</td>\n",
       "      <td>2016-07-01</td>\n",
       "      <td>35.0</td>\n",
       "      <td>NaN</td>\n",
       "      <td>NaN</td>\n",
       "      <td>NaN</td>\n",
       "      <td>NaN</td>\n",
       "      <td>NaN</td>\n",
       "    </tr>\n",
       "    <tr>\n",
       "      <th>124</th>\n",
       "      <td>air_00a91d42b08b08d9</td>\n",
       "      <td>hpg_fbe603376b5980fc</td>\n",
       "      <td>2016-07-02</td>\n",
       "      <td>9.0</td>\n",
       "      <td>NaN</td>\n",
       "      <td>NaN</td>\n",
       "      <td>NaN</td>\n",
       "      <td>NaN</td>\n",
       "      <td>NaN</td>\n",
       "    </tr>\n",
       "    <tr>\n",
       "      <th>125</th>\n",
       "      <td>air_00a91d42b08b08d9</td>\n",
       "      <td>hpg_fbe603376b5980fc</td>\n",
       "      <td>2016-07-04</td>\n",
       "      <td>20.0</td>\n",
       "      <td>NaN</td>\n",
       "      <td>NaN</td>\n",
       "      <td>NaN</td>\n",
       "      <td>NaN</td>\n",
       "      <td>NaN</td>\n",
       "    </tr>\n",
       "    <tr>\n",
       "      <th>126</th>\n",
       "      <td>air_00a91d42b08b08d9</td>\n",
       "      <td>hpg_fbe603376b5980fc</td>\n",
       "      <td>2016-07-05</td>\n",
       "      <td>25.0</td>\n",
       "      <td>NaN</td>\n",
       "      <td>NaN</td>\n",
       "      <td>NaN</td>\n",
       "      <td>NaN</td>\n",
       "      <td>NaN</td>\n",
       "    </tr>\n",
       "    <tr>\n",
       "      <th>127</th>\n",
       "      <td>air_00a91d42b08b08d9</td>\n",
       "      <td>hpg_fbe603376b5980fc</td>\n",
       "      <td>2016-07-06</td>\n",
       "      <td>29.0</td>\n",
       "      <td>NaN</td>\n",
       "      <td>NaN</td>\n",
       "      <td>NaN</td>\n",
       "      <td>NaN</td>\n",
       "      <td>NaN</td>\n",
       "    </tr>\n",
       "    <tr>\n",
       "      <th>...</th>\n",
       "      <td>...</td>\n",
       "      <td>...</td>\n",
       "      <td>...</td>\n",
       "      <td>...</td>\n",
       "      <td>...</td>\n",
       "      <td>...</td>\n",
       "      <td>...</td>\n",
       "      <td>...</td>\n",
       "      <td>...</td>\n",
       "    </tr>\n",
       "    <tr>\n",
       "      <th>346569</th>\n",
       "      <td>air_fff68b929994bfbd</td>\n",
       "      <td>NaN</td>\n",
       "      <td>2017-04-18</td>\n",
       "      <td>6.0</td>\n",
       "      <td>NaN</td>\n",
       "      <td>NaN</td>\n",
       "      <td>NaN</td>\n",
       "      <td>NaN</td>\n",
       "      <td>NaN</td>\n",
       "    </tr>\n",
       "    <tr>\n",
       "      <th>346570</th>\n",
       "      <td>air_fff68b929994bfbd</td>\n",
       "      <td>NaN</td>\n",
       "      <td>2017-04-19</td>\n",
       "      <td>2.0</td>\n",
       "      <td>NaN</td>\n",
       "      <td>NaN</td>\n",
       "      <td>NaN</td>\n",
       "      <td>NaN</td>\n",
       "      <td>NaN</td>\n",
       "    </tr>\n",
       "    <tr>\n",
       "      <th>346571</th>\n",
       "      <td>air_fff68b929994bfbd</td>\n",
       "      <td>NaN</td>\n",
       "      <td>2017-04-20</td>\n",
       "      <td>2.0</td>\n",
       "      <td>NaN</td>\n",
       "      <td>NaN</td>\n",
       "      <td>NaN</td>\n",
       "      <td>NaN</td>\n",
       "      <td>NaN</td>\n",
       "    </tr>\n",
       "    <tr>\n",
       "      <th>346572</th>\n",
       "      <td>air_fff68b929994bfbd</td>\n",
       "      <td>NaN</td>\n",
       "      <td>2017-04-21</td>\n",
       "      <td>4.0</td>\n",
       "      <td>NaN</td>\n",
       "      <td>NaN</td>\n",
       "      <td>NaN</td>\n",
       "      <td>NaN</td>\n",
       "      <td>NaN</td>\n",
       "    </tr>\n",
       "    <tr>\n",
       "      <th>346573</th>\n",
       "      <td>air_fff68b929994bfbd</td>\n",
       "      <td>NaN</td>\n",
       "      <td>2017-04-22</td>\n",
       "      <td>5.0</td>\n",
       "      <td>NaN</td>\n",
       "      <td>NaN</td>\n",
       "      <td>NaN</td>\n",
       "      <td>NaN</td>\n",
       "      <td>NaN</td>\n",
       "    </tr>\n",
       "  </tbody>\n",
       "</table>\n",
       "<p>252108 rows × 9 columns</p>\n",
       "</div>"
      ]
     },
     "execution_count": 379,
     "metadata": {},
     "output_type": "execute_result"
    }
   ],
   "execution_count": 379
  },
  {
   "metadata": {
    "ExecuteTime": {
     "end_time": "2024-11-25T21:32:06.712995Z",
     "start_time": "2024-11-25T21:32:06.627107Z"
    }
   },
   "cell_type": "code",
   "source": [
    "df_missing = df[df['visitors'].isna()]\n",
    "print(df_missing.shape)\n",
    "df_missing"
   ],
   "id": "addf94c562d72b1a",
   "outputs": [
    {
     "name": "stdout",
     "output_type": "stream",
     "text": [
      "(1947237, 9)\n"
     ]
    },
    {
     "data": {
      "text/plain": [
       "                 air_store_id          hpg_store_id  visit_date  visitors  \\\n",
       "0        air_00a91d42b08b08d9  hpg_fbe603376b5980fc  2016-01-14       NaN   \n",
       "1        air_00a91d42b08b08d9  hpg_fbe603376b5980fc  2016-01-15       NaN   \n",
       "2        air_00a91d42b08b08d9  hpg_fbe603376b5980fc  2016-01-16       NaN   \n",
       "3        air_00a91d42b08b08d9  hpg_fbe603376b5980fc  2016-01-22       NaN   \n",
       "4        air_00a91d42b08b08d9  hpg_fbe603376b5980fc  2016-01-29       NaN   \n",
       "...                       ...                   ...         ...       ...   \n",
       "2199340                   NaN  hpg_fffc097dce87af3e  2017-03-10       NaN   \n",
       "2199341                   NaN  hpg_fffc097dce87af3e  2017-03-17       NaN   \n",
       "2199342                   NaN  hpg_fffc097dce87af3e  2017-03-27       NaN   \n",
       "2199343                   NaN  hpg_fffc097dce87af3e  2017-04-21       NaN   \n",
       "2199344                   NaN  hpg_fffc097dce87af3e  2017-04-23       NaN   \n",
       "\n",
       "         reserve_visitors genre_name area_name  latitude  longitude  \n",
       "0                     2.0        NaN       NaN       NaN        NaN  \n",
       "1                     4.0        NaN       NaN       NaN        NaN  \n",
       "2                     2.0        NaN       NaN       NaN        NaN  \n",
       "3                     2.0        NaN       NaN       NaN        NaN  \n",
       "4                     5.0        NaN       NaN       NaN        NaN  \n",
       "...                   ...        ...       ...       ...        ...  \n",
       "2199340               2.0        NaN       NaN       NaN        NaN  \n",
       "2199341               2.0        NaN       NaN       NaN        NaN  \n",
       "2199342               5.0        NaN       NaN       NaN        NaN  \n",
       "2199343               3.0        NaN       NaN       NaN        NaN  \n",
       "2199344               8.0        NaN       NaN       NaN        NaN  \n",
       "\n",
       "[1947237 rows x 9 columns]"
      ],
      "text/html": [
       "<div>\n",
       "<style scoped>\n",
       "    .dataframe tbody tr th:only-of-type {\n",
       "        vertical-align: middle;\n",
       "    }\n",
       "\n",
       "    .dataframe tbody tr th {\n",
       "        vertical-align: top;\n",
       "    }\n",
       "\n",
       "    .dataframe thead th {\n",
       "        text-align: right;\n",
       "    }\n",
       "</style>\n",
       "<table border=\"1\" class=\"dataframe\">\n",
       "  <thead>\n",
       "    <tr style=\"text-align: right;\">\n",
       "      <th></th>\n",
       "      <th>air_store_id</th>\n",
       "      <th>hpg_store_id</th>\n",
       "      <th>visit_date</th>\n",
       "      <th>visitors</th>\n",
       "      <th>reserve_visitors</th>\n",
       "      <th>genre_name</th>\n",
       "      <th>area_name</th>\n",
       "      <th>latitude</th>\n",
       "      <th>longitude</th>\n",
       "    </tr>\n",
       "  </thead>\n",
       "  <tbody>\n",
       "    <tr>\n",
       "      <th>0</th>\n",
       "      <td>air_00a91d42b08b08d9</td>\n",
       "      <td>hpg_fbe603376b5980fc</td>\n",
       "      <td>2016-01-14</td>\n",
       "      <td>NaN</td>\n",
       "      <td>2.0</td>\n",
       "      <td>NaN</td>\n",
       "      <td>NaN</td>\n",
       "      <td>NaN</td>\n",
       "      <td>NaN</td>\n",
       "    </tr>\n",
       "    <tr>\n",
       "      <th>1</th>\n",
       "      <td>air_00a91d42b08b08d9</td>\n",
       "      <td>hpg_fbe603376b5980fc</td>\n",
       "      <td>2016-01-15</td>\n",
       "      <td>NaN</td>\n",
       "      <td>4.0</td>\n",
       "      <td>NaN</td>\n",
       "      <td>NaN</td>\n",
       "      <td>NaN</td>\n",
       "      <td>NaN</td>\n",
       "    </tr>\n",
       "    <tr>\n",
       "      <th>2</th>\n",
       "      <td>air_00a91d42b08b08d9</td>\n",
       "      <td>hpg_fbe603376b5980fc</td>\n",
       "      <td>2016-01-16</td>\n",
       "      <td>NaN</td>\n",
       "      <td>2.0</td>\n",
       "      <td>NaN</td>\n",
       "      <td>NaN</td>\n",
       "      <td>NaN</td>\n",
       "      <td>NaN</td>\n",
       "    </tr>\n",
       "    <tr>\n",
       "      <th>3</th>\n",
       "      <td>air_00a91d42b08b08d9</td>\n",
       "      <td>hpg_fbe603376b5980fc</td>\n",
       "      <td>2016-01-22</td>\n",
       "      <td>NaN</td>\n",
       "      <td>2.0</td>\n",
       "      <td>NaN</td>\n",
       "      <td>NaN</td>\n",
       "      <td>NaN</td>\n",
       "      <td>NaN</td>\n",
       "    </tr>\n",
       "    <tr>\n",
       "      <th>4</th>\n",
       "      <td>air_00a91d42b08b08d9</td>\n",
       "      <td>hpg_fbe603376b5980fc</td>\n",
       "      <td>2016-01-29</td>\n",
       "      <td>NaN</td>\n",
       "      <td>5.0</td>\n",
       "      <td>NaN</td>\n",
       "      <td>NaN</td>\n",
       "      <td>NaN</td>\n",
       "      <td>NaN</td>\n",
       "    </tr>\n",
       "    <tr>\n",
       "      <th>...</th>\n",
       "      <td>...</td>\n",
       "      <td>...</td>\n",
       "      <td>...</td>\n",
       "      <td>...</td>\n",
       "      <td>...</td>\n",
       "      <td>...</td>\n",
       "      <td>...</td>\n",
       "      <td>...</td>\n",
       "      <td>...</td>\n",
       "    </tr>\n",
       "    <tr>\n",
       "      <th>2199340</th>\n",
       "      <td>NaN</td>\n",
       "      <td>hpg_fffc097dce87af3e</td>\n",
       "      <td>2017-03-10</td>\n",
       "      <td>NaN</td>\n",
       "      <td>2.0</td>\n",
       "      <td>NaN</td>\n",
       "      <td>NaN</td>\n",
       "      <td>NaN</td>\n",
       "      <td>NaN</td>\n",
       "    </tr>\n",
       "    <tr>\n",
       "      <th>2199341</th>\n",
       "      <td>NaN</td>\n",
       "      <td>hpg_fffc097dce87af3e</td>\n",
       "      <td>2017-03-17</td>\n",
       "      <td>NaN</td>\n",
       "      <td>2.0</td>\n",
       "      <td>NaN</td>\n",
       "      <td>NaN</td>\n",
       "      <td>NaN</td>\n",
       "      <td>NaN</td>\n",
       "    </tr>\n",
       "    <tr>\n",
       "      <th>2199342</th>\n",
       "      <td>NaN</td>\n",
       "      <td>hpg_fffc097dce87af3e</td>\n",
       "      <td>2017-03-27</td>\n",
       "      <td>NaN</td>\n",
       "      <td>5.0</td>\n",
       "      <td>NaN</td>\n",
       "      <td>NaN</td>\n",
       "      <td>NaN</td>\n",
       "      <td>NaN</td>\n",
       "    </tr>\n",
       "    <tr>\n",
       "      <th>2199343</th>\n",
       "      <td>NaN</td>\n",
       "      <td>hpg_fffc097dce87af3e</td>\n",
       "      <td>2017-04-21</td>\n",
       "      <td>NaN</td>\n",
       "      <td>3.0</td>\n",
       "      <td>NaN</td>\n",
       "      <td>NaN</td>\n",
       "      <td>NaN</td>\n",
       "      <td>NaN</td>\n",
       "    </tr>\n",
       "    <tr>\n",
       "      <th>2199344</th>\n",
       "      <td>NaN</td>\n",
       "      <td>hpg_fffc097dce87af3e</td>\n",
       "      <td>2017-04-23</td>\n",
       "      <td>NaN</td>\n",
       "      <td>8.0</td>\n",
       "      <td>NaN</td>\n",
       "      <td>NaN</td>\n",
       "      <td>NaN</td>\n",
       "      <td>NaN</td>\n",
       "    </tr>\n",
       "  </tbody>\n",
       "</table>\n",
       "<p>1947237 rows × 9 columns</p>\n",
       "</div>"
      ]
     },
     "execution_count": 380,
     "metadata": {},
     "output_type": "execute_result"
    }
   ],
   "execution_count": 380
  },
  {
   "metadata": {
    "ExecuteTime": {
     "end_time": "2024-11-25T21:35:33.946284Z",
     "start_time": "2024-11-25T21:35:28.664818Z"
    }
   },
   "cell_type": "code",
   "source": [
    "df_result_air = df_full.set_index(['air_store_id', 'visit_date']).combine_first(\n",
    "    df_missing.set_index(['air_store_id', 'visit_date'])\n",
    ").reset_index()\n",
    "# Объединяем по hpg_store_id и visit_date\n",
    "df_result_hpg = df_full.set_index(['hpg_store_id', 'visit_date']).combine_first(\n",
    "    df_missing.set_index(['hpg_store_id', 'visit_date'])\n",
    ").reset_index()\n",
    "\n",
    "# Объединяем результаты двух объединений\n",
    "df_result = pd.concat([df_result_air, df_result_hpg]).drop_duplicates()\n",
    "\n",
    "# Оставляем только строки с заполненным visitors\n",
    "df_result = df_result[df_result['visitors'].notna()]\n",
    "\n",
    "# Удаляем дубликаты, если они есть\n",
    "df_result = df_result.drop_duplicates()\n",
    "print(df_result.shape)\n",
    "df=df_result\n",
    "df['visitors'] = df['visitors'].astype(int)\n",
    "df"
   ],
   "id": "e7da2d0ee41567af",
   "outputs": [
    {
     "name": "stdout",
     "output_type": "stream",
     "text": [
      "(252108, 9)\n"
     ]
    },
    {
     "data": {
      "text/plain": [
       "                air_store_id  visit_date          hpg_store_id  visitors  \\\n",
       "123     air_00a91d42b08b08d9  2016-07-01  hpg_fbe603376b5980fc        35   \n",
       "124     air_00a91d42b08b08d9  2016-07-02  hpg_fbe603376b5980fc         9   \n",
       "125     air_00a91d42b08b08d9  2016-07-04  hpg_fbe603376b5980fc        20   \n",
       "126     air_00a91d42b08b08d9  2016-07-05  hpg_fbe603376b5980fc        25   \n",
       "127     air_00a91d42b08b08d9  2016-07-06  hpg_fbe603376b5980fc        29   \n",
       "...                      ...         ...                   ...       ...   \n",
       "346569  air_fff68b929994bfbd  2017-04-18                   NaN         6   \n",
       "346570  air_fff68b929994bfbd  2017-04-19                   NaN         2   \n",
       "346571  air_fff68b929994bfbd  2017-04-20                   NaN         2   \n",
       "346572  air_fff68b929994bfbd  2017-04-21                   NaN         4   \n",
       "346573  air_fff68b929994bfbd  2017-04-22                   NaN         5   \n",
       "\n",
       "        reserve_visitors genre_name area_name  latitude  longitude  \n",
       "123                  NaN        NaN       NaN       NaN        NaN  \n",
       "124                  NaN        NaN       NaN       NaN        NaN  \n",
       "125                  NaN        NaN       NaN       NaN        NaN  \n",
       "126                  NaN        NaN       NaN       NaN        NaN  \n",
       "127                  NaN        NaN       NaN       NaN        NaN  \n",
       "...                  ...        ...       ...       ...        ...  \n",
       "346569               NaN        NaN       NaN       NaN        NaN  \n",
       "346570               NaN        NaN       NaN       NaN        NaN  \n",
       "346571               NaN        NaN       NaN       NaN        NaN  \n",
       "346572               NaN        NaN       NaN       NaN        NaN  \n",
       "346573               NaN        NaN       NaN       NaN        NaN  \n",
       "\n",
       "[252108 rows x 9 columns]"
      ],
      "text/html": [
       "<div>\n",
       "<style scoped>\n",
       "    .dataframe tbody tr th:only-of-type {\n",
       "        vertical-align: middle;\n",
       "    }\n",
       "\n",
       "    .dataframe tbody tr th {\n",
       "        vertical-align: top;\n",
       "    }\n",
       "\n",
       "    .dataframe thead th {\n",
       "        text-align: right;\n",
       "    }\n",
       "</style>\n",
       "<table border=\"1\" class=\"dataframe\">\n",
       "  <thead>\n",
       "    <tr style=\"text-align: right;\">\n",
       "      <th></th>\n",
       "      <th>air_store_id</th>\n",
       "      <th>visit_date</th>\n",
       "      <th>hpg_store_id</th>\n",
       "      <th>visitors</th>\n",
       "      <th>reserve_visitors</th>\n",
       "      <th>genre_name</th>\n",
       "      <th>area_name</th>\n",
       "      <th>latitude</th>\n",
       "      <th>longitude</th>\n",
       "    </tr>\n",
       "  </thead>\n",
       "  <tbody>\n",
       "    <tr>\n",
       "      <th>123</th>\n",
       "      <td>air_00a91d42b08b08d9</td>\n",
       "      <td>2016-07-01</td>\n",
       "      <td>hpg_fbe603376b5980fc</td>\n",
       "      <td>35</td>\n",
       "      <td>NaN</td>\n",
       "      <td>NaN</td>\n",
       "      <td>NaN</td>\n",
       "      <td>NaN</td>\n",
       "      <td>NaN</td>\n",
       "    </tr>\n",
       "    <tr>\n",
       "      <th>124</th>\n",
       "      <td>air_00a91d42b08b08d9</td>\n",
       "      <td>2016-07-02</td>\n",
       "      <td>hpg_fbe603376b5980fc</td>\n",
       "      <td>9</td>\n",
       "      <td>NaN</td>\n",
       "      <td>NaN</td>\n",
       "      <td>NaN</td>\n",
       "      <td>NaN</td>\n",
       "      <td>NaN</td>\n",
       "    </tr>\n",
       "    <tr>\n",
       "      <th>125</th>\n",
       "      <td>air_00a91d42b08b08d9</td>\n",
       "      <td>2016-07-04</td>\n",
       "      <td>hpg_fbe603376b5980fc</td>\n",
       "      <td>20</td>\n",
       "      <td>NaN</td>\n",
       "      <td>NaN</td>\n",
       "      <td>NaN</td>\n",
       "      <td>NaN</td>\n",
       "      <td>NaN</td>\n",
       "    </tr>\n",
       "    <tr>\n",
       "      <th>126</th>\n",
       "      <td>air_00a91d42b08b08d9</td>\n",
       "      <td>2016-07-05</td>\n",
       "      <td>hpg_fbe603376b5980fc</td>\n",
       "      <td>25</td>\n",
       "      <td>NaN</td>\n",
       "      <td>NaN</td>\n",
       "      <td>NaN</td>\n",
       "      <td>NaN</td>\n",
       "      <td>NaN</td>\n",
       "    </tr>\n",
       "    <tr>\n",
       "      <th>127</th>\n",
       "      <td>air_00a91d42b08b08d9</td>\n",
       "      <td>2016-07-06</td>\n",
       "      <td>hpg_fbe603376b5980fc</td>\n",
       "      <td>29</td>\n",
       "      <td>NaN</td>\n",
       "      <td>NaN</td>\n",
       "      <td>NaN</td>\n",
       "      <td>NaN</td>\n",
       "      <td>NaN</td>\n",
       "    </tr>\n",
       "    <tr>\n",
       "      <th>...</th>\n",
       "      <td>...</td>\n",
       "      <td>...</td>\n",
       "      <td>...</td>\n",
       "      <td>...</td>\n",
       "      <td>...</td>\n",
       "      <td>...</td>\n",
       "      <td>...</td>\n",
       "      <td>...</td>\n",
       "      <td>...</td>\n",
       "    </tr>\n",
       "    <tr>\n",
       "      <th>346569</th>\n",
       "      <td>air_fff68b929994bfbd</td>\n",
       "      <td>2017-04-18</td>\n",
       "      <td>NaN</td>\n",
       "      <td>6</td>\n",
       "      <td>NaN</td>\n",
       "      <td>NaN</td>\n",
       "      <td>NaN</td>\n",
       "      <td>NaN</td>\n",
       "      <td>NaN</td>\n",
       "    </tr>\n",
       "    <tr>\n",
       "      <th>346570</th>\n",
       "      <td>air_fff68b929994bfbd</td>\n",
       "      <td>2017-04-19</td>\n",
       "      <td>NaN</td>\n",
       "      <td>2</td>\n",
       "      <td>NaN</td>\n",
       "      <td>NaN</td>\n",
       "      <td>NaN</td>\n",
       "      <td>NaN</td>\n",
       "      <td>NaN</td>\n",
       "    </tr>\n",
       "    <tr>\n",
       "      <th>346571</th>\n",
       "      <td>air_fff68b929994bfbd</td>\n",
       "      <td>2017-04-20</td>\n",
       "      <td>NaN</td>\n",
       "      <td>2</td>\n",
       "      <td>NaN</td>\n",
       "      <td>NaN</td>\n",
       "      <td>NaN</td>\n",
       "      <td>NaN</td>\n",
       "      <td>NaN</td>\n",
       "    </tr>\n",
       "    <tr>\n",
       "      <th>346572</th>\n",
       "      <td>air_fff68b929994bfbd</td>\n",
       "      <td>2017-04-21</td>\n",
       "      <td>NaN</td>\n",
       "      <td>4</td>\n",
       "      <td>NaN</td>\n",
       "      <td>NaN</td>\n",
       "      <td>NaN</td>\n",
       "      <td>NaN</td>\n",
       "      <td>NaN</td>\n",
       "    </tr>\n",
       "    <tr>\n",
       "      <th>346573</th>\n",
       "      <td>air_fff68b929994bfbd</td>\n",
       "      <td>2017-04-22</td>\n",
       "      <td>NaN</td>\n",
       "      <td>5</td>\n",
       "      <td>NaN</td>\n",
       "      <td>NaN</td>\n",
       "      <td>NaN</td>\n",
       "      <td>NaN</td>\n",
       "      <td>NaN</td>\n",
       "    </tr>\n",
       "  </tbody>\n",
       "</table>\n",
       "<p>252108 rows × 9 columns</p>\n",
       "</div>"
      ]
     },
     "execution_count": 383,
     "metadata": {},
     "output_type": "execute_result"
    }
   ],
   "execution_count": 383
  },
  {
   "metadata": {},
   "cell_type": "markdown",
   "source": [
    "вот я объединил это хорошо, но теперь надо выбрать вариант: \n",
    "1.  Объединить датасеты \n",
    "2. Дополнить датасет air\n",
    "\n",
    " Я иду по второму пути, потому что у air есть данные о посетителях, а у второго нет. Но надо по максимуму дополнить по остальным данным и это сделаю из второго датасета. Потом опять удалю все, что без значения количества посетителей и проверю аномальные значения.\n",
    " \n",
    "я уже выше сделал это, теперь надо именно подготовить данные к анализу: удалить аномалии и тд\n",
    "\n"
   ],
   "id": "cfb397975670506d"
  },
  {
   "metadata": {},
   "cell_type": "code",
   "outputs": [],
   "execution_count": null,
   "source": "",
   "id": "7827a6f81ed1a38f"
  },
  {
   "metadata": {
    "ExecuteTime": {
     "end_time": "2024-11-25T21:42:52.715928Z",
     "start_time": "2024-11-25T21:42:52.642441Z"
    }
   },
   "cell_type": "code",
   "source": [
    "plt.figure(figsize=(8,6))\n",
    "plt.hist(df['visitors'], bins=20)\n",
    "plt.xlim(-5, 200)\n",
    "plt.xlabel('Visitors')\n",
    "plt.ylabel('Frequency')\n",
    "plt.title('Histogram of Reserve Visitors')\n",
    "plt.show()"
   ],
   "id": "b5bbc122feabb52d",
   "outputs": [
    {
     "data": {
      "text/plain": [
       "<Figure size 800x600 with 1 Axes>"
      ],
      "image/png": "[encoded data removed]"
     },
     "metadata": {},
     "output_type": "display_data"
    }
   ],
   "execution_count": 386
  },
  {
   "metadata": {
    "ExecuteTime": {
     "end_time": "2024-11-25T21:42:35.810156Z",
     "start_time": "2024-11-25T21:42:35.739099Z"
    }
   },
   "cell_type": "code",
   "source": [
    "fig, ax = plt.subplots(figsize=(8,6))\n",
    "ax.boxplot(df['visitors'])\n",
    "ax.set_ylabel('количество посетителей')\n",
    "ax.set_title('Ящик с усами для количества забронированных пользователей (с аномалиями)')\n"
   ],
   "id": "c264647a77d448a5",
   "outputs": [
    {
     "data": {
      "text/plain": [
       "Text(0.5, 1.0, 'Ящик с усами для количества забронированных пользователей (с аномалиями)')"
      ]
     },
     "execution_count": 385,
     "metadata": {},
     "output_type": "execute_result"
    },
    {
     "data": {
      "text/plain": [
       "<Figure size 800x600 with 1 Axes>"
      ],
      "image/png": "[encoded data removed]"
     },
     "metadata": {},
     "output_type": "display_data"
    }
   ],
   "execution_count": 385
  },
  {
   "metadata": {
    "ExecuteTime": {
     "end_time": "2024-11-25T21:43:08.707836Z",
     "start_time": "2024-11-25T21:43:08.703738Z"
    }
   },
   "cell_type": "code",
   "source": "df.info",
   "id": "cc91177e5ec75de1",
   "outputs": [
    {
     "data": {
      "text/plain": [
       "<bound method DataFrame.info of                 air_store_id  visit_date          hpg_store_id  visitors  \\\n",
       "123     air_00a91d42b08b08d9  2016-07-01  hpg_fbe603376b5980fc        35   \n",
       "124     air_00a91d42b08b08d9  2016-07-02  hpg_fbe603376b5980fc         9   \n",
       "125     air_00a91d42b08b08d9  2016-07-04  hpg_fbe603376b5980fc        20   \n",
       "126     air_00a91d42b08b08d9  2016-07-05  hpg_fbe603376b5980fc        25   \n",
       "127     air_00a91d42b08b08d9  2016-07-06  hpg_fbe603376b5980fc        29   \n",
       "...                      ...         ...                   ...       ...   \n",
       "346569  air_fff68b929994bfbd  2017-04-18                   NaN         6   \n",
       "346570  air_fff68b929994bfbd  2017-04-19                   NaN         2   \n",
       "346571  air_fff68b929994bfbd  2017-04-20                   NaN         2   \n",
       "346572  air_fff68b929994bfbd  2017-04-21                   NaN         4   \n",
       "346573  air_fff68b929994bfbd  2017-04-22                   NaN         5   \n",
       "\n",
       "        reserve_visitors genre_name area_name  latitude  longitude  \n",
       "123                  NaN        NaN       NaN       NaN        NaN  \n",
       "124                  NaN        NaN       NaN       NaN        NaN  \n",
       "125                  NaN        NaN       NaN       NaN        NaN  \n",
       "126                  NaN        NaN       NaN       NaN        NaN  \n",
       "127                  NaN        NaN       NaN       NaN        NaN  \n",
       "...                  ...        ...       ...       ...        ...  \n",
       "346569               NaN        NaN       NaN       NaN        NaN  \n",
       "346570               NaN        NaN       NaN       NaN        NaN  \n",
       "346571               NaN        NaN       NaN       NaN        NaN  \n",
       "346572               NaN        NaN       NaN       NaN        NaN  \n",
       "346573               NaN        NaN       NaN       NaN        NaN  \n",
       "\n",
       "[252108 rows x 9 columns]>"
      ]
     },
     "execution_count": 387,
     "metadata": {},
     "output_type": "execute_result"
    }
   ],
   "execution_count": 387
  },
  {
   "metadata": {
    "ExecuteTime": {
     "end_time": "2024-11-25T21:43:30.323997Z",
     "start_time": "2024-11-25T21:43:30.294339Z"
    }
   },
   "cell_type": "code",
   "source": "df.describe()",
   "id": "5e11125d9fb680e1",
   "outputs": [
    {
     "data": {
      "text/plain": [
       "            visitors  reserve_visitors  latitude  longitude\n",
       "count  252108.000000               0.0       0.0        0.0\n",
       "mean       20.973761               NaN       NaN        NaN\n",
       "std        16.757007               NaN       NaN        NaN\n",
       "min         1.000000               NaN       NaN        NaN\n",
       "25%         9.000000               NaN       NaN        NaN\n",
       "50%        17.000000               NaN       NaN        NaN\n",
       "75%        29.000000               NaN       NaN        NaN\n",
       "max       877.000000               NaN       NaN        NaN"
      ],
      "text/html": [
       "<div>\n",
       "<style scoped>\n",
       "    .dataframe tbody tr th:only-of-type {\n",
       "        vertical-align: middle;\n",
       "    }\n",
       "\n",
       "    .dataframe tbody tr th {\n",
       "        vertical-align: top;\n",
       "    }\n",
       "\n",
       "    .dataframe thead th {\n",
       "        text-align: right;\n",
       "    }\n",
       "</style>\n",
       "<table border=\"1\" class=\"dataframe\">\n",
       "  <thead>\n",
       "    <tr style=\"text-align: right;\">\n",
       "      <th></th>\n",
       "      <th>visitors</th>\n",
       "      <th>reserve_visitors</th>\n",
       "      <th>latitude</th>\n",
       "      <th>longitude</th>\n",
       "    </tr>\n",
       "  </thead>\n",
       "  <tbody>\n",
       "    <tr>\n",
       "      <th>count</th>\n",
       "      <td>252108.000000</td>\n",
       "      <td>0.0</td>\n",
       "      <td>0.0</td>\n",
       "      <td>0.0</td>\n",
       "    </tr>\n",
       "    <tr>\n",
       "      <th>mean</th>\n",
       "      <td>20.973761</td>\n",
       "      <td>NaN</td>\n",
       "      <td>NaN</td>\n",
       "      <td>NaN</td>\n",
       "    </tr>\n",
       "    <tr>\n",
       "      <th>std</th>\n",
       "      <td>16.757007</td>\n",
       "      <td>NaN</td>\n",
       "      <td>NaN</td>\n",
       "      <td>NaN</td>\n",
       "    </tr>\n",
       "    <tr>\n",
       "      <th>min</th>\n",
       "      <td>1.000000</td>\n",
       "      <td>NaN</td>\n",
       "      <td>NaN</td>\n",
       "      <td>NaN</td>\n",
       "    </tr>\n",
       "    <tr>\n",
       "      <th>25%</th>\n",
       "      <td>9.000000</td>\n",
       "      <td>NaN</td>\n",
       "      <td>NaN</td>\n",
       "      <td>NaN</td>\n",
       "    </tr>\n",
       "    <tr>\n",
       "      <th>50%</th>\n",
       "      <td>17.000000</td>\n",
       "      <td>NaN</td>\n",
       "      <td>NaN</td>\n",
       "      <td>NaN</td>\n",
       "    </tr>\n",
       "    <tr>\n",
       "      <th>75%</th>\n",
       "      <td>29.000000</td>\n",
       "      <td>NaN</td>\n",
       "      <td>NaN</td>\n",
       "      <td>NaN</td>\n",
       "    </tr>\n",
       "    <tr>\n",
       "      <th>max</th>\n",
       "      <td>877.000000</td>\n",
       "      <td>NaN</td>\n",
       "      <td>NaN</td>\n",
       "      <td>NaN</td>\n",
       "    </tr>\n",
       "  </tbody>\n",
       "</table>\n",
       "</div>"
      ]
     },
     "execution_count": 388,
     "metadata": {},
     "output_type": "execute_result"
    }
   ],
   "execution_count": 388
  },
  {
   "metadata": {
    "ExecuteTime": {
     "end_time": "2024-11-25T21:58:01.780784Z",
     "start_time": "2024-11-25T21:58:01.759121Z"
    }
   },
   "cell_type": "code",
   "source": "print(df.shape, df.air_store_id.notna().sum(), df.hpg_store_id.notna().sum(), df.air_store_id.nunique(), df.hpg_store_id.nunique())",
   "id": "7010a1cb3ef2f402",
   "outputs": [
    {
     "name": "stdout",
     "output_type": "stream",
     "text": [
      "(252108, 9) 252108 46019 829 150\n"
     ]
    }
   ],
   "execution_count": 395
  },
  {
   "metadata": {
    "ExecuteTime": {
     "end_time": "2024-11-25T21:59:26.226941Z",
     "start_time": "2024-11-25T21:59:26.225136Z"
    }
   },
   "cell_type": "code",
   "source": "del df['hpg_store_id']",
   "id": "9de4f575c048394d",
   "outputs": [],
   "execution_count": 397
  },
  {
   "metadata": {
    "ExecuteTime": {
     "end_time": "2024-11-25T21:59:32.485596Z",
     "start_time": "2024-11-25T21:59:32.480748Z"
    }
   },
   "cell_type": "code",
   "source": "df",
   "id": "197302284696c159",
   "outputs": [
    {
     "data": {
      "text/plain": [
       "                air_store_id  visit_date  visitors  reserve_visitors  \\\n",
       "123     air_00a91d42b08b08d9  2016-07-01        35               NaN   \n",
       "124     air_00a91d42b08b08d9  2016-07-02         9               NaN   \n",
       "125     air_00a91d42b08b08d9  2016-07-04        20               NaN   \n",
       "126     air_00a91d42b08b08d9  2016-07-05        25               NaN   \n",
       "127     air_00a91d42b08b08d9  2016-07-06        29               NaN   \n",
       "...                      ...         ...       ...               ...   \n",
       "346569  air_fff68b929994bfbd  2017-04-18         6               NaN   \n",
       "346570  air_fff68b929994bfbd  2017-04-19         2               NaN   \n",
       "346571  air_fff68b929994bfbd  2017-04-20         2               NaN   \n",
       "346572  air_fff68b929994bfbd  2017-04-21         4               NaN   \n",
       "346573  air_fff68b929994bfbd  2017-04-22         5               NaN   \n",
       "\n",
       "       genre_name area_name  latitude  longitude  \n",
       "123           NaN       NaN       NaN        NaN  \n",
       "124           NaN       NaN       NaN        NaN  \n",
       "125           NaN       NaN       NaN        NaN  \n",
       "126           NaN       NaN       NaN        NaN  \n",
       "127           NaN       NaN       NaN        NaN  \n",
       "...           ...       ...       ...        ...  \n",
       "346569        NaN       NaN       NaN        NaN  \n",
       "346570        NaN       NaN       NaN        NaN  \n",
       "346571        NaN       NaN       NaN        NaN  \n",
       "346572        NaN       NaN       NaN        NaN  \n",
       "346573        NaN       NaN       NaN        NaN  \n",
       "\n",
       "[252108 rows x 8 columns]"
      ],
      "text/html": [
       "<div>\n",
       "<style scoped>\n",
       "    .dataframe tbody tr th:only-of-type {\n",
       "        vertical-align: middle;\n",
       "    }\n",
       "\n",
       "    .dataframe tbody tr th {\n",
       "        vertical-align: top;\n",
       "    }\n",
       "\n",
       "    .dataframe thead th {\n",
       "        text-align: right;\n",
       "    }\n",
       "</style>\n",
       "<table border=\"1\" class=\"dataframe\">\n",
       "  <thead>\n",
       "    <tr style=\"text-align: right;\">\n",
       "      <th></th>\n",
       "      <th>air_store_id</th>\n",
       "      <th>visit_date</th>\n",
       "      <th>visitors</th>\n",
       "      <th>reserve_visitors</th>\n",
       "      <th>genre_name</th>\n",
       "      <th>area_name</th>\n",
       "      <th>latitude</th>\n",
       "      <th>longitude</th>\n",
       "    </tr>\n",
       "  </thead>\n",
       "  <tbody>\n",
       "    <tr>\n",
       "      <th>123</th>\n",
       "      <td>air_00a91d42b08b08d9</td>\n",
       "      <td>2016-07-01</td>\n",
       "      <td>35</td>\n",
       "      <td>NaN</td>\n",
       "      <td>NaN</td>\n",
       "      <td>NaN</td>\n",
       "      <td>NaN</td>\n",
       "      <td>NaN</td>\n",
       "    </tr>\n",
       "    <tr>\n",
       "      <th>124</th>\n",
       "      <td>air_00a91d42b08b08d9</td>\n",
       "      <td>2016-07-02</td>\n",
       "      <td>9</td>\n",
       "      <td>NaN</td>\n",
       "      <td>NaN</td>\n",
       "      <td>NaN</td>\n",
       "      <td>NaN</td>\n",
       "      <td>NaN</td>\n",
       "    </tr>\n",
       "    <tr>\n",
       "      <th>125</th>\n",
       "      <td>air_00a91d42b08b08d9</td>\n",
       "      <td>2016-07-04</td>\n",
       "      <td>20</td>\n",
       "      <td>NaN</td>\n",
       "      <td>NaN</td>\n",
       "      <td>NaN</td>\n",
       "      <td>NaN</td>\n",
       "      <td>NaN</td>\n",
       "    </tr>\n",
       "    <tr>\n",
       "      <th>126</th>\n",
       "      <td>air_00a91d42b08b08d9</td>\n",
       "      <td>2016-07-05</td>\n",
       "      <td>25</td>\n",
       "      <td>NaN</td>\n",
       "      <td>NaN</td>\n",
       "      <td>NaN</td>\n",
       "      <td>NaN</td>\n",
       "      <td>NaN</td>\n",
       "    </tr>\n",
       "    <tr>\n",
       "      <th>127</th>\n",
       "      <td>air_00a91d42b08b08d9</td>\n",
       "      <td>2016-07-06</td>\n",
       "      <td>29</td>\n",
       "      <td>NaN</td>\n",
       "      <td>NaN</td>\n",
       "      <td>NaN</td>\n",
       "      <td>NaN</td>\n",
       "      <td>NaN</td>\n",
       "    </tr>\n",
       "    <tr>\n",
       "      <th>...</th>\n",
       "      <td>...</td>\n",
       "      <td>...</td>\n",
       "      <td>...</td>\n",
       "      <td>...</td>\n",
       "      <td>...</td>\n",
       "      <td>...</td>\n",
       "      <td>...</td>\n",
       "      <td>...</td>\n",
       "    </tr>\n",
       "    <tr>\n",
       "      <th>346569</th>\n",
       "      <td>air_fff68b929994bfbd</td>\n",
       "      <td>2017-04-18</td>\n",
       "      <td>6</td>\n",
       "      <td>NaN</td>\n",
       "      <td>NaN</td>\n",
       "      <td>NaN</td>\n",
       "      <td>NaN</td>\n",
       "      <td>NaN</td>\n",
       "    </tr>\n",
       "    <tr>\n",
       "      <th>346570</th>\n",
       "      <td>air_fff68b929994bfbd</td>\n",
       "      <td>2017-04-19</td>\n",
       "      <td>2</td>\n",
       "      <td>NaN</td>\n",
       "      <td>NaN</td>\n",
       "      <td>NaN</td>\n",
       "      <td>NaN</td>\n",
       "      <td>NaN</td>\n",
       "    </tr>\n",
       "    <tr>\n",
       "      <th>346571</th>\n",
       "      <td>air_fff68b929994bfbd</td>\n",
       "      <td>2017-04-20</td>\n",
       "      <td>2</td>\n",
       "      <td>NaN</td>\n",
       "      <td>NaN</td>\n",
       "      <td>NaN</td>\n",
       "      <td>NaN</td>\n",
       "      <td>NaN</td>\n",
       "    </tr>\n",
       "    <tr>\n",
       "      <th>346572</th>\n",
       "      <td>air_fff68b929994bfbd</td>\n",
       "      <td>2017-04-21</td>\n",
       "      <td>4</td>\n",
       "      <td>NaN</td>\n",
       "      <td>NaN</td>\n",
       "      <td>NaN</td>\n",
       "      <td>NaN</td>\n",
       "      <td>NaN</td>\n",
       "    </tr>\n",
       "    <tr>\n",
       "      <th>346573</th>\n",
       "      <td>air_fff68b929994bfbd</td>\n",
       "      <td>2017-04-22</td>\n",
       "      <td>5</td>\n",
       "      <td>NaN</td>\n",
       "      <td>NaN</td>\n",
       "      <td>NaN</td>\n",
       "      <td>NaN</td>\n",
       "      <td>NaN</td>\n",
       "    </tr>\n",
       "  </tbody>\n",
       "</table>\n",
       "<p>252108 rows × 8 columns</p>\n",
       "</div>"
      ]
     },
     "execution_count": 398,
     "metadata": {},
     "output_type": "execute_result"
    }
   ],
   "execution_count": 398
  },
  {
   "metadata": {
    "ExecuteTime": {
     "end_time": "2024-11-25T22:13:02.614722Z",
     "start_time": "2024-11-25T22:13:02.593912Z"
    }
   },
   "cell_type": "code",
   "source": [
    "maximum_visitors_index = df['visitors'].idxmax()\n",
    "id_for_max = df.loc[maximum_visitors_index, 'air_store_id']\n",
    "print(f\"Значение столбца 'id' для строки с максимальным значением 'visitors': {id_for_max}\")\n",
    "# print(df['visitors'].max())\n",
    "matching_visitors = df.loc[df['air_store_id'] == id_for_max, 'visitors']\n",
    "matching_times = df.loc[df['air_store_id'] == id_for_max, 'visit_date']\n",
    "print(\"Значения столбца 'visitors' для соответствующих строк:\")\n",
    "matching_visitors.describe()\n"
   ],
   "id": "f99330d75d134ec",
   "outputs": [
    {
     "name": "stdout",
     "output_type": "stream",
     "text": [
      "Значение столбца 'id' для строки с максимальным значением 'visitors': air_cfdeb326418194ff\n",
      "Значения столбца 'visitors' для соответствующих строк:\n"
     ]
    },
    {
     "data": {
      "text/plain": [
       "count    407.000000\n",
       "mean      17.090909\n",
       "std       43.817288\n",
       "min        1.000000\n",
       "25%        6.000000\n",
       "50%       15.000000\n",
       "75%       22.000000\n",
       "max      877.000000\n",
       "Name: visitors, dtype: float64"
      ]
     },
     "execution_count": 403,
     "metadata": {},
     "output_type": "execute_result"
    }
   ],
   "execution_count": 403
  },
  {
   "metadata": {
    "ExecuteTime": {
     "end_time": "2024-11-25T22:13:05.443446Z",
     "start_time": "2024-11-25T22:13:04.451718Z"
    }
   },
   "cell_type": "code",
   "source": [
    "plt.figure(figsize=(8,6))\n",
    "plt.plot(matching_times, matching_visitors)\n",
    "plt.xlabel('даты')\n",
    "plt.ylabel('посетители')\n",
    "plt.show()"
   ],
   "id": "424f012c9dd86aa",
   "outputs": [
    {
     "data": {
      "text/plain": [
       "<Figure size 800x600 with 1 Axes>"
      ],
      "image/png": "[encoded data removed]"
     },
     "metadata": {},
     "output_type": "display_data"
    }
   ],
   "execution_count": 404
  },
  {
   "metadata": {},
   "cell_type": "markdown",
   "source": "тут это очевидный выброс, поэтому это нужно удалить будет",
   "id": "705fc79f41e3d8a8"
  },
  {
   "metadata": {
    "ExecuteTime": {
     "end_time": "2024-11-25T21:49:45.709162Z",
     "start_time": "2024-11-25T21:49:45.624539Z"
    }
   },
   "cell_type": "code",
   "source": [
    "#TODO вот отсюда продолжить\n",
    "print(df.loc[maximum_visitors_cafe.air_store_id, ['visit_date', 'visitors', 'hpg_store_id']])"
   ],
   "id": "903ce7324e751297",
   "outputs": [
    {
     "ename": "KeyError",
     "evalue": "\"None of [Index(['air_cfdeb326418194ff'], dtype='object')] are in the [index]\"",
     "output_type": "error",
     "traceback": [
      "\u001B[1;31m---------------------------------------------------------------------------\u001B[0m",
      "\u001B[1;31mKeyError\u001B[0m                                  Traceback (most recent call last)",
      "Cell \u001B[1;32mIn[391], line 1\u001B[0m\n\u001B[1;32m----> 1\u001B[0m \u001B[38;5;28mprint\u001B[39m(\u001B[43mdf\u001B[49m\u001B[38;5;241;43m.\u001B[39;49m\u001B[43mloc\u001B[49m\u001B[43m[\u001B[49m\u001B[43mmaximum_visitors_cafe\u001B[49m\u001B[38;5;241;43m.\u001B[39;49m\u001B[43mair_store_id\u001B[49m\u001B[43m,\u001B[49m\u001B[43m \u001B[49m\u001B[43m[\u001B[49m\u001B[38;5;124;43m'\u001B[39;49m\u001B[38;5;124;43mvisit_date\u001B[39;49m\u001B[38;5;124;43m'\u001B[39;49m\u001B[43m,\u001B[49m\u001B[43m \u001B[49m\u001B[38;5;124;43m'\u001B[39;49m\u001B[38;5;124;43mvisitors\u001B[39;49m\u001B[38;5;124;43m'\u001B[39;49m\u001B[43m,\u001B[49m\u001B[43m \u001B[49m\u001B[38;5;124;43m'\u001B[39;49m\u001B[38;5;124;43mhpg_store_id\u001B[39;49m\u001B[38;5;124;43m'\u001B[39;49m\u001B[43m]\u001B[49m\u001B[43m]\u001B[49m)\n",
      "File \u001B[1;32m~\\AppData\\Local\\Programs\\Python\\Python313\\Lib\\site-packages\\pandas\\core\\indexing.py:1184\u001B[0m, in \u001B[0;36m_LocationIndexer.__getitem__\u001B[1;34m(self, key)\u001B[0m\n\u001B[0;32m   1182\u001B[0m     \u001B[38;5;28;01mif\u001B[39;00m \u001B[38;5;28mself\u001B[39m\u001B[38;5;241m.\u001B[39m_is_scalar_access(key):\n\u001B[0;32m   1183\u001B[0m         \u001B[38;5;28;01mreturn\u001B[39;00m \u001B[38;5;28mself\u001B[39m\u001B[38;5;241m.\u001B[39mobj\u001B[38;5;241m.\u001B[39m_get_value(\u001B[38;5;241m*\u001B[39mkey, takeable\u001B[38;5;241m=\u001B[39m\u001B[38;5;28mself\u001B[39m\u001B[38;5;241m.\u001B[39m_takeable)\n\u001B[1;32m-> 1184\u001B[0m     \u001B[38;5;28;01mreturn\u001B[39;00m \u001B[38;5;28;43mself\u001B[39;49m\u001B[38;5;241;43m.\u001B[39;49m\u001B[43m_getitem_tuple\u001B[49m\u001B[43m(\u001B[49m\u001B[43mkey\u001B[49m\u001B[43m)\u001B[49m\n\u001B[0;32m   1185\u001B[0m \u001B[38;5;28;01melse\u001B[39;00m:\n\u001B[0;32m   1186\u001B[0m     \u001B[38;5;66;03m# we by definition only have the 0th axis\u001B[39;00m\n\u001B[0;32m   1187\u001B[0m     axis \u001B[38;5;241m=\u001B[39m \u001B[38;5;28mself\u001B[39m\u001B[38;5;241m.\u001B[39maxis \u001B[38;5;129;01mor\u001B[39;00m \u001B[38;5;241m0\u001B[39m\n",
      "File \u001B[1;32m~\\AppData\\Local\\Programs\\Python\\Python313\\Lib\\site-packages\\pandas\\core\\indexing.py:1375\u001B[0m, in \u001B[0;36m_LocIndexer._getitem_tuple\u001B[1;34m(self, tup)\u001B[0m\n\u001B[0;32m   1373\u001B[0m \u001B[38;5;66;03m# ugly hack for GH #836\u001B[39;00m\n\u001B[0;32m   1374\u001B[0m \u001B[38;5;28;01mif\u001B[39;00m \u001B[38;5;28mself\u001B[39m\u001B[38;5;241m.\u001B[39m_multi_take_opportunity(tup):\n\u001B[1;32m-> 1375\u001B[0m     \u001B[38;5;28;01mreturn\u001B[39;00m \u001B[38;5;28;43mself\u001B[39;49m\u001B[38;5;241;43m.\u001B[39;49m\u001B[43m_multi_take\u001B[49m\u001B[43m(\u001B[49m\u001B[43mtup\u001B[49m\u001B[43m)\u001B[49m\n\u001B[0;32m   1377\u001B[0m \u001B[38;5;28;01mreturn\u001B[39;00m \u001B[38;5;28mself\u001B[39m\u001B[38;5;241m.\u001B[39m_getitem_tuple_same_dim(tup)\n",
      "File \u001B[1;32m~\\AppData\\Local\\Programs\\Python\\Python313\\Lib\\site-packages\\pandas\\core\\indexing.py:1327\u001B[0m, in \u001B[0;36m_LocIndexer._multi_take\u001B[1;34m(self, tup)\u001B[0m\n\u001B[0;32m   1310\u001B[0m \u001B[38;5;250m\u001B[39m\u001B[38;5;124;03m\"\"\"\u001B[39;00m\n\u001B[0;32m   1311\u001B[0m \u001B[38;5;124;03mCreate the indexers for the passed tuple of keys, and\u001B[39;00m\n\u001B[0;32m   1312\u001B[0m \u001B[38;5;124;03mexecutes the take operation. This allows the take operation to be\u001B[39;00m\n\u001B[1;32m   (...)\u001B[0m\n\u001B[0;32m   1323\u001B[0m \u001B[38;5;124;03mvalues: same type as the object being indexed\u001B[39;00m\n\u001B[0;32m   1324\u001B[0m \u001B[38;5;124;03m\"\"\"\u001B[39;00m\n\u001B[0;32m   1325\u001B[0m \u001B[38;5;66;03m# GH 836\u001B[39;00m\n\u001B[0;32m   1326\u001B[0m d \u001B[38;5;241m=\u001B[39m {\n\u001B[1;32m-> 1327\u001B[0m     axis: \u001B[38;5;28;43mself\u001B[39;49m\u001B[38;5;241;43m.\u001B[39;49m\u001B[43m_get_listlike_indexer\u001B[49m\u001B[43m(\u001B[49m\u001B[43mkey\u001B[49m\u001B[43m,\u001B[49m\u001B[43m \u001B[49m\u001B[43maxis\u001B[49m\u001B[43m)\u001B[49m\n\u001B[0;32m   1328\u001B[0m     \u001B[38;5;28;01mfor\u001B[39;00m (key, axis) \u001B[38;5;129;01min\u001B[39;00m \u001B[38;5;28mzip\u001B[39m(tup, \u001B[38;5;28mself\u001B[39m\u001B[38;5;241m.\u001B[39mobj\u001B[38;5;241m.\u001B[39m_AXIS_ORDERS)\n\u001B[0;32m   1329\u001B[0m }\n\u001B[0;32m   1330\u001B[0m \u001B[38;5;28;01mreturn\u001B[39;00m \u001B[38;5;28mself\u001B[39m\u001B[38;5;241m.\u001B[39mobj\u001B[38;5;241m.\u001B[39m_reindex_with_indexers(d, copy\u001B[38;5;241m=\u001B[39m\u001B[38;5;28;01mTrue\u001B[39;00m, allow_dups\u001B[38;5;241m=\u001B[39m\u001B[38;5;28;01mTrue\u001B[39;00m)\n",
      "File \u001B[1;32m~\\AppData\\Local\\Programs\\Python\\Python313\\Lib\\site-packages\\pandas\\core\\indexing.py:1558\u001B[0m, in \u001B[0;36m_LocIndexer._get_listlike_indexer\u001B[1;34m(self, key, axis)\u001B[0m\n\u001B[0;32m   1555\u001B[0m ax \u001B[38;5;241m=\u001B[39m \u001B[38;5;28mself\u001B[39m\u001B[38;5;241m.\u001B[39mobj\u001B[38;5;241m.\u001B[39m_get_axis(axis)\n\u001B[0;32m   1556\u001B[0m axis_name \u001B[38;5;241m=\u001B[39m \u001B[38;5;28mself\u001B[39m\u001B[38;5;241m.\u001B[39mobj\u001B[38;5;241m.\u001B[39m_get_axis_name(axis)\n\u001B[1;32m-> 1558\u001B[0m keyarr, indexer \u001B[38;5;241m=\u001B[39m \u001B[43max\u001B[49m\u001B[38;5;241;43m.\u001B[39;49m\u001B[43m_get_indexer_strict\u001B[49m\u001B[43m(\u001B[49m\u001B[43mkey\u001B[49m\u001B[43m,\u001B[49m\u001B[43m \u001B[49m\u001B[43maxis_name\u001B[49m\u001B[43m)\u001B[49m\n\u001B[0;32m   1560\u001B[0m \u001B[38;5;28;01mreturn\u001B[39;00m keyarr, indexer\n",
      "File \u001B[1;32m~\\AppData\\Local\\Programs\\Python\\Python313\\Lib\\site-packages\\pandas\\core\\indexes\\base.py:6200\u001B[0m, in \u001B[0;36mIndex._get_indexer_strict\u001B[1;34m(self, key, axis_name)\u001B[0m\n\u001B[0;32m   6197\u001B[0m \u001B[38;5;28;01melse\u001B[39;00m:\n\u001B[0;32m   6198\u001B[0m     keyarr, indexer, new_indexer \u001B[38;5;241m=\u001B[39m \u001B[38;5;28mself\u001B[39m\u001B[38;5;241m.\u001B[39m_reindex_non_unique(keyarr)\n\u001B[1;32m-> 6200\u001B[0m \u001B[38;5;28;43mself\u001B[39;49m\u001B[38;5;241;43m.\u001B[39;49m\u001B[43m_raise_if_missing\u001B[49m\u001B[43m(\u001B[49m\u001B[43mkeyarr\u001B[49m\u001B[43m,\u001B[49m\u001B[43m \u001B[49m\u001B[43mindexer\u001B[49m\u001B[43m,\u001B[49m\u001B[43m \u001B[49m\u001B[43maxis_name\u001B[49m\u001B[43m)\u001B[49m\n\u001B[0;32m   6202\u001B[0m keyarr \u001B[38;5;241m=\u001B[39m \u001B[38;5;28mself\u001B[39m\u001B[38;5;241m.\u001B[39mtake(indexer)\n\u001B[0;32m   6203\u001B[0m \u001B[38;5;28;01mif\u001B[39;00m \u001B[38;5;28misinstance\u001B[39m(key, Index):\n\u001B[0;32m   6204\u001B[0m     \u001B[38;5;66;03m# GH 42790 - Preserve name from an Index\u001B[39;00m\n",
      "File \u001B[1;32m~\\AppData\\Local\\Programs\\Python\\Python313\\Lib\\site-packages\\pandas\\core\\indexes\\base.py:6249\u001B[0m, in \u001B[0;36mIndex._raise_if_missing\u001B[1;34m(self, key, indexer, axis_name)\u001B[0m\n\u001B[0;32m   6247\u001B[0m \u001B[38;5;28;01mif\u001B[39;00m nmissing:\n\u001B[0;32m   6248\u001B[0m     \u001B[38;5;28;01mif\u001B[39;00m nmissing \u001B[38;5;241m==\u001B[39m \u001B[38;5;28mlen\u001B[39m(indexer):\n\u001B[1;32m-> 6249\u001B[0m         \u001B[38;5;28;01mraise\u001B[39;00m \u001B[38;5;167;01mKeyError\u001B[39;00m(\u001B[38;5;124mf\u001B[39m\u001B[38;5;124m\"\u001B[39m\u001B[38;5;124mNone of [\u001B[39m\u001B[38;5;132;01m{\u001B[39;00mkey\u001B[38;5;132;01m}\u001B[39;00m\u001B[38;5;124m] are in the [\u001B[39m\u001B[38;5;132;01m{\u001B[39;00maxis_name\u001B[38;5;132;01m}\u001B[39;00m\u001B[38;5;124m]\u001B[39m\u001B[38;5;124m\"\u001B[39m)\n\u001B[0;32m   6251\u001B[0m     not_found \u001B[38;5;241m=\u001B[39m \u001B[38;5;28mlist\u001B[39m(ensure_index(key)[missing_mask\u001B[38;5;241m.\u001B[39mnonzero()[\u001B[38;5;241m0\u001B[39m]]\u001B[38;5;241m.\u001B[39munique())\n\u001B[0;32m   6252\u001B[0m     \u001B[38;5;28;01mraise\u001B[39;00m \u001B[38;5;167;01mKeyError\u001B[39;00m(\u001B[38;5;124mf\u001B[39m\u001B[38;5;124m\"\u001B[39m\u001B[38;5;132;01m{\u001B[39;00mnot_found\u001B[38;5;132;01m}\u001B[39;00m\u001B[38;5;124m not in index\u001B[39m\u001B[38;5;124m\"\u001B[39m)\n",
      "\u001B[1;31mKeyError\u001B[0m: \"None of [Index(['air_cfdeb326418194ff'], dtype='object')] are in the [index]\""
     ]
    }
   ],
   "execution_count": 391
  },
  {
   "metadata": {
    "ExecuteTime": {
     "end_time": "2024-11-25T16:00:26.859478Z",
     "start_time": "2024-11-25T16:00:26.793865Z"
    }
   },
   "cell_type": "code",
   "source": [
    "fig, ax = plt.subplots(figsize=(8,6))\n",
    "ax.boxplot(df_air_reserve['reserve_visitors'])\n",
    "ax.set_ylabel('Стоимость')\n",
    "ax.set_title('Ящик с усами для количества забронированных пользователей (без аномалий)')"
   ],
   "id": "32281cd2187de4ff",
   "outputs": [
    {
     "data": {
      "text/plain": [
       "Text(0.5, 1.0, 'Ящик с усами для количества забронированных пользователей (без аномалий)')"
      ]
     },
     "execution_count": 24,
     "metadata": {},
     "output_type": "execute_result"
    },
    {
     "data": {
      "text/plain": [
       "<Figure size 800x600 with 1 Axes>"
      ],
      "image/png": "[encoded data removed]"
     },
     "metadata": {},
     "output_type": "display_data"
    }
   ],
   "execution_count": 24
  },
  {
   "metadata": {
    "ExecuteTime": {
     "end_time": "2024-11-25T12:38:22.020147Z",
     "start_time": "2024-11-25T12:38:22.011397Z"
    }
   },
   "cell_type": "code",
   "source": "df_air_reserve.info()",
   "id": "3e50b72604323de7",
   "outputs": [
    {
     "name": "stdout",
     "output_type": "stream",
     "text": [
      "<class 'pandas.core.frame.DataFrame'>\n",
      "RangeIndex: 64320 entries, 0 to 64319\n",
      "Data columns (total 4 columns):\n",
      " #   Column            Non-Null Count  Dtype \n",
      "---  ------            --------------  ----- \n",
      " 0   air_store_id      64320 non-null  object\n",
      " 1   visit_date        64320 non-null  object\n",
      " 2   reserve_date      64320 non-null  object\n",
      " 3   reserve_visitors  64320 non-null  int64 \n",
      "dtypes: int64(1), object(3)\n",
      "memory usage: 2.0+ MB\n"
     ]
    }
   ],
   "execution_count": 110
  },
  {
   "metadata": {
    "ExecuteTime": {
     "end_time": "2024-11-25T12:39:33.864307Z",
     "start_time": "2024-11-25T12:39:33.858348Z"
    }
   },
   "cell_type": "code",
   "source": "df_air_reserve.describe()",
   "id": "e1078d8b3d0ef589",
   "outputs": [
    {
     "data": {
      "text/plain": [
       "       reserve_visitors\n",
       "count      61152.000000\n",
       "mean           4.587667\n",
       "std            3.355636\n",
       "min            1.000000\n",
       "25%            2.000000\n",
       "50%            4.000000\n",
       "75%            6.000000\n",
       "max           79.000000"
      ],
      "text/html": [
       "<div>\n",
       "<style scoped>\n",
       "    .dataframe tbody tr th:only-of-type {\n",
       "        vertical-align: middle;\n",
       "    }\n",
       "\n",
       "    .dataframe tbody tr th {\n",
       "        vertical-align: top;\n",
       "    }\n",
       "\n",
       "    .dataframe thead th {\n",
       "        text-align: right;\n",
       "    }\n",
       "</style>\n",
       "<table border=\"1\" class=\"dataframe\">\n",
       "  <thead>\n",
       "    <tr style=\"text-align: right;\">\n",
       "      <th></th>\n",
       "      <th>reserve_visitors</th>\n",
       "    </tr>\n",
       "  </thead>\n",
       "  <tbody>\n",
       "    <tr>\n",
       "      <th>count</th>\n",
       "      <td>61152.000000</td>\n",
       "    </tr>\n",
       "    <tr>\n",
       "      <th>mean</th>\n",
       "      <td>4.587667</td>\n",
       "    </tr>\n",
       "    <tr>\n",
       "      <th>std</th>\n",
       "      <td>3.355636</td>\n",
       "    </tr>\n",
       "    <tr>\n",
       "      <th>min</th>\n",
       "      <td>1.000000</td>\n",
       "    </tr>\n",
       "    <tr>\n",
       "      <th>25%</th>\n",
       "      <td>2.000000</td>\n",
       "    </tr>\n",
       "    <tr>\n",
       "      <th>50%</th>\n",
       "      <td>4.000000</td>\n",
       "    </tr>\n",
       "    <tr>\n",
       "      <th>75%</th>\n",
       "      <td>6.000000</td>\n",
       "    </tr>\n",
       "    <tr>\n",
       "      <th>max</th>\n",
       "      <td>79.000000</td>\n",
       "    </tr>\n",
       "  </tbody>\n",
       "</table>\n",
       "</div>"
      ]
     },
     "execution_count": 118,
     "metadata": {},
     "output_type": "execute_result"
    }
   ],
   "execution_count": 118
  },
  {
   "metadata": {
    "ExecuteTime": {
     "end_time": "2024-11-25T12:19:23.533969Z",
     "start_time": "2024-11-25T12:19:23.531228Z"
    }
   },
   "cell_type": "code",
   "source": "df_air_reserve.shape",
   "id": "38e18e9a9f9d4d19",
   "outputs": [
    {
     "data": {
      "text/plain": [
       "(83304, 4)"
      ]
     },
     "execution_count": 53,
     "metadata": {},
     "output_type": "execute_result"
    }
   ],
   "execution_count": 53
  },
  {
   "metadata": {
    "ExecuteTime": {
     "end_time": "2024-11-25T12:15:13.420538Z",
     "start_time": "2024-11-25T12:15:13.416587Z"
    }
   },
   "cell_type": "code",
   "outputs": [
    {
     "data": {
      "text/plain": [
       "(67420, 4)"
      ]
     },
     "execution_count": 44,
     "metadata": {},
     "output_type": "execute_result"
    }
   ],
   "execution_count": 44,
   "source": "",
   "id": "5f1639953cc7bd6b"
  },
  {
   "metadata": {
    "ExecuteTime": {
     "end_time": "2024-11-25T12:29:47.354582Z",
     "start_time": "2024-11-25T12:29:47.347646Z"
    }
   },
   "cell_type": "code",
   "source": [
    "cols = df_air_reserve.columns\n",
    "for col in cols:\n",
    "    print(f\"Характеристика: {col}\")\n",
    "    print(\"Количество уникальных значений:\", {df_air_reserve[col].nunique()})\n",
    "    print('///////////////////////////////////////////////////')"
   ],
   "id": "57fc16d1c37d4bb7",
   "outputs": [
    {
     "name": "stdout",
     "output_type": "stream",
     "text": [
      "Характеристика: air_store_id\n",
      "Количество уникальных значений: {314}\n",
      "///////////////////////////////////////////////////\n",
      "Характеристика: visit_date\n",
      "Количество уникальных значений: {433}\n",
      "///////////////////////////////////////////////////\n",
      "Характеристика: reserve_date\n",
      "Количество уникальных значений: {476}\n",
      "///////////////////////////////////////////////////\n",
      "Характеристика: reserve_visitors\n",
      "Количество уникальных значений: {54}\n",
      "///////////////////////////////////////////////////\n"
     ]
    }
   ],
   "execution_count": 89
  },
  {
   "metadata": {},
   "cell_type": "code",
   "outputs": [],
   "execution_count": null,
   "source": "",
   "id": "30e34c9445ccf23"
  },
  {
   "metadata": {
    "ExecuteTime": {
     "end_time": "2024-11-25T11:26:25.080371Z",
     "start_time": "2024-11-25T11:26:25.075886Z"
    }
   },
   "cell_type": "code",
   "source": "",
   "id": "e596815ae4fa8bb9",
   "outputs": [],
   "execution_count": 11
  },
  {
   "metadata": {
    "ExecuteTime": {
     "end_time": "2024-11-25T11:26:27.364516Z",
     "start_time": "2024-11-25T11:26:27.360234Z"
    }
   },
   "cell_type": "code",
   "source": "",
   "id": "ddf7b28325338528",
   "outputs": [
    {
     "data": {
      "text/plain": [
       "           air_store_id  air_genre_name                 air_area_name  \\\n",
       "0  air_0f0cdeee6c9bf3d7  Italian/French  Hyōgo-ken Kōbe-shi Kumoidōri   \n",
       "1  air_7cc17a324ae5c7dc  Italian/French  Hyōgo-ken Kōbe-shi Kumoidōri   \n",
       "2  air_fee8dcf4d619598e  Italian/French  Hyōgo-ken Kōbe-shi Kumoidōri   \n",
       "3  air_a17f0778617c76e2  Italian/French  Hyōgo-ken Kōbe-shi Kumoidōri   \n",
       "4  air_83db5aff8f50478e  Italian/French  Tōkyō-to Minato-ku Shibakōen   \n",
       "\n",
       "    latitude   longitude  \n",
       "0  34.695124  135.197853  \n",
       "1  34.695124  135.197853  \n",
       "2  34.695124  135.197853  \n",
       "3  34.695124  135.197853  \n",
       "4  35.658068  139.751599  "
      ],
      "text/html": [
       "<div>\n",
       "<style scoped>\n",
       "    .dataframe tbody tr th:only-of-type {\n",
       "        vertical-align: middle;\n",
       "    }\n",
       "\n",
       "    .dataframe tbody tr th {\n",
       "        vertical-align: top;\n",
       "    }\n",
       "\n",
       "    .dataframe thead th {\n",
       "        text-align: right;\n",
       "    }\n",
       "</style>\n",
       "<table border=\"1\" class=\"dataframe\">\n",
       "  <thead>\n",
       "    <tr style=\"text-align: right;\">\n",
       "      <th></th>\n",
       "      <th>air_store_id</th>\n",
       "      <th>air_genre_name</th>\n",
       "      <th>air_area_name</th>\n",
       "      <th>latitude</th>\n",
       "      <th>longitude</th>\n",
       "    </tr>\n",
       "  </thead>\n",
       "  <tbody>\n",
       "    <tr>\n",
       "      <th>0</th>\n",
       "      <td>air_0f0cdeee6c9bf3d7</td>\n",
       "      <td>Italian/French</td>\n",
       "      <td>Hyōgo-ken Kōbe-shi Kumoidōri</td>\n",
       "      <td>34.695124</td>\n",
       "      <td>135.197853</td>\n",
       "    </tr>\n",
       "    <tr>\n",
       "      <th>1</th>\n",
       "      <td>air_7cc17a324ae5c7dc</td>\n",
       "      <td>Italian/French</td>\n",
       "      <td>Hyōgo-ken Kōbe-shi Kumoidōri</td>\n",
       "      <td>34.695124</td>\n",
       "      <td>135.197853</td>\n",
       "    </tr>\n",
       "    <tr>\n",
       "      <th>2</th>\n",
       "      <td>air_fee8dcf4d619598e</td>\n",
       "      <td>Italian/French</td>\n",
       "      <td>Hyōgo-ken Kōbe-shi Kumoidōri</td>\n",
       "      <td>34.695124</td>\n",
       "      <td>135.197853</td>\n",
       "    </tr>\n",
       "    <tr>\n",
       "      <th>3</th>\n",
       "      <td>air_a17f0778617c76e2</td>\n",
       "      <td>Italian/French</td>\n",
       "      <td>Hyōgo-ken Kōbe-shi Kumoidōri</td>\n",
       "      <td>34.695124</td>\n",
       "      <td>135.197853</td>\n",
       "    </tr>\n",
       "    <tr>\n",
       "      <th>4</th>\n",
       "      <td>air_83db5aff8f50478e</td>\n",
       "      <td>Italian/French</td>\n",
       "      <td>Tōkyō-to Minato-ku Shibakōen</td>\n",
       "      <td>35.658068</td>\n",
       "      <td>139.751599</td>\n",
       "    </tr>\n",
       "  </tbody>\n",
       "</table>\n",
       "</div>"
      ]
     },
     "execution_count": 12,
     "metadata": {},
     "output_type": "execute_result"
    }
   ],
   "execution_count": 12
  },
  {
   "metadata": {
    "ExecuteTime": {
     "end_time": "2024-11-25T11:26:30.059858Z",
     "start_time": "2024-11-25T11:26:30.055018Z"
    }
   },
   "cell_type": "code",
   "source": "",
   "id": "225c79152cf32594",
   "outputs": [
    {
     "name": "stdout",
     "output_type": "stream",
     "text": [
      "<class 'pandas.core.frame.DataFrame'>\n",
      "RangeIndex: 829 entries, 0 to 828\n",
      "Data columns (total 5 columns):\n",
      " #   Column          Non-Null Count  Dtype  \n",
      "---  ------          --------------  -----  \n",
      " 0   air_store_id    829 non-null    object \n",
      " 1   air_genre_name  829 non-null    object \n",
      " 2   air_area_name   829 non-null    object \n",
      " 3   latitude        829 non-null    float64\n",
      " 4   longitude       829 non-null    float64\n",
      "dtypes: float64(2), object(3)\n",
      "memory usage: 32.5+ KB\n"
     ]
    }
   ],
   "execution_count": 13
  },
  {
   "metadata": {
    "ExecuteTime": {
     "end_time": "2024-11-25T11:34:54.734924Z",
     "start_time": "2024-11-25T11:34:54.731894Z"
    }
   },
   "cell_type": "code",
   "source": "",
   "id": "3d612e566e87a2a5",
   "outputs": [
    {
     "data": {
      "text/plain": [
       "(829, 5)"
      ]
     },
     "execution_count": 14,
     "metadata": {},
     "output_type": "execute_result"
    }
   ],
   "execution_count": 14
  },
  {
   "metadata": {
    "ExecuteTime": {
     "end_time": "2024-11-25T11:39:23.854673Z",
     "start_time": "2024-11-25T11:39:23.851264Z"
    }
   },
   "cell_type": "code",
   "source": [
    "cols = df_air_store_info.columns\n",
    "for col in cols:\n",
    "    print(f\"Характеристика: {col}\")\n",
    "    print(\"Количество уникальных значений:\", {df_air_store_info[col].nunique()})\n",
    "    print('///////////////////////////////////////////////////')"
   ],
   "id": "ca8ffecc56981f76",
   "outputs": [
    {
     "name": "stdout",
     "output_type": "stream",
     "text": [
      "Характеристика: air_store_id\n",
      "Количество уникальных значений: {829}\n",
      "///////////////////////////////////////////////////\n",
      "Характеристика: air_genre_name\n",
      "Количество уникальных значений: {14}\n",
      "///////////////////////////////////////////////////\n",
      "Характеристика: air_area_name\n",
      "Количество уникальных значений: {103}\n",
      "///////////////////////////////////////////////////\n",
      "Характеристика: latitude\n",
      "Количество уникальных значений: {108}\n",
      "///////////////////////////////////////////////////\n",
      "Характеристика: longitude\n",
      "Количество уникальных значений: {108}\n",
      "///////////////////////////////////////////////////\n"
     ]
    }
   ],
   "execution_count": 18
  },
  {
   "metadata": {},
   "cell_type": "code",
   "outputs": [],
   "execution_count": null,
   "source": "df_air_reserve = ",
   "id": "3963b8cf95ca4ac3"
  }
 ],
 "metadata": {
  "kernelspec": {
   "display_name": "Python 3",
   "language": "python",
   "name": "python3"
  },
  "language_info": {
   "codemirror_mode": {
    "name": "ipython",
    "version": 2
   },
   "file_extension": ".py",
   "mimetype": "text/x-python",
   "name": "python",
   "nbconvert_exporter": "python",
   "pygments_lexer": "ipython2",
   "version": "2.7.6"
  }
 },
 "nbformat": 4,
 "nbformat_minor": 5
}
